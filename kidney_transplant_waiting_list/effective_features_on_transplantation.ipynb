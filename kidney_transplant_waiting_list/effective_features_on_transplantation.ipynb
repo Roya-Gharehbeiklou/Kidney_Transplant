{
  "cells": [
    {
      "attachments": {},
      "cell_type": "markdown",
      "metadata": {},
      "source": [
        "## Research Question:\n",
        "- What are the effects of smoking, diabetes, BMI, and type of dialysis on the mortality after a kideny transplant. \n",
        "### Two datasets are considered: \n",
        "- First data set: \n",
        "[Long-term outcomes and prognostic factors in kidney transplant recipients in Jakarta, Indonesia: a cohort study](https://zenodo.org/record/6916430#.Y-kH8OzMJb_)\n",
        "    - In this dataset, there are 754 participants consecutive adult recipients who underwent KT between 2010 and 2020. Rates of 10-year patient, all-cause and death-censored graft survival and their prognostic factors in KT recipients.\n",
        "    <p>\n",
        "\n",
        "- Second data set:\n",
        "[The benefit of kidney transplantation versus remaining on the waitlist depends on patients' baseline comorbidities: a retrospective study](https://zenodo.org/record/4086554#.Y-kIo-zMJb_)\n",
        "\n",
        "    - 1692 patients were included in the study. Patients without comorbidities had the relative HRD 3-fold higher, immediately after kidney transplantation\n"
      ]
    },
    {
      "attachments": {},
      "cell_type": "markdown",
      "metadata": {},
      "source": [
        "### Importing the needed modules"
      ]
    },
    {
      "cell_type": "code",
      "execution_count": 1,
      "metadata": {},
      "outputs": [
        {
          "data": {
            "text/html": [
              "    <style>\n",
              "        .bk-notebook-logo {\n",
              "            display: block;\n",
              "            width: 20px;\n",
              "            height: 20px;\n",
              "            background-image: url(data:image/png;base64,iVBORw0KGgoAAAANSUhEUgAAABQAAAAUCAYAAACNiR0NAAAABHNCSVQICAgIfAhkiAAAAAlwSFlzAAALEgAACxIB0t1+/AAAABx0RVh0U29mdHdhcmUAQWRvYmUgRmlyZXdvcmtzIENTNui8sowAAAOkSURBVDiNjZRtaJVlGMd/1/08zzln5zjP1LWcU9N0NkN8m2CYjpgQYQXqSs0I84OLIC0hkEKoPtiH3gmKoiJDU7QpLgoLjLIQCpEsNJ1vqUOdO7ppbuec5+V+rj4ctwzd8IIbbi6u+8f1539dt3A78eXC7QizUF7gyV1fD1Yqg4JWz84yffhm0qkFqBogB9rM8tZdtwVsPUhWhGcFJngGeWrPzHm5oaMmkfEg1usvLFyc8jLRqDOMru7AyC8saQr7GG7f5fvDeH7Ej8CM66nIF+8yngt6HWaKh7k49Soy9nXurCi1o3qUbS3zWfrYeQDTB/Qj6kX6Ybhw4B+bOYoLKCC9H3Nu/leUTZ1JdRWkkn2ldcCamzrcf47KKXdAJllSlxAOkRgyHsGC/zRday5Qld9DyoM4/q/rUoy/CXh3jzOu3bHUVZeU+DEn8FInkPBFlu3+nW3Nw0mk6vCDiWg8CeJaxEwuHS3+z5RgY+YBR6V1Z1nxSOfoaPa4LASWxxdNp+VWTk7+4vzaou8v8PN+xo+KY2xsw6une2frhw05CTYOmQvsEhjhWjn0bmXPjpE1+kplmmkP3suftwTubK9Vq22qKmrBhpY4jvd5afdRA3wGjFAgcnTK2s4hY0/GPNIb0nErGMCRxWOOX64Z8RAC4oCXdklmEvcL8o0BfkNK4lUg9HTl+oPlQxdNo3Mg4Nv175e/1LDGzZen30MEjRUtmXSfiTVu1kK8W4txyV6BMKlbgk3lMwYCiusNy9fVfvvwMxv8Ynl6vxoByANLTWplvuj/nF9m2+PDtt1eiHPBr1oIfhCChQMBw6Aw0UulqTKZdfVvfG7VcfIqLG9bcldL/+pdWTLxLUy8Qq38heUIjh4XlzZxzQm19lLFlr8vdQ97rjZVOLf8nclzckbcD4wxXMidpX30sFd37Fv/GtwwhzhxGVAprjbg0gCAEeIgwCZyTV2Z1REEW8O4py0wsjeloKoMr6iCY6dP92H6Vw/oTyICIthibxjm/DfN9lVz8IqtqKYLUXfoKVMVQVVJOElGjrnnUt9T9wbgp8AyYKaGlqingHZU/uG2NTZSVqwHQTWkx9hxjkpWDaCg6Ckj5qebgBVbT3V3NNXMSiWSDdGV3hrtzla7J+duwPOToIg42ChPQOQjspnSlp1V+Gjdged7+8UN5CRAV7a5EdFNwCjEaBR27b3W890TE7g24NAP/mMDXRWrGoFPQI9ls/MWO2dWFAar/xcOIImbbpA3zgAAAABJRU5ErkJggg==);\n",
              "        }\n",
              "    </style>\n",
              "    <div>\n",
              "        <a href=\"https://bokeh.org\" target=\"_blank\" class=\"bk-notebook-logo\"></a>\n",
              "        <span id=\"c05e2e84-00ba-4282-bf19-2d5ef0be9971\">Loading BokehJS ...</span>\n",
              "    </div>\n"
            ]
          },
          "metadata": {},
          "output_type": "display_data"
        },
        {
          "data": {
            "application/javascript": "'use strict';\n(function(root) {\n  function now() {\n    return new Date();\n  }\n\n  const force = true;\n\n  if (typeof root._bokeh_onload_callbacks === \"undefined\" || force === true) {\n    root._bokeh_onload_callbacks = [];\n    root._bokeh_is_loading = undefined;\n  }\n\nconst JS_MIME_TYPE = 'application/javascript';\n  const HTML_MIME_TYPE = 'text/html';\n  const EXEC_MIME_TYPE = 'application/vnd.bokehjs_exec.v0+json';\n  const CLASS_NAME = 'output_bokeh rendered_html';\n\n  /**\n   * Render data to the DOM node\n   */\n  function render(props, node) {\n    const script = document.createElement(\"script\");\n    node.appendChild(script);\n  }\n\n  /**\n   * Handle when an output is cleared or removed\n   */\n  function handleClearOutput(event, handle) {\n    function drop(id) {\n      const view = Bokeh.index.get_by_id(id)\n      if (view != null) {\n        view.model.document.clear()\n        Bokeh.index.delete(view)\n      }\n    }\n\n    const cell = handle.cell;\n\n    const id = cell.output_area._bokeh_element_id;\n    const server_id = cell.output_area._bokeh_server_id;\n\n    // Clean up Bokeh references\n    if (id != null) {\n      drop(id)\n    }\n\n    if (server_id !== undefined) {\n      // Clean up Bokeh references\n      const cmd_clean = \"from bokeh.io.state import curstate; print(curstate().uuid_to_server['\" + server_id + \"'].get_sessions()[0].document.roots[0]._id)\";\n      cell.notebook.kernel.execute(cmd_clean, {\n        iopub: {\n          output: function(msg) {\n            const id = msg.content.text.trim()\n            drop(id)\n          }\n        }\n      });\n      // Destroy server and session\n      const cmd_destroy = \"import bokeh.io.notebook as ion; ion.destroy_server('\" + server_id + \"')\";\n      cell.notebook.kernel.execute(cmd_destroy);\n    }\n  }\n\n  /**\n   * Handle when a new output is added\n   */\n  function handleAddOutput(event, handle) {\n    const output_area = handle.output_area;\n    const output = handle.output;\n\n    // limit handleAddOutput to display_data with EXEC_MIME_TYPE content only\n    if ((output.output_type != \"display_data\") || (!Object.prototype.hasOwnProperty.call(output.data, EXEC_MIME_TYPE))) {\n      return\n    }\n\n    const toinsert = output_area.element.find(\".\" + CLASS_NAME.split(' ')[0]);\n\n    if (output.metadata[EXEC_MIME_TYPE][\"id\"] !== undefined) {\n      toinsert[toinsert.length - 1].firstChild.textContent = output.data[JS_MIME_TYPE];\n      // store reference to embed id on output_area\n      output_area._bokeh_element_id = output.metadata[EXEC_MIME_TYPE][\"id\"];\n    }\n    if (output.metadata[EXEC_MIME_TYPE][\"server_id\"] !== undefined) {\n      const bk_div = document.createElement(\"div\");\n      bk_div.innerHTML = output.data[HTML_MIME_TYPE];\n      const script_attrs = bk_div.children[0].attributes;\n      for (let i = 0; i < script_attrs.length; i++) {\n        toinsert[toinsert.length - 1].firstChild.setAttribute(script_attrs[i].name, script_attrs[i].value);\n        toinsert[toinsert.length - 1].firstChild.textContent = bk_div.children[0].textContent\n      }\n      // store reference to server id on output_area\n      output_area._bokeh_server_id = output.metadata[EXEC_MIME_TYPE][\"server_id\"];\n    }\n  }\n\n  function register_renderer(events, OutputArea) {\n\n    function append_mime(data, metadata, element) {\n      // create a DOM node to render to\n      const toinsert = this.create_output_subarea(\n        metadata,\n        CLASS_NAME,\n        EXEC_MIME_TYPE\n      );\n      this.keyboard_manager.register_events(toinsert);\n      // Render to node\n      const props = {data: data, metadata: metadata[EXEC_MIME_TYPE]};\n      render(props, toinsert[toinsert.length - 1]);\n      element.append(toinsert);\n      return toinsert\n    }\n\n    /* Handle when an output is cleared or removed */\n    events.on('clear_output.CodeCell', handleClearOutput);\n    events.on('delete.Cell', handleClearOutput);\n\n    /* Handle when a new output is added */\n    events.on('output_added.OutputArea', handleAddOutput);\n\n    /**\n     * Register the mime type and append_mime function with output_area\n     */\n    OutputArea.prototype.register_mime_type(EXEC_MIME_TYPE, append_mime, {\n      /* Is output safe? */\n      safe: true,\n      /* Index of renderer in `output_area.display_order` */\n      index: 0\n    });\n  }\n\n  // register the mime type if in Jupyter Notebook environment and previously unregistered\n  if (root.Jupyter !== undefined) {\n    const events = require('base/js/events');\n    const OutputArea = require('notebook/js/outputarea').OutputArea;\n\n    if (OutputArea.prototype.mime_types().indexOf(EXEC_MIME_TYPE) == -1) {\n      register_renderer(events, OutputArea);\n    }\n  }\n  if (typeof (root._bokeh_timeout) === \"undefined\" || force === true) {\n    root._bokeh_timeout = Date.now() + 5000;\n    root._bokeh_failed_load = false;\n  }\n\n  const NB_LOAD_WARNING = {'data': {'text/html':\n     \"<div style='background-color: #fdd'>\\n\"+\n     \"<p>\\n\"+\n     \"BokehJS does not appear to have successfully loaded. If loading BokehJS from CDN, this \\n\"+\n     \"may be due to a slow or bad network connection. Possible fixes:\\n\"+\n     \"</p>\\n\"+\n     \"<ul>\\n\"+\n     \"<li>re-rerun `output_notebook()` to attempt to load from CDN again, or</li>\\n\"+\n     \"<li>use INLINE resources instead, as so:</li>\\n\"+\n     \"</ul>\\n\"+\n     \"<code>\\n\"+\n     \"from bokeh.resources import INLINE\\n\"+\n     \"output_notebook(resources=INLINE)\\n\"+\n     \"</code>\\n\"+\n     \"</div>\"}};\n\n  function display_loaded(error = null) {\n    const el = document.getElementById(\"c05e2e84-00ba-4282-bf19-2d5ef0be9971\");\n    if (el != null) {\n      const html = (() => {\n        if (typeof root.Bokeh === \"undefined\") {\n          if (error == null) {\n            return \"BokehJS is loading ...\";\n          } else {\n            return \"BokehJS failed to load.\";\n          }\n        } else {\n          const prefix = `BokehJS ${root.Bokeh.version}`;\n          if (error == null) {\n            return `${prefix} successfully loaded.`;\n          } else {\n            return `${prefix} <b>encountered errors</b> while loading and may not function as expected.`;\n          }\n        }\n      })();\n      el.innerHTML = html;\n\n      if (error != null) {\n        const wrapper = document.createElement(\"div\");\n        wrapper.style.overflow = \"auto\";\n        wrapper.style.height = \"5em\";\n        wrapper.style.resize = \"vertical\";\n        const content = document.createElement(\"div\");\n        content.style.fontFamily = \"monospace\";\n        content.style.whiteSpace = \"pre-wrap\";\n        content.style.backgroundColor = \"rgb(255, 221, 221)\";\n        content.textContent = error.stack ?? error.toString();\n        wrapper.append(content);\n        el.append(wrapper);\n      }\n    } else if (Date.now() < root._bokeh_timeout) {\n      setTimeout(() => display_loaded(error), 100);\n    }\n  }\n\n  function run_callbacks() {\n    try {\n      root._bokeh_onload_callbacks.forEach(function(callback) {\n        if (callback != null)\n          callback();\n      });\n    } finally {\n      delete root._bokeh_onload_callbacks\n    }\n    console.debug(\"Bokeh: all callbacks have finished\");\n  }\n\n  function load_libs(css_urls, js_urls, callback) {\n    if (css_urls == null) css_urls = [];\n    if (js_urls == null) js_urls = [];\n\n    root._bokeh_onload_callbacks.push(callback);\n    if (root._bokeh_is_loading > 0) {\n      console.debug(\"Bokeh: BokehJS is being loaded, scheduling callback at\", now());\n      return null;\n    }\n    if (js_urls == null || js_urls.length === 0) {\n      run_callbacks();\n      return null;\n    }\n    console.debug(\"Bokeh: BokehJS not loaded, scheduling load and callback at\", now());\n    root._bokeh_is_loading = css_urls.length + js_urls.length;\n\n    function on_load() {\n      root._bokeh_is_loading--;\n      if (root._bokeh_is_loading === 0) {\n        console.debug(\"Bokeh: all BokehJS libraries/stylesheets loaded\");\n        run_callbacks()\n      }\n    }\n\n    function on_error(url) {\n      console.error(\"failed to load \" + url);\n    }\n\n    for (let i = 0; i < css_urls.length; i++) {\n      const url = css_urls[i];\n      const element = document.createElement(\"link\");\n      element.onload = on_load;\n      element.onerror = on_error.bind(null, url);\n      element.rel = \"stylesheet\";\n      element.type = \"text/css\";\n      element.href = url;\n      console.debug(\"Bokeh: injecting link tag for BokehJS stylesheet: \", url);\n      document.body.appendChild(element);\n    }\n\n    for (let i = 0; i < js_urls.length; i++) {\n      const url = js_urls[i];\n      const element = document.createElement('script');\n      element.onload = on_load;\n      element.onerror = on_error.bind(null, url);\n      element.async = false;\n      element.src = url;\n      console.debug(\"Bokeh: injecting script tag for BokehJS library: \", url);\n      document.head.appendChild(element);\n    }\n  };\n\n  function inject_raw_css(css) {\n    const element = document.createElement(\"style\");\n    element.appendChild(document.createTextNode(css));\n    document.body.appendChild(element);\n  }\n\n  const js_urls = [\"https://cdn.bokeh.org/bokeh/release/bokeh-3.4.1.min.js\", \"https://cdn.bokeh.org/bokeh/release/bokeh-gl-3.4.1.min.js\", \"https://cdn.bokeh.org/bokeh/release/bokeh-widgets-3.4.1.min.js\", \"https://cdn.bokeh.org/bokeh/release/bokeh-tables-3.4.1.min.js\", \"https://cdn.bokeh.org/bokeh/release/bokeh-mathjax-3.4.1.min.js\", \"https://unpkg.com/@holoviz/panel@1.4.3/dist/panel.min.js\"];\n  const css_urls = [];\n\n  const inline_js = [    function(Bokeh) {\n      Bokeh.set_log_level(\"info\");\n    },\nfunction(Bokeh) {\n    }\n  ];\n\n  function run_inline_js() {\n    if (root.Bokeh !== undefined || force === true) {\n      try {\n            for (let i = 0; i < inline_js.length; i++) {\n      inline_js[i].call(root, root.Bokeh);\n    }\n\n      } catch (error) {display_loaded(error);throw error;\n      }if (force === true) {\n        display_loaded();\n      }} else if (Date.now() < root._bokeh_timeout) {\n      setTimeout(run_inline_js, 100);\n    } else if (!root._bokeh_failed_load) {\n      console.log(\"Bokeh: BokehJS failed to load within specified timeout.\");\n      root._bokeh_failed_load = true;\n    } else if (force !== true) {\n      const cell = $(document.getElementById(\"c05e2e84-00ba-4282-bf19-2d5ef0be9971\")).parents('.cell').data().cell;\n      cell.output_area.append_execute_result(NB_LOAD_WARNING)\n    }\n  }\n\n  if (root._bokeh_is_loading === 0) {\n    console.debug(\"Bokeh: BokehJS loaded, going straight to plotting\");\n    run_inline_js();\n  } else {\n    load_libs(css_urls, js_urls, function() {\n      console.debug(\"Bokeh: BokehJS plotting callback run at\", now());\n      run_inline_js();\n    });\n  }\n}(window));",
            "application/vnd.bokehjs_load.v0+json": ""
          },
          "metadata": {},
          "output_type": "display_data"
        },
        {
          "data": {
            "application/javascript": "(function(root) {\n  function now() {\n    return new Date();\n  }\n\n  var force = true;\n  var py_version = '3.4.1'.replace('rc', '-rc.').replace('.dev', '-dev.');\n  var reloading = false;\n  var Bokeh = root.Bokeh;\n\n  if (typeof (root._bokeh_timeout) === \"undefined\" || force) {\n    root._bokeh_timeout = Date.now() + 5000;\n    root._bokeh_failed_load = false;\n  }\n\n  function run_callbacks() {\n    try {\n      root._bokeh_onload_callbacks.forEach(function(callback) {\n        if (callback != null)\n          callback();\n      });\n    } finally {\n      delete root._bokeh_onload_callbacks;\n    }\n    console.debug(\"Bokeh: all callbacks have finished\");\n  }\n\n  function load_libs(css_urls, js_urls, js_modules, js_exports, callback) {\n    if (css_urls == null) css_urls = [];\n    if (js_urls == null) js_urls = [];\n    if (js_modules == null) js_modules = [];\n    if (js_exports == null) js_exports = {};\n\n    root._bokeh_onload_callbacks.push(callback);\n\n    if (root._bokeh_is_loading > 0) {\n      console.debug(\"Bokeh: BokehJS is being loaded, scheduling callback at\", now());\n      return null;\n    }\n    if (js_urls.length === 0 && js_modules.length === 0 && Object.keys(js_exports).length === 0) {\n      run_callbacks();\n      return null;\n    }\n    if (!reloading) {\n      console.debug(\"Bokeh: BokehJS not loaded, scheduling load and callback at\", now());\n    }\n\n    function on_load() {\n      root._bokeh_is_loading--;\n      if (root._bokeh_is_loading === 0) {\n        console.debug(\"Bokeh: all BokehJS libraries/stylesheets loaded\");\n        run_callbacks()\n      }\n    }\n    window._bokeh_on_load = on_load\n\n    function on_error() {\n      console.error(\"failed to load \" + url);\n    }\n\n    var skip = [];\n    if (window.requirejs) {\n      window.requirejs.config({'packages': {}, 'paths': {}, 'shim': {}});\n      root._bokeh_is_loading = css_urls.length + 0;\n    } else {\n      root._bokeh_is_loading = css_urls.length + js_urls.length + js_modules.length + Object.keys(js_exports).length;\n    }\n\n    var existing_stylesheets = []\n    var links = document.getElementsByTagName('link')\n    for (var i = 0; i < links.length; i++) {\n      var link = links[i]\n      if (link.href != null) {\n\texisting_stylesheets.push(link.href)\n      }\n    }\n    for (var i = 0; i < css_urls.length; i++) {\n      var url = css_urls[i];\n      if (existing_stylesheets.indexOf(url) !== -1) {\n\ton_load()\n\tcontinue;\n      }\n      const element = document.createElement(\"link\");\n      element.onload = on_load;\n      element.onerror = on_error;\n      element.rel = \"stylesheet\";\n      element.type = \"text/css\";\n      element.href = url;\n      console.debug(\"Bokeh: injecting link tag for BokehJS stylesheet: \", url);\n      document.body.appendChild(element);\n    }    var existing_scripts = []\n    var scripts = document.getElementsByTagName('script')\n    for (var i = 0; i < scripts.length; i++) {\n      var script = scripts[i]\n      if (script.src != null) {\n\texisting_scripts.push(script.src)\n      }\n    }\n    for (var i = 0; i < js_urls.length; i++) {\n      var url = js_urls[i];\n      if (skip.indexOf(url) !== -1 || existing_scripts.indexOf(url) !== -1) {\n\tif (!window.requirejs) {\n\t  on_load();\n\t}\n\tcontinue;\n      }\n      var element = document.createElement('script');\n      element.onload = on_load;\n      element.onerror = on_error;\n      element.async = false;\n      element.src = url;\n      console.debug(\"Bokeh: injecting script tag for BokehJS library: \", url);\n      document.head.appendChild(element);\n    }\n    for (var i = 0; i < js_modules.length; i++) {\n      var url = js_modules[i];\n      if (skip.indexOf(url) !== -1 || existing_scripts.indexOf(url) !== -1) {\n\tif (!window.requirejs) {\n\t  on_load();\n\t}\n\tcontinue;\n      }\n      var element = document.createElement('script');\n      element.onload = on_load;\n      element.onerror = on_error;\n      element.async = false;\n      element.src = url;\n      element.type = \"module\";\n      console.debug(\"Bokeh: injecting script tag for BokehJS library: \", url);\n      document.head.appendChild(element);\n    }\n    for (const name in js_exports) {\n      var url = js_exports[name];\n      if (skip.indexOf(url) >= 0 || root[name] != null) {\n\tif (!window.requirejs) {\n\t  on_load();\n\t}\n\tcontinue;\n      }\n      var element = document.createElement('script');\n      element.onerror = on_error;\n      element.async = false;\n      element.type = \"module\";\n      console.debug(\"Bokeh: injecting script tag for BokehJS library: \", url);\n      element.textContent = `\n      import ${name} from \"${url}\"\n      window.${name} = ${name}\n      window._bokeh_on_load()\n      `\n      document.head.appendChild(element);\n    }\n    if (!js_urls.length && !js_modules.length) {\n      on_load()\n    }\n  };\n\n  function inject_raw_css(css) {\n    const element = document.createElement(\"style\");\n    element.appendChild(document.createTextNode(css));\n    document.body.appendChild(element);\n  }\n\n  var js_urls = [\"https://cdn.bokeh.org/bokeh/release/bokeh-3.4.1.min.js\", \"https://cdn.bokeh.org/bokeh/release/bokeh-gl-3.4.1.min.js\", \"https://cdn.bokeh.org/bokeh/release/bokeh-widgets-3.4.1.min.js\", \"https://cdn.bokeh.org/bokeh/release/bokeh-tables-3.4.1.min.js\", \"https://cdn.holoviz.org/panel/1.4.3/dist/panel.min.js\"];\n  var js_modules = [];\n  var js_exports = {};\n  var css_urls = [];\n  var inline_js = [    function(Bokeh) {\n      Bokeh.set_log_level(\"info\");\n    },\nfunction(Bokeh) {} // ensure no trailing comma for IE\n  ];\n\n  function run_inline_js() {\n    if ((root.Bokeh !== undefined) || (force === true)) {\n      for (var i = 0; i < inline_js.length; i++) {\n\ttry {\n          inline_js[i].call(root, root.Bokeh);\n\t} catch(e) {\n\t  if (!reloading) {\n\t    throw e;\n\t  }\n\t}\n      }\n      // Cache old bokeh versions\n      if (Bokeh != undefined && !reloading) {\n\tvar NewBokeh = root.Bokeh;\n\tif (Bokeh.versions === undefined) {\n\t  Bokeh.versions = new Map();\n\t}\n\tif (NewBokeh.version !== Bokeh.version) {\n\t  Bokeh.versions.set(NewBokeh.version, NewBokeh)\n\t}\n\troot.Bokeh = Bokeh;\n      }} else if (Date.now() < root._bokeh_timeout) {\n      setTimeout(run_inline_js, 100);\n    } else if (!root._bokeh_failed_load) {\n      console.log(\"Bokeh: BokehJS failed to load within specified timeout.\");\n      root._bokeh_failed_load = true;\n    }\n    root._bokeh_is_initializing = false\n  }\n\n  function load_or_wait() {\n    // Implement a backoff loop that tries to ensure we do not load multiple\n    // versions of Bokeh and its dependencies at the same time.\n    // In recent versions we use the root._bokeh_is_initializing flag\n    // to determine whether there is an ongoing attempt to initialize\n    // bokeh, however for backward compatibility we also try to ensure\n    // that we do not start loading a newer (Panel>=1.0 and Bokeh>3) version\n    // before older versions are fully initialized.\n    if (root._bokeh_is_initializing && Date.now() > root._bokeh_timeout) {\n      root._bokeh_is_initializing = false;\n      root._bokeh_onload_callbacks = undefined;\n      console.log(\"Bokeh: BokehJS was loaded multiple times but one version failed to initialize.\");\n      load_or_wait();\n    } else if (root._bokeh_is_initializing || (typeof root._bokeh_is_initializing === \"undefined\" && root._bokeh_onload_callbacks !== undefined)) {\n      setTimeout(load_or_wait, 100);\n    } else {\n      root._bokeh_is_initializing = true\n      root._bokeh_onload_callbacks = []\n      var bokeh_loaded = Bokeh != null && (Bokeh.version === py_version || (Bokeh.versions !== undefined && Bokeh.versions.has(py_version)));\n      if (!reloading && !bokeh_loaded) {\n\troot.Bokeh = undefined;\n      }\n      load_libs(css_urls, js_urls, js_modules, js_exports, function() {\n\tconsole.debug(\"Bokeh: BokehJS plotting callback run at\", now());\n\trun_inline_js();\n      });\n    }\n  }\n  // Give older versions of the autoload script a head-start to ensure\n  // they initialize before we start loading newer version.\n  setTimeout(load_or_wait, 100)\n}(window));",
            "application/vnd.holoviews_load.v0+json": ""
          },
          "metadata": {},
          "output_type": "display_data"
        },
        {
          "data": {
            "application/javascript": "\nif ((window.PyViz === undefined) || (window.PyViz instanceof HTMLElement)) {\n  window.PyViz = {comms: {}, comm_status:{}, kernels:{}, receivers: {}, plot_index: []}\n}\n\n\n    function JupyterCommManager() {\n    }\n\n    JupyterCommManager.prototype.register_target = function(plot_id, comm_id, msg_handler) {\n      if (window.comm_manager || ((window.Jupyter !== undefined) && (Jupyter.notebook.kernel != null))) {\n        var comm_manager = window.comm_manager || Jupyter.notebook.kernel.comm_manager;\n        comm_manager.register_target(comm_id, function(comm) {\n          comm.on_msg(msg_handler);\n        });\n      } else if ((plot_id in window.PyViz.kernels) && (window.PyViz.kernels[plot_id])) {\n        window.PyViz.kernels[plot_id].registerCommTarget(comm_id, function(comm) {\n          comm.onMsg = msg_handler;\n        });\n      } else if (typeof google != 'undefined' && google.colab.kernel != null) {\n        google.colab.kernel.comms.registerTarget(comm_id, (comm) => {\n          var messages = comm.messages[Symbol.asyncIterator]();\n          function processIteratorResult(result) {\n            var message = result.value;\n            console.log(message)\n            var content = {data: message.data, comm_id};\n            var buffers = []\n            for (var buffer of message.buffers || []) {\n              buffers.push(new DataView(buffer))\n            }\n            var metadata = message.metadata || {};\n            var msg = {content, buffers, metadata}\n            msg_handler(msg);\n            return messages.next().then(processIteratorResult);\n          }\n          return messages.next().then(processIteratorResult);\n        })\n      }\n    }\n\n    JupyterCommManager.prototype.get_client_comm = function(plot_id, comm_id, msg_handler) {\n      if (comm_id in window.PyViz.comms) {\n        return window.PyViz.comms[comm_id];\n      } else if (window.comm_manager || ((window.Jupyter !== undefined) && (Jupyter.notebook.kernel != null))) {\n        var comm_manager = window.comm_manager || Jupyter.notebook.kernel.comm_manager;\n        var comm = comm_manager.new_comm(comm_id, {}, {}, {}, comm_id);\n        if (msg_handler) {\n          comm.on_msg(msg_handler);\n        }\n      } else if ((plot_id in window.PyViz.kernels) && (window.PyViz.kernels[plot_id])) {\n        var comm = window.PyViz.kernels[plot_id].connectToComm(comm_id);\n        comm.open();\n        if (msg_handler) {\n          comm.onMsg = msg_handler;\n        }\n      } else if (typeof google != 'undefined' && google.colab.kernel != null) {\n        var comm_promise = google.colab.kernel.comms.open(comm_id)\n        comm_promise.then((comm) => {\n          window.PyViz.comms[comm_id] = comm;\n          if (msg_handler) {\n            var messages = comm.messages[Symbol.asyncIterator]();\n            function processIteratorResult(result) {\n              var message = result.value;\n              var content = {data: message.data};\n              var metadata = message.metadata || {comm_id};\n              var msg = {content, metadata}\n              msg_handler(msg);\n              return messages.next().then(processIteratorResult);\n            }\n            return messages.next().then(processIteratorResult);\n          }\n        }) \n        var sendClosure = (data, metadata, buffers, disposeOnDone) => {\n          return comm_promise.then((comm) => {\n            comm.send(data, metadata, buffers, disposeOnDone);\n          });\n        };\n        var comm = {\n          send: sendClosure\n        };\n      }\n      window.PyViz.comms[comm_id] = comm;\n      return comm;\n    }\n    window.PyViz.comm_manager = new JupyterCommManager();\n    \n\n\nvar JS_MIME_TYPE = 'application/javascript';\nvar HTML_MIME_TYPE = 'text/html';\nvar EXEC_MIME_TYPE = 'application/vnd.holoviews_exec.v0+json';\nvar CLASS_NAME = 'output';\n\n/**\n * Render data to the DOM node\n */\nfunction render(props, node) {\n  var div = document.createElement(\"div\");\n  var script = document.createElement(\"script\");\n  node.appendChild(div);\n  node.appendChild(script);\n}\n\n/**\n * Handle when a new output is added\n */\nfunction handle_add_output(event, handle) {\n  var output_area = handle.output_area;\n  var output = handle.output;\n  if ((output.data == undefined) || (!output.data.hasOwnProperty(EXEC_MIME_TYPE))) {\n    return\n  }\n  var id = output.metadata[EXEC_MIME_TYPE][\"id\"];\n  var toinsert = output_area.element.find(\".\" + CLASS_NAME.split(' ')[0]);\n  if (id !== undefined) {\n    var nchildren = toinsert.length;\n    var html_node = toinsert[nchildren-1].children[0];\n    html_node.innerHTML = output.data[HTML_MIME_TYPE];\n    var scripts = [];\n    var nodelist = html_node.querySelectorAll(\"script\");\n    for (var i in nodelist) {\n      if (nodelist.hasOwnProperty(i)) {\n        scripts.push(nodelist[i])\n      }\n    }\n\n    scripts.forEach( function (oldScript) {\n      var newScript = document.createElement(\"script\");\n      var attrs = [];\n      var nodemap = oldScript.attributes;\n      for (var j in nodemap) {\n        if (nodemap.hasOwnProperty(j)) {\n          attrs.push(nodemap[j])\n        }\n      }\n      attrs.forEach(function(attr) { newScript.setAttribute(attr.name, attr.value) });\n      newScript.appendChild(document.createTextNode(oldScript.innerHTML));\n      oldScript.parentNode.replaceChild(newScript, oldScript);\n    });\n    if (JS_MIME_TYPE in output.data) {\n      toinsert[nchildren-1].children[1].textContent = output.data[JS_MIME_TYPE];\n    }\n    output_area._hv_plot_id = id;\n    if ((window.Bokeh !== undefined) && (id in Bokeh.index)) {\n      window.PyViz.plot_index[id] = Bokeh.index[id];\n    } else {\n      window.PyViz.plot_index[id] = null;\n    }\n  } else if (output.metadata[EXEC_MIME_TYPE][\"server_id\"] !== undefined) {\n    var bk_div = document.createElement(\"div\");\n    bk_div.innerHTML = output.data[HTML_MIME_TYPE];\n    var script_attrs = bk_div.children[0].attributes;\n    for (var i = 0; i < script_attrs.length; i++) {\n      toinsert[toinsert.length - 1].childNodes[1].setAttribute(script_attrs[i].name, script_attrs[i].value);\n    }\n    // store reference to server id on output_area\n    output_area._bokeh_server_id = output.metadata[EXEC_MIME_TYPE][\"server_id\"];\n  }\n}\n\n/**\n * Handle when an output is cleared or removed\n */\nfunction handle_clear_output(event, handle) {\n  var id = handle.cell.output_area._hv_plot_id;\n  var server_id = handle.cell.output_area._bokeh_server_id;\n  if (((id === undefined) || !(id in PyViz.plot_index)) && (server_id !== undefined)) { return; }\n  var comm = window.PyViz.comm_manager.get_client_comm(\"hv-extension-comm\", \"hv-extension-comm\", function () {});\n  if (server_id !== null) {\n    comm.send({event_type: 'server_delete', 'id': server_id});\n    return;\n  } else if (comm !== null) {\n    comm.send({event_type: 'delete', 'id': id});\n  }\n  delete PyViz.plot_index[id];\n  if ((window.Bokeh !== undefined) & (id in window.Bokeh.index)) {\n    var doc = window.Bokeh.index[id].model.document\n    doc.clear();\n    const i = window.Bokeh.documents.indexOf(doc);\n    if (i > -1) {\n      window.Bokeh.documents.splice(i, 1);\n    }\n  }\n}\n\n/**\n * Handle kernel restart event\n */\nfunction handle_kernel_cleanup(event, handle) {\n  delete PyViz.comms[\"hv-extension-comm\"];\n  window.PyViz.plot_index = {}\n}\n\n/**\n * Handle update_display_data messages\n */\nfunction handle_update_output(event, handle) {\n  handle_clear_output(event, {cell: {output_area: handle.output_area}})\n  handle_add_output(event, handle)\n}\n\nfunction register_renderer(events, OutputArea) {\n  function append_mime(data, metadata, element) {\n    // create a DOM node to render to\n    var toinsert = this.create_output_subarea(\n    metadata,\n    CLASS_NAME,\n    EXEC_MIME_TYPE\n    );\n    this.keyboard_manager.register_events(toinsert);\n    // Render to node\n    var props = {data: data, metadata: metadata[EXEC_MIME_TYPE]};\n    render(props, toinsert[0]);\n    element.append(toinsert);\n    return toinsert\n  }\n\n  events.on('output_added.OutputArea', handle_add_output);\n  events.on('output_updated.OutputArea', handle_update_output);\n  events.on('clear_output.CodeCell', handle_clear_output);\n  events.on('delete.Cell', handle_clear_output);\n  events.on('kernel_ready.Kernel', handle_kernel_cleanup);\n\n  OutputArea.prototype.register_mime_type(EXEC_MIME_TYPE, append_mime, {\n    safe: true,\n    index: 0\n  });\n}\n\nif (window.Jupyter !== undefined) {\n  try {\n    var events = require('base/js/events');\n    var OutputArea = require('notebook/js/outputarea').OutputArea;\n    if (OutputArea.prototype.mime_types().indexOf(EXEC_MIME_TYPE) == -1) {\n      register_renderer(events, OutputArea);\n    }\n  } catch(err) {\n  }\n}\n",
            "application/vnd.holoviews_load.v0+json": ""
          },
          "metadata": {},
          "output_type": "display_data"
        },
        {
          "data": {
            "text/html": [
              "<style>*[data-root-id],\n",
              "*[data-root-id] > * {\n",
              "  box-sizing: border-box;\n",
              "  font-family: var(--jp-ui-font-family);\n",
              "  font-size: var(--jp-ui-font-size1);\n",
              "  color: var(--vscode-editor-foreground, var(--jp-ui-font-color1));\n",
              "}\n",
              "\n",
              "/* Override VSCode background color */\n",
              ".cell-output-ipywidget-background:has(\n",
              "    > .cell-output-ipywidget-background > .lm-Widget > *[data-root-id]\n",
              "  ),\n",
              ".cell-output-ipywidget-background:has(> .lm-Widget > *[data-root-id]) {\n",
              "  background-color: transparent !important;\n",
              "}\n",
              "</style>"
            ]
          },
          "metadata": {},
          "output_type": "display_data"
        },
        {
          "data": {
            "application/vnd.holoviews_exec.v0+json": "",
            "text/html": [
              "<div id='848dc5ee-de92-4c76-ac96-1bf3a249f9fe'>\n",
              "  <div id=\"b3dbab72-98b2-42ee-a5d6-d4884984ada6\" data-root-id=\"848dc5ee-de92-4c76-ac96-1bf3a249f9fe\" style=\"display: contents;\"></div>\n",
              "</div>\n",
              "<script type=\"application/javascript\">(function(root) {\n",
              "  var docs_json = {\"205d7e01-5b47-446a-a71c-282730b592c9\":{\"version\":\"3.4.1\",\"title\":\"Bokeh Application\",\"roots\":[{\"type\":\"object\",\"name\":\"panel.models.browser.BrowserInfo\",\"id\":\"848dc5ee-de92-4c76-ac96-1bf3a249f9fe\"},{\"type\":\"object\",\"name\":\"panel.models.comm_manager.CommManager\",\"id\":\"53f25ca1-06e8-4937-8cd3-92b54123fae2\",\"attributes\":{\"plot_id\":\"848dc5ee-de92-4c76-ac96-1bf3a249f9fe\",\"comm_id\":\"6c288becdaa24ae094e82dac5f75122d\",\"client_comm_id\":\"8ab0e9c4812743aa8ea56ec8e822c616\"}}],\"defs\":[{\"type\":\"model\",\"name\":\"ReactiveHTML1\"},{\"type\":\"model\",\"name\":\"FlexBox1\",\"properties\":[{\"name\":\"align_content\",\"kind\":\"Any\",\"default\":\"flex-start\"},{\"name\":\"align_items\",\"kind\":\"Any\",\"default\":\"flex-start\"},{\"name\":\"flex_direction\",\"kind\":\"Any\",\"default\":\"row\"},{\"name\":\"flex_wrap\",\"kind\":\"Any\",\"default\":\"wrap\"},{\"name\":\"gap\",\"kind\":\"Any\",\"default\":\"\"},{\"name\":\"justify_content\",\"kind\":\"Any\",\"default\":\"flex-start\"}]},{\"type\":\"model\",\"name\":\"FloatPanel1\",\"properties\":[{\"name\":\"config\",\"kind\":\"Any\",\"default\":{\"type\":\"map\"}},{\"name\":\"contained\",\"kind\":\"Any\",\"default\":true},{\"name\":\"position\",\"kind\":\"Any\",\"default\":\"right-top\"},{\"name\":\"offsetx\",\"kind\":\"Any\",\"default\":null},{\"name\":\"offsety\",\"kind\":\"Any\",\"default\":null},{\"name\":\"theme\",\"kind\":\"Any\",\"default\":\"primary\"},{\"name\":\"status\",\"kind\":\"Any\",\"default\":\"normalized\"}]},{\"type\":\"model\",\"name\":\"GridStack1\",\"properties\":[{\"name\":\"mode\",\"kind\":\"Any\",\"default\":\"warn\"},{\"name\":\"ncols\",\"kind\":\"Any\",\"default\":null},{\"name\":\"nrows\",\"kind\":\"Any\",\"default\":null},{\"name\":\"allow_resize\",\"kind\":\"Any\",\"default\":true},{\"name\":\"allow_drag\",\"kind\":\"Any\",\"default\":true},{\"name\":\"state\",\"kind\":\"Any\",\"default\":[]}]},{\"type\":\"model\",\"name\":\"drag1\",\"properties\":[{\"name\":\"slider_width\",\"kind\":\"Any\",\"default\":5},{\"name\":\"slider_color\",\"kind\":\"Any\",\"default\":\"black\"},{\"name\":\"value\",\"kind\":\"Any\",\"default\":50}]},{\"type\":\"model\",\"name\":\"click1\",\"properties\":[{\"name\":\"terminal_output\",\"kind\":\"Any\",\"default\":\"\"},{\"name\":\"debug_name\",\"kind\":\"Any\",\"default\":\"\"},{\"name\":\"clears\",\"kind\":\"Any\",\"default\":0}]},{\"type\":\"model\",\"name\":\"FastWrapper1\",\"properties\":[{\"name\":\"object\",\"kind\":\"Any\",\"default\":null},{\"name\":\"style\",\"kind\":\"Any\",\"default\":null}]},{\"type\":\"model\",\"name\":\"NotificationAreaBase1\",\"properties\":[{\"name\":\"js_events\",\"kind\":\"Any\",\"default\":{\"type\":\"map\"}},{\"name\":\"position\",\"kind\":\"Any\",\"default\":\"bottom-right\"},{\"name\":\"_clear\",\"kind\":\"Any\",\"default\":0}]},{\"type\":\"model\",\"name\":\"NotificationArea1\",\"properties\":[{\"name\":\"js_events\",\"kind\":\"Any\",\"default\":{\"type\":\"map\"}},{\"name\":\"notifications\",\"kind\":\"Any\",\"default\":[]},{\"name\":\"position\",\"kind\":\"Any\",\"default\":\"bottom-right\"},{\"name\":\"_clear\",\"kind\":\"Any\",\"default\":0},{\"name\":\"types\",\"kind\":\"Any\",\"default\":[{\"type\":\"map\",\"entries\":[[\"type\",\"warning\"],[\"background\",\"#ffc107\"],[\"icon\",{\"type\":\"map\",\"entries\":[[\"className\",\"fas fa-exclamation-triangle\"],[\"tagName\",\"i\"],[\"color\",\"white\"]]}]]},{\"type\":\"map\",\"entries\":[[\"type\",\"info\"],[\"background\",\"#007bff\"],[\"icon\",{\"type\":\"map\",\"entries\":[[\"className\",\"fas fa-info-circle\"],[\"tagName\",\"i\"],[\"color\",\"white\"]]}]]}]}]},{\"type\":\"model\",\"name\":\"Notification\",\"properties\":[{\"name\":\"background\",\"kind\":\"Any\",\"default\":null},{\"name\":\"duration\",\"kind\":\"Any\",\"default\":3000},{\"name\":\"icon\",\"kind\":\"Any\",\"default\":null},{\"name\":\"message\",\"kind\":\"Any\",\"default\":\"\"},{\"name\":\"notification_type\",\"kind\":\"Any\",\"default\":null},{\"name\":\"_destroyed\",\"kind\":\"Any\",\"default\":false}]},{\"type\":\"model\",\"name\":\"TemplateActions1\",\"properties\":[{\"name\":\"open_modal\",\"kind\":\"Any\",\"default\":0},{\"name\":\"close_modal\",\"kind\":\"Any\",\"default\":0}]},{\"type\":\"model\",\"name\":\"BootstrapTemplateActions1\",\"properties\":[{\"name\":\"open_modal\",\"kind\":\"Any\",\"default\":0},{\"name\":\"close_modal\",\"kind\":\"Any\",\"default\":0}]},{\"type\":\"model\",\"name\":\"TemplateEditor1\",\"properties\":[{\"name\":\"layout\",\"kind\":\"Any\",\"default\":[]}]},{\"type\":\"model\",\"name\":\"MaterialTemplateActions1\",\"properties\":[{\"name\":\"open_modal\",\"kind\":\"Any\",\"default\":0},{\"name\":\"close_modal\",\"kind\":\"Any\",\"default\":0}]},{\"type\":\"model\",\"name\":\"copy_to_clipboard1\",\"properties\":[{\"name\":\"fill\",\"kind\":\"Any\",\"default\":\"none\"},{\"name\":\"value\",\"kind\":\"Any\",\"default\":null}]}]}};\n",
              "  var render_items = [{\"docid\":\"205d7e01-5b47-446a-a71c-282730b592c9\",\"roots\":{\"848dc5ee-de92-4c76-ac96-1bf3a249f9fe\":\"b3dbab72-98b2-42ee-a5d6-d4884984ada6\"},\"root_ids\":[\"848dc5ee-de92-4c76-ac96-1bf3a249f9fe\"]}];\n",
              "  var docs = Object.values(docs_json)\n",
              "  if (!docs) {\n",
              "    return\n",
              "  }\n",
              "  const py_version = docs[0].version.replace('rc', '-rc.').replace('.dev', '-dev.')\n",
              "  async function embed_document(root) {\n",
              "    var Bokeh = get_bokeh(root)\n",
              "    await Bokeh.embed.embed_items_notebook(docs_json, render_items);\n",
              "    for (const render_item of render_items) {\n",
              "      for (const root_id of render_item.root_ids) {\n",
              "\tconst id_el = document.getElementById(root_id)\n",
              "\tif (id_el.children.length && id_el.children[0].hasAttribute('data-root-id')) {\n",
              "\t  const root_el = id_el.children[0]\n",
              "\t  root_el.id = root_el.id + '-rendered'\n",
              "\t  for (const child of root_el.children) {\n",
              "            // Ensure JupyterLab does not capture keyboard shortcuts\n",
              "            // see: https://jupyterlab.readthedocs.io/en/4.1.x/extension/notebook.html#keyboard-interaction-model\n",
              "\t    child.setAttribute('data-lm-suppress-shortcuts', 'true')\n",
              "\t  }\n",
              "\t}\n",
              "      }\n",
              "    }\n",
              "  }\n",
              "  function get_bokeh(root) {\n",
              "    if (root.Bokeh === undefined) {\n",
              "      return null\n",
              "    } else if (root.Bokeh.version !== py_version) {\n",
              "      if (root.Bokeh.versions === undefined || !root.Bokeh.versions.has(py_version)) {\n",
              "\treturn null\n",
              "      }\n",
              "      return root.Bokeh.versions.get(py_version);\n",
              "    } else if (root.Bokeh.version === py_version) {\n",
              "      return root.Bokeh\n",
              "    }\n",
              "    return null\n",
              "  }\n",
              "  function is_loaded(root) {\n",
              "    var Bokeh = get_bokeh(root)\n",
              "    return (Bokeh != null && Bokeh.Panel !== undefined)\n",
              "  }\n",
              "  if (is_loaded(root)) {\n",
              "    embed_document(root);\n",
              "  } else {\n",
              "    var attempts = 0;\n",
              "    var timer = setInterval(function(root) {\n",
              "      if (is_loaded(root)) {\n",
              "        clearInterval(timer);\n",
              "        embed_document(root);\n",
              "      } else if (document.readyState == \"complete\") {\n",
              "        attempts++;\n",
              "        if (attempts > 200) {\n",
              "          clearInterval(timer);\n",
              "\t  var Bokeh = get_bokeh(root)\n",
              "\t  if (Bokeh == null || Bokeh.Panel == null) {\n",
              "            console.warn(\"Panel: ERROR: Unable to run Panel code because Bokeh or Panel library is missing\");\n",
              "\t  } else {\n",
              "\t    console.warn(\"Panel: WARNING: Attempting to render but not all required libraries could be resolved.\")\n",
              "\t    embed_document(root)\n",
              "\t  }\n",
              "        }\n",
              "      }\n",
              "    }, 25, root)\n",
              "  }\n",
              "})(window);</script>"
            ]
          },
          "metadata": {
            "application/vnd.holoviews_exec.v0+json": {
              "id": "848dc5ee-de92-4c76-ac96-1bf3a249f9fe"
            }
          },
          "output_type": "display_data"
        }
      ],
      "source": [
        "import pandas as pd\n",
        "import numpy as np\n",
        "import yaml\n",
        "import matplotlib.pyplot as plt                                   \n",
        "import seaborn as sns                                               \n",
        "sns.set(style='whitegrid')\n",
        "%matplotlib inline\n",
        "\n",
        "\n",
        "from bokeh.io import output_notebook\n",
        "from bokeh.transform import factor_cmap\n",
        "from bokeh.models import ColumnDataSource, FactorRange, Whisker,Span\n",
        "from bokeh.layouts import gridplot\n",
        "from bokeh.plotting import figure, show\n",
        "from bokeh.transform import jitter\n",
        "import scipy.special\n",
        "from scipy.stats import norm\n",
        "\n",
        "import panel as pn\n",
        "\n",
        "output_notebook()\n",
        "pn.extension()\n",
        "\n",
        "\n",
        "\n"
      ]
    },
    {
      "attachments": {},
      "cell_type": "markdown",
      "metadata": {},
      "source": [
        "## Part 1: Loading the data"
      ]
    },
    {
      "cell_type": "code",
      "execution_count": 2,
      "metadata": {},
      "outputs": [
        {
          "name": "stdout",
          "output_type": "stream",
          "text": [
            "/Volumes/ROYA/Projects/Kidney_transplant/kidney_transplant_waiting_list\n"
          ]
        }
      ],
      "source": [
        "import os\n",
        "cwd = os.getcwd()\n",
        "print(cwd)"
      ]
    },
    {
      "cell_type": "code",
      "execution_count": 7,
      "metadata": {},
      "outputs": [
        {
          "name": "stdout",
          "output_type": "stream",
          "text": [
            "The number of indonesia patients are : 754\n",
            "The number of universal patients are : 1692\n"
          ]
        }
      ],
      "source": [
        "with open(\"config.yml\", \"r\") as f:\n",
        "    config = yaml.safe_load(f)\n",
        "    \n",
        "df_patients_indonesia = pd.read_excel(config[\"indonesia\"]) \n",
        "print(\"The number of indonesia patients are :\",len(df_patients_indonesia))\n",
        "\n",
        "df_patients_universal = pd.read_excel(config[\"universal\"]) \n",
        "print(\"The number of universal patients are :\",len(df_patients_universal))\n",
        "\n"
      ]
    },
    {
      "cell_type": "code",
      "execution_count": 8,
      "metadata": {},
      "outputs": [
        {
          "data": {
            "text/html": [
              "<div>\n",
              "<style scoped>\n",
              "    .dataframe tbody tr th:only-of-type {\n",
              "        vertical-align: middle;\n",
              "    }\n",
              "\n",
              "    .dataframe tbody tr th {\n",
              "        vertical-align: top;\n",
              "    }\n",
              "\n",
              "    .dataframe thead th {\n",
              "        text-align: right;\n",
              "    }\n",
              "</style>\n",
              "<table border=\"1\" class=\"dataframe\">\n",
              "  <thead>\n",
              "    <tr style=\"text-align: right;\">\n",
              "      <th></th>\n",
              "      <th>ID</th>\n",
              "      <th>PS</th>\n",
              "      <th>PT_PS</th>\n",
              "      <th>AC_Graft</th>\n",
              "      <th>PT_AC</th>\n",
              "      <th>DC_Graft</th>\n",
              "      <th>PT_DC</th>\n",
              "      <th>Age60</th>\n",
              "      <th>Overweight</th>\n",
              "      <th>Duration24</th>\n",
              "      <th>...</th>\n",
              "      <th>Diabetes</th>\n",
              "      <th>Rejection</th>\n",
              "      <th>Cardiovascular</th>\n",
              "      <th>Infections</th>\n",
              "      <th>Delayed_Graft</th>\n",
              "      <th>Crossmatch</th>\n",
              "      <th>Donor_age40</th>\n",
              "      <th>Related</th>\n",
              "      <th>Donor_overweight</th>\n",
              "      <th>Donor_GFR100</th>\n",
              "    </tr>\n",
              "  </thead>\n",
              "  <tbody>\n",
              "    <tr>\n",
              "      <th>0</th>\n",
              "      <td>170</td>\n",
              "      <td>0</td>\n",
              "      <td>67</td>\n",
              "      <td>0</td>\n",
              "      <td>67</td>\n",
              "      <td>0</td>\n",
              "      <td>67</td>\n",
              "      <td>2</td>\n",
              "      <td>NaN</td>\n",
              "      <td>NaN</td>\n",
              "      <td>...</td>\n",
              "      <td>2</td>\n",
              "      <td>2</td>\n",
              "      <td>2.0</td>\n",
              "      <td>2.0</td>\n",
              "      <td>2</td>\n",
              "      <td>NaN</td>\n",
              "      <td>NaN</td>\n",
              "      <td>NaN</td>\n",
              "      <td>NaN</td>\n",
              "      <td>NaN</td>\n",
              "    </tr>\n",
              "    <tr>\n",
              "      <th>1</th>\n",
              "      <td>315</td>\n",
              "      <td>0</td>\n",
              "      <td>69</td>\n",
              "      <td>0</td>\n",
              "      <td>69</td>\n",
              "      <td>0</td>\n",
              "      <td>69</td>\n",
              "      <td>2</td>\n",
              "      <td>2.0</td>\n",
              "      <td>2.0</td>\n",
              "      <td>...</td>\n",
              "      <td>1</td>\n",
              "      <td>2</td>\n",
              "      <td>1.0</td>\n",
              "      <td>2.0</td>\n",
              "      <td>2</td>\n",
              "      <td>NaN</td>\n",
              "      <td>2.0</td>\n",
              "      <td>0.0</td>\n",
              "      <td>NaN</td>\n",
              "      <td>NaN</td>\n",
              "    </tr>\n",
              "    <tr>\n",
              "      <th>2</th>\n",
              "      <td>442</td>\n",
              "      <td>0</td>\n",
              "      <td>55</td>\n",
              "      <td>0</td>\n",
              "      <td>55</td>\n",
              "      <td>0</td>\n",
              "      <td>55</td>\n",
              "      <td>2</td>\n",
              "      <td>1.0</td>\n",
              "      <td>1.0</td>\n",
              "      <td>...</td>\n",
              "      <td>1</td>\n",
              "      <td>2</td>\n",
              "      <td>2.0</td>\n",
              "      <td>2.0</td>\n",
              "      <td>2</td>\n",
              "      <td>NaN</td>\n",
              "      <td>2.0</td>\n",
              "      <td>1.0</td>\n",
              "      <td>2.0</td>\n",
              "      <td>2.0</td>\n",
              "    </tr>\n",
              "    <tr>\n",
              "      <th>3</th>\n",
              "      <td>385</td>\n",
              "      <td>0</td>\n",
              "      <td>62</td>\n",
              "      <td>0</td>\n",
              "      <td>62</td>\n",
              "      <td>0</td>\n",
              "      <td>62</td>\n",
              "      <td>2</td>\n",
              "      <td>2.0</td>\n",
              "      <td>1.0</td>\n",
              "      <td>...</td>\n",
              "      <td>1</td>\n",
              "      <td>2</td>\n",
              "      <td>2.0</td>\n",
              "      <td>2.0</td>\n",
              "      <td>2</td>\n",
              "      <td>4.0</td>\n",
              "      <td>1.0</td>\n",
              "      <td>1.0</td>\n",
              "      <td>2.0</td>\n",
              "      <td>2.0</td>\n",
              "    </tr>\n",
              "    <tr>\n",
              "      <th>4</th>\n",
              "      <td>16</td>\n",
              "      <td>0</td>\n",
              "      <td>119</td>\n",
              "      <td>0</td>\n",
              "      <td>119</td>\n",
              "      <td>0</td>\n",
              "      <td>119</td>\n",
              "      <td>2</td>\n",
              "      <td>2.0</td>\n",
              "      <td>1.0</td>\n",
              "      <td>...</td>\n",
              "      <td>1</td>\n",
              "      <td>2</td>\n",
              "      <td>1.0</td>\n",
              "      <td>2.0</td>\n",
              "      <td>2</td>\n",
              "      <td>5.0</td>\n",
              "      <td>2.0</td>\n",
              "      <td>1.0</td>\n",
              "      <td>1.0</td>\n",
              "      <td>2.0</td>\n",
              "    </tr>\n",
              "  </tbody>\n",
              "</table>\n",
              "<p>5 rows × 22 columns</p>\n",
              "</div>"
            ],
            "text/plain": [
              "    ID  PS  PT_PS  AC_Graft  PT_AC  DC_Graft  PT_DC  Age60  Overweight  \\\n",
              "0  170   0     67         0     67         0     67      2         NaN   \n",
              "1  315   0     69         0     69         0     69      2         2.0   \n",
              "2  442   0     55         0     55         0     55      2         1.0   \n",
              "3  385   0     62         0     62         0     62      2         2.0   \n",
              "4   16   0    119         0    119         0    119      2         2.0   \n",
              "\n",
              "   Duration24  ...  Diabetes  Rejection  Cardiovascular  Infections  \\\n",
              "0         NaN  ...         2          2             2.0         2.0   \n",
              "1         2.0  ...         1          2             1.0         2.0   \n",
              "2         1.0  ...         1          2             2.0         2.0   \n",
              "3         1.0  ...         1          2             2.0         2.0   \n",
              "4         1.0  ...         1          2             1.0         2.0   \n",
              "\n",
              "   Delayed_Graft  Crossmatch  Donor_age40  Related  Donor_overweight  \\\n",
              "0              2         NaN          NaN      NaN               NaN   \n",
              "1              2         NaN          2.0      0.0               NaN   \n",
              "2              2         NaN          2.0      1.0               2.0   \n",
              "3              2         4.0          1.0      1.0               2.0   \n",
              "4              2         5.0          2.0      1.0               1.0   \n",
              "\n",
              "   Donor_GFR100  \n",
              "0           NaN  \n",
              "1           NaN  \n",
              "2           2.0  \n",
              "3           2.0  \n",
              "4           2.0  \n",
              "\n",
              "[5 rows x 22 columns]"
            ]
          },
          "execution_count": 8,
          "metadata": {},
          "output_type": "execute_result"
        }
      ],
      "source": [
        "df_patients_indonesia.head()"
      ]
    },
    {
      "cell_type": "code",
      "execution_count": 9,
      "metadata": {},
      "outputs": [
        {
          "data": {
            "text/html": [
              "<div>\n",
              "<style scoped>\n",
              "    .dataframe tbody tr th:only-of-type {\n",
              "        vertical-align: middle;\n",
              "    }\n",
              "\n",
              "    .dataframe tbody tr th {\n",
              "        vertical-align: top;\n",
              "    }\n",
              "\n",
              "    .dataframe thead th {\n",
              "        text-align: right;\n",
              "    }\n",
              "</style>\n",
              "<table border=\"1\" class=\"dataframe\">\n",
              "  <thead>\n",
              "    <tr style=\"text-align: right;\">\n",
              "      <th></th>\n",
              "      <th>Number</th>\n",
              "      <th>Age</th>\n",
              "      <th>BMI</th>\n",
              "      <th>Education</th>\n",
              "      <th>Smoking</th>\n",
              "      <th>CHF</th>\n",
              "      <th>DM</th>\n",
              "      <th>CAD</th>\n",
              "      <th>PVD</th>\n",
              "      <th>CVD</th>\n",
              "      <th>...</th>\n",
              "      <th>Vitamin D</th>\n",
              "      <th>PTH</th>\n",
              "      <th>KTx</th>\n",
              "      <th>donor type</th>\n",
              "      <th>death</th>\n",
              "      <th>Death on WL</th>\n",
              "      <th>Death aflter KTx</th>\n",
              "      <th>Follow-up WL</th>\n",
              "      <th>Follow-up KTx</th>\n",
              "      <th>General Follow-up</th>\n",
              "    </tr>\n",
              "  </thead>\n",
              "  <tbody>\n",
              "    <tr>\n",
              "      <th>0</th>\n",
              "      <td>1</td>\n",
              "      <td>1</td>\n",
              "      <td>24.05</td>\n",
              "      <td>1.0</td>\n",
              "      <td>2.0</td>\n",
              "      <td>0.0</td>\n",
              "      <td>1.0</td>\n",
              "      <td>0.0</td>\n",
              "      <td>0.0</td>\n",
              "      <td>0.0</td>\n",
              "      <td>...</td>\n",
              "      <td>13.0</td>\n",
              "      <td>295</td>\n",
              "      <td>0</td>\n",
              "      <td>NaN</td>\n",
              "      <td>1</td>\n",
              "      <td>1</td>\n",
              "      <td>NaN</td>\n",
              "      <td>1332.000000</td>\n",
              "      <td>NaN</td>\n",
              "      <td>1332.000000</td>\n",
              "    </tr>\n",
              "    <tr>\n",
              "      <th>1</th>\n",
              "      <td>2</td>\n",
              "      <td>2</td>\n",
              "      <td>19.56</td>\n",
              "      <td>NaN</td>\n",
              "      <td>1.0</td>\n",
              "      <td>0.0</td>\n",
              "      <td>1.0</td>\n",
              "      <td>0.0</td>\n",
              "      <td>0.0</td>\n",
              "      <td>0.0</td>\n",
              "      <td>...</td>\n",
              "      <td>35.0</td>\n",
              "      <td>328</td>\n",
              "      <td>0</td>\n",
              "      <td>NaN</td>\n",
              "      <td>0</td>\n",
              "      <td>0</td>\n",
              "      <td>NaN</td>\n",
              "      <td>1082.000000</td>\n",
              "      <td>NaN</td>\n",
              "      <td>1082.000000</td>\n",
              "    </tr>\n",
              "    <tr>\n",
              "      <th>2</th>\n",
              "      <td>3</td>\n",
              "      <td>3</td>\n",
              "      <td>29.00</td>\n",
              "      <td>1.0</td>\n",
              "      <td>2.0</td>\n",
              "      <td>0.0</td>\n",
              "      <td>0.0</td>\n",
              "      <td>0.0</td>\n",
              "      <td>0.0</td>\n",
              "      <td>0.0</td>\n",
              "      <td>...</td>\n",
              "      <td>17.0</td>\n",
              "      <td>309</td>\n",
              "      <td>0</td>\n",
              "      <td>NaN</td>\n",
              "      <td>0</td>\n",
              "      <td>0</td>\n",
              "      <td>NaN</td>\n",
              "      <td>2823.000000</td>\n",
              "      <td>NaN</td>\n",
              "      <td>2823.000000</td>\n",
              "    </tr>\n",
              "    <tr>\n",
              "      <th>3</th>\n",
              "      <td>4</td>\n",
              "      <td>1</td>\n",
              "      <td>16.74</td>\n",
              "      <td>1.0</td>\n",
              "      <td>2.0</td>\n",
              "      <td>0.0</td>\n",
              "      <td>0.0</td>\n",
              "      <td>0.0</td>\n",
              "      <td>0.0</td>\n",
              "      <td>0.0</td>\n",
              "      <td>...</td>\n",
              "      <td>32.8</td>\n",
              "      <td>108</td>\n",
              "      <td>0</td>\n",
              "      <td>NaN</td>\n",
              "      <td>0</td>\n",
              "      <td>0</td>\n",
              "      <td>NaN</td>\n",
              "      <td>2963.000000</td>\n",
              "      <td>NaN</td>\n",
              "      <td>2963.000000</td>\n",
              "    </tr>\n",
              "    <tr>\n",
              "      <th>4</th>\n",
              "      <td>5</td>\n",
              "      <td>3</td>\n",
              "      <td>22.32</td>\n",
              "      <td>1.0</td>\n",
              "      <td>2.0</td>\n",
              "      <td>1.0</td>\n",
              "      <td>0.0</td>\n",
              "      <td>0.0</td>\n",
              "      <td>0.0</td>\n",
              "      <td>0.0</td>\n",
              "      <td>...</td>\n",
              "      <td>34.8</td>\n",
              "      <td>330</td>\n",
              "      <td>0</td>\n",
              "      <td>NaN</td>\n",
              "      <td>1</td>\n",
              "      <td>1</td>\n",
              "      <td>NaN</td>\n",
              "      <td>238.545833</td>\n",
              "      <td>NaN</td>\n",
              "      <td>238.545833</td>\n",
              "    </tr>\n",
              "  </tbody>\n",
              "</table>\n",
              "<p>5 rows × 29 columns</p>\n",
              "</div>"
            ],
            "text/plain": [
              "   Number  Age    BMI  Education  Smoking  CHF   DM  CAD  PVD  CVD  ...  \\\n",
              "0       1    1  24.05        1.0      2.0  0.0  1.0  0.0  0.0  0.0  ...   \n",
              "1       2    2  19.56        NaN      1.0  0.0  1.0  0.0  0.0  0.0  ...   \n",
              "2       3    3  29.00        1.0      2.0  0.0  0.0  0.0  0.0  0.0  ...   \n",
              "3       4    1  16.74        1.0      2.0  0.0  0.0  0.0  0.0  0.0  ...   \n",
              "4       5    3  22.32        1.0      2.0  1.0  0.0  0.0  0.0  0.0  ...   \n",
              "\n",
              "   Vitamin D  PTH  KTx  donor type  death  Death on WL  Death aflter KTx  \\\n",
              "0       13.0  295    0         NaN      1            1               NaN   \n",
              "1       35.0  328    0         NaN      0            0               NaN   \n",
              "2       17.0  309    0         NaN      0            0               NaN   \n",
              "3       32.8  108    0         NaN      0            0               NaN   \n",
              "4       34.8  330    0         NaN      1            1               NaN   \n",
              "\n",
              "   Follow-up WL  Follow-up KTx  General Follow-up  \n",
              "0   1332.000000            NaN        1332.000000  \n",
              "1   1082.000000            NaN        1082.000000  \n",
              "2   2823.000000            NaN        2823.000000  \n",
              "3   2963.000000            NaN        2963.000000  \n",
              "4    238.545833            NaN         238.545833  \n",
              "\n",
              "[5 rows x 29 columns]"
            ]
          },
          "execution_count": 9,
          "metadata": {},
          "output_type": "execute_result"
        }
      ],
      "source": [
        "df_patients_universal.head()"
      ]
    },
    {
      "attachments": {},
      "cell_type": "markdown",
      "metadata": {},
      "source": [
        "## Part 2: Prepare and Inspect the data \n"
      ]
    },
    {
      "cell_type": "code",
      "execution_count": 10,
      "metadata": {},
      "outputs": [
        {
          "data": {
            "text/html": [
              "<div>\n",
              "<style scoped>\n",
              "    .dataframe tbody tr th:only-of-type {\n",
              "        vertical-align: middle;\n",
              "    }\n",
              "\n",
              "    .dataframe tbody tr th {\n",
              "        vertical-align: top;\n",
              "    }\n",
              "\n",
              "    .dataframe thead th {\n",
              "        text-align: right;\n",
              "    }\n",
              "</style>\n",
              "<table border=\"1\" class=\"dataframe\">\n",
              "  <thead>\n",
              "    <tr style=\"text-align: right;\">\n",
              "      <th></th>\n",
              "      <th>death</th>\n",
              "      <th>death_time</th>\n",
              "      <th>age</th>\n",
              "      <th>overweight</th>\n",
              "      <th>dialysis_time</th>\n",
              "      <th>dialysis_type</th>\n",
              "      <th>smoking</th>\n",
              "      <th>diabetes</th>\n",
              "      <th>transplant_rejection</th>\n",
              "    </tr>\n",
              "  </thead>\n",
              "  <tbody>\n",
              "    <tr>\n",
              "      <th>0</th>\n",
              "      <td>0</td>\n",
              "      <td>67</td>\n",
              "      <td>2</td>\n",
              "      <td>NaN</td>\n",
              "      <td>NaN</td>\n",
              "      <td>0.0</td>\n",
              "      <td>2</td>\n",
              "      <td>2</td>\n",
              "      <td>2</td>\n",
              "    </tr>\n",
              "    <tr>\n",
              "      <th>1</th>\n",
              "      <td>0</td>\n",
              "      <td>69</td>\n",
              "      <td>2</td>\n",
              "      <td>2.0</td>\n",
              "      <td>2.0</td>\n",
              "      <td>0.0</td>\n",
              "      <td>1</td>\n",
              "      <td>1</td>\n",
              "      <td>2</td>\n",
              "    </tr>\n",
              "    <tr>\n",
              "      <th>2</th>\n",
              "      <td>0</td>\n",
              "      <td>55</td>\n",
              "      <td>2</td>\n",
              "      <td>1.0</td>\n",
              "      <td>1.0</td>\n",
              "      <td>0.0</td>\n",
              "      <td>1</td>\n",
              "      <td>1</td>\n",
              "      <td>2</td>\n",
              "    </tr>\n",
              "    <tr>\n",
              "      <th>3</th>\n",
              "      <td>0</td>\n",
              "      <td>62</td>\n",
              "      <td>2</td>\n",
              "      <td>2.0</td>\n",
              "      <td>1.0</td>\n",
              "      <td>0.0</td>\n",
              "      <td>1</td>\n",
              "      <td>1</td>\n",
              "      <td>2</td>\n",
              "    </tr>\n",
              "    <tr>\n",
              "      <th>4</th>\n",
              "      <td>0</td>\n",
              "      <td>119</td>\n",
              "      <td>2</td>\n",
              "      <td>2.0</td>\n",
              "      <td>1.0</td>\n",
              "      <td>0.0</td>\n",
              "      <td>1</td>\n",
              "      <td>1</td>\n",
              "      <td>2</td>\n",
              "    </tr>\n",
              "    <tr>\n",
              "      <th>5</th>\n",
              "      <td>0</td>\n",
              "      <td>26</td>\n",
              "      <td>2</td>\n",
              "      <td>2.0</td>\n",
              "      <td>1.0</td>\n",
              "      <td>0.0</td>\n",
              "      <td>1</td>\n",
              "      <td>1</td>\n",
              "      <td>1</td>\n",
              "    </tr>\n",
              "    <tr>\n",
              "      <th>6</th>\n",
              "      <td>0</td>\n",
              "      <td>8</td>\n",
              "      <td>2</td>\n",
              "      <td>2.0</td>\n",
              "      <td>1.0</td>\n",
              "      <td>0.0</td>\n",
              "      <td>1</td>\n",
              "      <td>1</td>\n",
              "      <td>2</td>\n",
              "    </tr>\n",
              "    <tr>\n",
              "      <th>7</th>\n",
              "      <td>0</td>\n",
              "      <td>13</td>\n",
              "      <td>2</td>\n",
              "      <td>2.0</td>\n",
              "      <td>1.0</td>\n",
              "      <td>0.0</td>\n",
              "      <td>1</td>\n",
              "      <td>1</td>\n",
              "      <td>2</td>\n",
              "    </tr>\n",
              "    <tr>\n",
              "      <th>8</th>\n",
              "      <td>0</td>\n",
              "      <td>25</td>\n",
              "      <td>1</td>\n",
              "      <td>NaN</td>\n",
              "      <td>2.0</td>\n",
              "      <td>0.0</td>\n",
              "      <td>1</td>\n",
              "      <td>1</td>\n",
              "      <td>2</td>\n",
              "    </tr>\n",
              "    <tr>\n",
              "      <th>9</th>\n",
              "      <td>0</td>\n",
              "      <td>75</td>\n",
              "      <td>2</td>\n",
              "      <td>NaN</td>\n",
              "      <td>2.0</td>\n",
              "      <td>0.0</td>\n",
              "      <td>1</td>\n",
              "      <td>1</td>\n",
              "      <td>2</td>\n",
              "    </tr>\n",
              "    <tr>\n",
              "      <th>10</th>\n",
              "      <td>0</td>\n",
              "      <td>4</td>\n",
              "      <td>1</td>\n",
              "      <td>1.0</td>\n",
              "      <td>2.0</td>\n",
              "      <td>0.0</td>\n",
              "      <td>1</td>\n",
              "      <td>1</td>\n",
              "      <td>2</td>\n",
              "    </tr>\n",
              "    <tr>\n",
              "      <th>11</th>\n",
              "      <td>0</td>\n",
              "      <td>55</td>\n",
              "      <td>1</td>\n",
              "      <td>1.0</td>\n",
              "      <td>2.0</td>\n",
              "      <td>0.0</td>\n",
              "      <td>1</td>\n",
              "      <td>1</td>\n",
              "      <td>2</td>\n",
              "    </tr>\n",
              "    <tr>\n",
              "      <th>12</th>\n",
              "      <td>0</td>\n",
              "      <td>54</td>\n",
              "      <td>1</td>\n",
              "      <td>1.0</td>\n",
              "      <td>2.0</td>\n",
              "      <td>0.0</td>\n",
              "      <td>1</td>\n",
              "      <td>1</td>\n",
              "      <td>2</td>\n",
              "    </tr>\n",
              "    <tr>\n",
              "      <th>13</th>\n",
              "      <td>1</td>\n",
              "      <td>42</td>\n",
              "      <td>1</td>\n",
              "      <td>1.0</td>\n",
              "      <td>2.0</td>\n",
              "      <td>0.0</td>\n",
              "      <td>1</td>\n",
              "      <td>1</td>\n",
              "      <td>2</td>\n",
              "    </tr>\n",
              "    <tr>\n",
              "      <th>14</th>\n",
              "      <td>0</td>\n",
              "      <td>117</td>\n",
              "      <td>2</td>\n",
              "      <td>1.0</td>\n",
              "      <td>2.0</td>\n",
              "      <td>0.0</td>\n",
              "      <td>1</td>\n",
              "      <td>1</td>\n",
              "      <td>2</td>\n",
              "    </tr>\n",
              "    <tr>\n",
              "      <th>15</th>\n",
              "      <td>0</td>\n",
              "      <td>14</td>\n",
              "      <td>2</td>\n",
              "      <td>1.0</td>\n",
              "      <td>2.0</td>\n",
              "      <td>0.0</td>\n",
              "      <td>1</td>\n",
              "      <td>1</td>\n",
              "      <td>2</td>\n",
              "    </tr>\n",
              "    <tr>\n",
              "      <th>16</th>\n",
              "      <td>1</td>\n",
              "      <td>55</td>\n",
              "      <td>2</td>\n",
              "      <td>1.0</td>\n",
              "      <td>2.0</td>\n",
              "      <td>0.0</td>\n",
              "      <td>1</td>\n",
              "      <td>1</td>\n",
              "      <td>2</td>\n",
              "    </tr>\n",
              "    <tr>\n",
              "      <th>17</th>\n",
              "      <td>0</td>\n",
              "      <td>32</td>\n",
              "      <td>2</td>\n",
              "      <td>1.0</td>\n",
              "      <td>2.0</td>\n",
              "      <td>0.0</td>\n",
              "      <td>1</td>\n",
              "      <td>1</td>\n",
              "      <td>2</td>\n",
              "    </tr>\n",
              "    <tr>\n",
              "      <th>18</th>\n",
              "      <td>0</td>\n",
              "      <td>57</td>\n",
              "      <td>2</td>\n",
              "      <td>1.0</td>\n",
              "      <td>2.0</td>\n",
              "      <td>0.0</td>\n",
              "      <td>1</td>\n",
              "      <td>1</td>\n",
              "      <td>2</td>\n",
              "    </tr>\n",
              "    <tr>\n",
              "      <th>19</th>\n",
              "      <td>0</td>\n",
              "      <td>53</td>\n",
              "      <td>2</td>\n",
              "      <td>1.0</td>\n",
              "      <td>2.0</td>\n",
              "      <td>0.0</td>\n",
              "      <td>1</td>\n",
              "      <td>1</td>\n",
              "      <td>2</td>\n",
              "    </tr>\n",
              "  </tbody>\n",
              "</table>\n",
              "</div>"
            ],
            "text/plain": [
              "    death  death_time  age  overweight  dialysis_time  dialysis_type  smoking  \\\n",
              "0       0          67    2         NaN            NaN            0.0        2   \n",
              "1       0          69    2         2.0            2.0            0.0        1   \n",
              "2       0          55    2         1.0            1.0            0.0        1   \n",
              "3       0          62    2         2.0            1.0            0.0        1   \n",
              "4       0         119    2         2.0            1.0            0.0        1   \n",
              "5       0          26    2         2.0            1.0            0.0        1   \n",
              "6       0           8    2         2.0            1.0            0.0        1   \n",
              "7       0          13    2         2.0            1.0            0.0        1   \n",
              "8       0          25    1         NaN            2.0            0.0        1   \n",
              "9       0          75    2         NaN            2.0            0.0        1   \n",
              "10      0           4    1         1.0            2.0            0.0        1   \n",
              "11      0          55    1         1.0            2.0            0.0        1   \n",
              "12      0          54    1         1.0            2.0            0.0        1   \n",
              "13      1          42    1         1.0            2.0            0.0        1   \n",
              "14      0         117    2         1.0            2.0            0.0        1   \n",
              "15      0          14    2         1.0            2.0            0.0        1   \n",
              "16      1          55    2         1.0            2.0            0.0        1   \n",
              "17      0          32    2         1.0            2.0            0.0        1   \n",
              "18      0          57    2         1.0            2.0            0.0        1   \n",
              "19      0          53    2         1.0            2.0            0.0        1   \n",
              "\n",
              "    diabetes  transplant_rejection  \n",
              "0          2                     2  \n",
              "1          1                     2  \n",
              "2          1                     2  \n",
              "3          1                     2  \n",
              "4          1                     2  \n",
              "5          1                     1  \n",
              "6          1                     2  \n",
              "7          1                     2  \n",
              "8          1                     2  \n",
              "9          1                     2  \n",
              "10         1                     2  \n",
              "11         1                     2  \n",
              "12         1                     2  \n",
              "13         1                     2  \n",
              "14         1                     2  \n",
              "15         1                     2  \n",
              "16         1                     2  \n",
              "17         1                     2  \n",
              "18         1                     2  \n",
              "19         1                     2  "
            ]
          },
          "execution_count": 10,
          "metadata": {},
          "output_type": "execute_result"
        }
      ],
      "source": [
        "# Renaming the columns that might be needed for the first data set\n",
        "df_patients_indonesia = df_patients_indonesia[[\n",
        "    \"PS\",                  # (patient survival); 0 sensor, 1 event\n",
        "    \"PT_PS\",               # (patient time, patient survival); in months\n",
        "    \"Age60\",               # (age classification); 1> 60 yo, 2 <60 yo \n",
        "    \"Overweight\",          # 1 yes, 2 no \n",
        "    \"Duration24\",          # (dialysis duration before transplant classification); 1 >24 months, 2 <24 months \n",
        "    \"Dialysis_type\",       #  0 hemodialysis, 1 CAPD, 2 HD+CAPD, 3 preemptive transplant\n",
        "    \"Smoking\",             # 1 yes, 2 no \n",
        "    \"Diabetes\",            # (type 2 diabetes mellitus); 1 yes 2 no \n",
        "    \"Rejection\",           # 1 yes 2 no \n",
        "]]\n",
        "\n",
        "df_patients_indonesia.rename(columns={\n",
        "    \"PS\":\"death\",\n",
        "    \"PT_PS\":\"death_time\",\n",
        "    \"Age60\":\"age\",\n",
        "    \"Overweight\":\"overweight\",\n",
        "    \"Duration24\":\"dialysis_time\",\n",
        "    \"Dialysis_type\":\"dialysis_type\",\n",
        "    \"Smoking\":\"smoking\",\n",
        "    \"Diabetes\":\"diabetes\",\n",
        "    \"Rejection\":\"transplant_rejection\",    \n",
        "}, inplace=True)\n",
        "\n",
        "df_patients_indonesia.head(20)"
      ]
    },
    {
      "cell_type": "code",
      "execution_count": 11,
      "metadata": {},
      "outputs": [],
      "source": [
        "# droping the features that are NaN\n",
        "df_patients_indonesia = df_patients_indonesia.dropna()"
      ]
    },
    {
      "cell_type": "code",
      "execution_count": 12,
      "metadata": {},
      "outputs": [
        {
          "name": "stdout",
          "output_type": "stream",
          "text": [
            "Data Types are : Number                 int64\n",
            "Age                    int64\n",
            "BMI                  float64\n",
            "Education            float64\n",
            "Smoking              float64\n",
            "CHF                  float64\n",
            "DM                   float64\n",
            "CAD                  float64\n",
            "PVD                  float64\n",
            "CVD                  float64\n",
            "Hypertension         float64\n",
            "HCV/HBV                int64\n",
            "Type of dialysis       int64\n",
            "NKD                  float64\n",
            "Time on dialysis     float64\n",
            "Time on WL           float64\n",
            "Panel                float64\n",
            "P                    float64\n",
            "Albumin              float64\n",
            "Vitamin D            float64\n",
            "PTH                   object\n",
            "KTx                    int64\n",
            "donor type           float64\n",
            "death                  int64\n",
            "Death on WL            int64\n",
            "Death aflter KTx     float64\n",
            "Follow-up WL         float64\n",
            "Follow-up KTx        float64\n",
            "General Follow-up    float64\n",
            "dtype: object\n"
          ]
        }
      ],
      "source": [
        "# checking the data types before data processing\n",
        "print('Data Types are :',df_patients_universal.dtypes)\n",
        "# changing the data types that we need to persue the answer of the question\n",
        "df_patients_indonesia = df_patients_indonesia.astype({\n",
        "    \"overweight\":\"int\",\n",
        "    \"dialysis_time\":\"int\",\n",
        "    \"dialysis_type\":\"int\",\n",
        "})"
      ]
    },
    {
      "cell_type": "code",
      "execution_count": 13,
      "metadata": {},
      "outputs": [
        {
          "data": {
            "text/plain": [
              "death                   0.0\n",
              "death_time              0.0\n",
              "age                     0.0\n",
              "overweight              0.0\n",
              "dialysis_time           0.0\n",
              "dialysis_type           0.0\n",
              "smoking                 0.0\n",
              "diabetes                0.0\n",
              "transplant_rejection    0.0\n",
              "dtype: float64"
            ]
          },
          "execution_count": 13,
          "metadata": {},
          "output_type": "execute_result"
        }
      ],
      "source": [
        "# getting percentage of missing values per feature\n",
        "df_patients_indonesia.isna().sum()/len(df_patients_indonesia)*100\n"
      ]
    },
    {
      "attachments": {},
      "cell_type": "markdown",
      "metadata": {},
      "source": [
        "#### Data formatting: To make the data consistant and easy to undrestand we should care about data formatting. The values of common columns were different in the two data sets, so we had to make them in the same format."
      ]
    },
    {
      "cell_type": "code",
      "execution_count": 14,
      "metadata": {},
      "outputs": [
        {
          "data": {
            "text/html": [
              "<div>\n",
              "<style scoped>\n",
              "    .dataframe tbody tr th:only-of-type {\n",
              "        vertical-align: middle;\n",
              "    }\n",
              "\n",
              "    .dataframe tbody tr th {\n",
              "        vertical-align: top;\n",
              "    }\n",
              "\n",
              "    .dataframe thead th {\n",
              "        text-align: right;\n",
              "    }\n",
              "</style>\n",
              "<table border=\"1\" class=\"dataframe\">\n",
              "  <thead>\n",
              "    <tr style=\"text-align: right;\">\n",
              "      <th></th>\n",
              "      <th>death</th>\n",
              "      <th>death_time</th>\n",
              "      <th>age</th>\n",
              "      <th>overweight</th>\n",
              "      <th>dialysis_time</th>\n",
              "      <th>dialysis_type</th>\n",
              "      <th>smoking</th>\n",
              "      <th>diabetes</th>\n",
              "      <th>transplant_rejection</th>\n",
              "    </tr>\n",
              "  </thead>\n",
              "  <tbody>\n",
              "    <tr>\n",
              "      <th>1</th>\n",
              "      <td>0</td>\n",
              "      <td>69</td>\n",
              "      <td>1</td>\n",
              "      <td>0</td>\n",
              "      <td>1</td>\n",
              "      <td>1</td>\n",
              "      <td>1</td>\n",
              "      <td>1</td>\n",
              "      <td>2</td>\n",
              "    </tr>\n",
              "    <tr>\n",
              "      <th>2</th>\n",
              "      <td>0</td>\n",
              "      <td>55</td>\n",
              "      <td>1</td>\n",
              "      <td>1</td>\n",
              "      <td>2</td>\n",
              "      <td>1</td>\n",
              "      <td>1</td>\n",
              "      <td>1</td>\n",
              "      <td>2</td>\n",
              "    </tr>\n",
              "    <tr>\n",
              "      <th>3</th>\n",
              "      <td>0</td>\n",
              "      <td>62</td>\n",
              "      <td>1</td>\n",
              "      <td>0</td>\n",
              "      <td>2</td>\n",
              "      <td>1</td>\n",
              "      <td>1</td>\n",
              "      <td>1</td>\n",
              "      <td>2</td>\n",
              "    </tr>\n",
              "    <tr>\n",
              "      <th>4</th>\n",
              "      <td>0</td>\n",
              "      <td>119</td>\n",
              "      <td>1</td>\n",
              "      <td>0</td>\n",
              "      <td>2</td>\n",
              "      <td>1</td>\n",
              "      <td>1</td>\n",
              "      <td>1</td>\n",
              "      <td>2</td>\n",
              "    </tr>\n",
              "    <tr>\n",
              "      <th>5</th>\n",
              "      <td>0</td>\n",
              "      <td>26</td>\n",
              "      <td>1</td>\n",
              "      <td>0</td>\n",
              "      <td>2</td>\n",
              "      <td>1</td>\n",
              "      <td>1</td>\n",
              "      <td>1</td>\n",
              "      <td>1</td>\n",
              "    </tr>\n",
              "    <tr>\n",
              "      <th>6</th>\n",
              "      <td>0</td>\n",
              "      <td>8</td>\n",
              "      <td>1</td>\n",
              "      <td>0</td>\n",
              "      <td>2</td>\n",
              "      <td>1</td>\n",
              "      <td>1</td>\n",
              "      <td>1</td>\n",
              "      <td>2</td>\n",
              "    </tr>\n",
              "    <tr>\n",
              "      <th>7</th>\n",
              "      <td>0</td>\n",
              "      <td>13</td>\n",
              "      <td>1</td>\n",
              "      <td>0</td>\n",
              "      <td>2</td>\n",
              "      <td>1</td>\n",
              "      <td>1</td>\n",
              "      <td>1</td>\n",
              "      <td>2</td>\n",
              "    </tr>\n",
              "    <tr>\n",
              "      <th>10</th>\n",
              "      <td>0</td>\n",
              "      <td>4</td>\n",
              "      <td>2</td>\n",
              "      <td>1</td>\n",
              "      <td>1</td>\n",
              "      <td>1</td>\n",
              "      <td>1</td>\n",
              "      <td>1</td>\n",
              "      <td>2</td>\n",
              "    </tr>\n",
              "    <tr>\n",
              "      <th>11</th>\n",
              "      <td>0</td>\n",
              "      <td>55</td>\n",
              "      <td>2</td>\n",
              "      <td>1</td>\n",
              "      <td>1</td>\n",
              "      <td>1</td>\n",
              "      <td>1</td>\n",
              "      <td>1</td>\n",
              "      <td>2</td>\n",
              "    </tr>\n",
              "    <tr>\n",
              "      <th>12</th>\n",
              "      <td>0</td>\n",
              "      <td>54</td>\n",
              "      <td>2</td>\n",
              "      <td>1</td>\n",
              "      <td>1</td>\n",
              "      <td>1</td>\n",
              "      <td>1</td>\n",
              "      <td>1</td>\n",
              "      <td>2</td>\n",
              "    </tr>\n",
              "    <tr>\n",
              "      <th>13</th>\n",
              "      <td>1</td>\n",
              "      <td>42</td>\n",
              "      <td>2</td>\n",
              "      <td>1</td>\n",
              "      <td>1</td>\n",
              "      <td>1</td>\n",
              "      <td>1</td>\n",
              "      <td>1</td>\n",
              "      <td>2</td>\n",
              "    </tr>\n",
              "    <tr>\n",
              "      <th>14</th>\n",
              "      <td>0</td>\n",
              "      <td>117</td>\n",
              "      <td>1</td>\n",
              "      <td>1</td>\n",
              "      <td>1</td>\n",
              "      <td>1</td>\n",
              "      <td>1</td>\n",
              "      <td>1</td>\n",
              "      <td>2</td>\n",
              "    </tr>\n",
              "    <tr>\n",
              "      <th>15</th>\n",
              "      <td>0</td>\n",
              "      <td>14</td>\n",
              "      <td>1</td>\n",
              "      <td>1</td>\n",
              "      <td>1</td>\n",
              "      <td>1</td>\n",
              "      <td>1</td>\n",
              "      <td>1</td>\n",
              "      <td>2</td>\n",
              "    </tr>\n",
              "    <tr>\n",
              "      <th>16</th>\n",
              "      <td>1</td>\n",
              "      <td>55</td>\n",
              "      <td>1</td>\n",
              "      <td>1</td>\n",
              "      <td>1</td>\n",
              "      <td>1</td>\n",
              "      <td>1</td>\n",
              "      <td>1</td>\n",
              "      <td>2</td>\n",
              "    </tr>\n",
              "    <tr>\n",
              "      <th>17</th>\n",
              "      <td>0</td>\n",
              "      <td>32</td>\n",
              "      <td>1</td>\n",
              "      <td>1</td>\n",
              "      <td>1</td>\n",
              "      <td>1</td>\n",
              "      <td>1</td>\n",
              "      <td>1</td>\n",
              "      <td>2</td>\n",
              "    </tr>\n",
              "    <tr>\n",
              "      <th>18</th>\n",
              "      <td>0</td>\n",
              "      <td>57</td>\n",
              "      <td>1</td>\n",
              "      <td>1</td>\n",
              "      <td>1</td>\n",
              "      <td>1</td>\n",
              "      <td>1</td>\n",
              "      <td>1</td>\n",
              "      <td>2</td>\n",
              "    </tr>\n",
              "    <tr>\n",
              "      <th>19</th>\n",
              "      <td>0</td>\n",
              "      <td>53</td>\n",
              "      <td>1</td>\n",
              "      <td>1</td>\n",
              "      <td>1</td>\n",
              "      <td>1</td>\n",
              "      <td>1</td>\n",
              "      <td>1</td>\n",
              "      <td>2</td>\n",
              "    </tr>\n",
              "    <tr>\n",
              "      <th>20</th>\n",
              "      <td>0</td>\n",
              "      <td>22</td>\n",
              "      <td>1</td>\n",
              "      <td>1</td>\n",
              "      <td>1</td>\n",
              "      <td>1</td>\n",
              "      <td>1</td>\n",
              "      <td>1</td>\n",
              "      <td>2</td>\n",
              "    </tr>\n",
              "    <tr>\n",
              "      <th>21</th>\n",
              "      <td>1</td>\n",
              "      <td>13</td>\n",
              "      <td>1</td>\n",
              "      <td>1</td>\n",
              "      <td>1</td>\n",
              "      <td>1</td>\n",
              "      <td>1</td>\n",
              "      <td>1</td>\n",
              "      <td>2</td>\n",
              "    </tr>\n",
              "    <tr>\n",
              "      <th>22</th>\n",
              "      <td>0</td>\n",
              "      <td>91</td>\n",
              "      <td>1</td>\n",
              "      <td>1</td>\n",
              "      <td>1</td>\n",
              "      <td>1</td>\n",
              "      <td>1</td>\n",
              "      <td>1</td>\n",
              "      <td>2</td>\n",
              "    </tr>\n",
              "  </tbody>\n",
              "</table>\n",
              "</div>"
            ],
            "text/plain": [
              "    death  death_time  age  overweight  dialysis_time  dialysis_type  smoking  \\\n",
              "1       0          69    1           0              1              1        1   \n",
              "2       0          55    1           1              2              1        1   \n",
              "3       0          62    1           0              2              1        1   \n",
              "4       0         119    1           0              2              1        1   \n",
              "5       0          26    1           0              2              1        1   \n",
              "6       0           8    1           0              2              1        1   \n",
              "7       0          13    1           0              2              1        1   \n",
              "10      0           4    2           1              1              1        1   \n",
              "11      0          55    2           1              1              1        1   \n",
              "12      0          54    2           1              1              1        1   \n",
              "13      1          42    2           1              1              1        1   \n",
              "14      0         117    1           1              1              1        1   \n",
              "15      0          14    1           1              1              1        1   \n",
              "16      1          55    1           1              1              1        1   \n",
              "17      0          32    1           1              1              1        1   \n",
              "18      0          57    1           1              1              1        1   \n",
              "19      0          53    1           1              1              1        1   \n",
              "20      0          22    1           1              1              1        1   \n",
              "21      1          13    1           1              1              1        1   \n",
              "22      0          91    1           1              1              1        1   \n",
              "\n",
              "    diabetes  transplant_rejection  \n",
              "1          1                     2  \n",
              "2          1                     2  \n",
              "3          1                     2  \n",
              "4          1                     2  \n",
              "5          1                     1  \n",
              "6          1                     2  \n",
              "7          1                     2  \n",
              "10         1                     2  \n",
              "11         1                     2  \n",
              "12         1                     2  \n",
              "13         1                     2  \n",
              "14         1                     2  \n",
              "15         1                     2  \n",
              "16         1                     2  \n",
              "17         1                     2  \n",
              "18         1                     2  \n",
              "19         1                     2  \n",
              "20         1                     2  \n",
              "21         1                     2  \n",
              "22         1                     2  "
            ]
          },
          "execution_count": 14,
          "metadata": {},
          "output_type": "execute_result"
        }
      ],
      "source": [
        "# age is classified to 1:under 60 and 2: above 60\n",
        "df_patients_indonesia[\"age\"] = df_patients_indonesia[\"age\"].apply(lambda x: 1 if x==2 else 2)\n",
        "# diabetes is classified to 1: diabetic and 0: non-diabetic\n",
        "df_patients_indonesia[\"diabetes\"] = df_patients_indonesia[\"diabetes\"].apply(lambda x: 0 if x==2 else x)\n",
        "# smoking is classified as 1: smoker and 0: non smoker\n",
        "df_patients_indonesia[\"smoking\"] = df_patients_indonesia[\"smoking\"].apply(lambda x: 0 if x==2 else x)\n",
        "# overweight calssification is 1: obese and 0: not obese\n",
        "df_patients_indonesia[\"overweight\"] = df_patients_indonesia[\"overweight\"].apply(lambda x: 0 if x==2 else x)\n",
        "# dialysis_time is classified to 1: more than 24 months and 0: less than 24 months\n",
        "df_patients_indonesia[\"dialysis_time\"] = df_patients_indonesia[\"dialysis_time\"].apply(lambda x: 1 if x==2 else 2)\n",
        "# dialysis_type is classified into 3 groups:0 CAPD, 1 hemodialysis , 2 preemptive transplant\n",
        "df_patients_indonesia[\"dialysis_type\"] = df_patients_indonesia[\"dialysis_type\"].apply(\n",
        "    lambda x: 1 if x==0 else (0 if x==1 or x==2 else 2))\n",
        "\n",
        "df_patients_indonesia.head(20)"
      ]
    },
    {
      "cell_type": "code",
      "execution_count": 15,
      "metadata": {},
      "outputs": [],
      "source": [
        "# Renaming the columns that might be needed for the second data set\n",
        "df_patients_universal = df_patients_universal[[\n",
        "    \"Age\",                 # 3 --> > 60 years old\n",
        "    \"BMI\",                 # Continuous variable\n",
        "    \"Smoking\",             # 1 yes, 2 no\n",
        "    \"DM\",                  # Diabetes Mellitus 0 no, 1 yes\n",
        "    \"Hypertension\",        # Hypertension 0 no, 1 yes\n",
        "    \"Type of dialysis\",    # Type of dialysis  0 Conservative Treatment, 1\tHemodiaylisis ,2 Peritoneal dialysis\n",
        "    \"Time on dialysis\",    # Time on dialysis, days\n",
        "    \"Time on WL\",          # Time on waitlist, days\n",
        "    \"Panel\",               # Calculate panel-reactive antibody 0 – 30% , 1 - >30%\n",
        "    \"KTx\",                 # Kidney transplantation 0 no, 1 yes\n",
        "    \"Death aflter KTx\",    # Death after kidney transplantation 0 no, 1 yes   \n",
        "    \"Follow-up KTx\",       # Follow-up Death after kidney transplantation, days \n",
        "]]\n",
        "\n",
        "df_patients_universal.rename(columns={\n",
        "    \"Age\": \"age\",                 \n",
        "    \"BMI\": \"overweight\",                \n",
        "    \"Smoking\": \"smoking\",            \n",
        "    \"DM\": \"diabetes\",                 \n",
        "    \"Hypertension\": \"hypertension\",        \n",
        "    \"Type of dialysis\": \"dialysis_type\",    \n",
        "    \"Time on dialysis\": \"dialysis_time\",  \n",
        "    \"Time on WL\": \"waitlist_time\",      \n",
        "    \"Panel\": \"panel\",               \n",
        "    \"KTx\": \"transplantation\",                 \n",
        "    \"Death aflter KTx\": \"death\",\n",
        "    \"Follow-up KTx\": \"death_time\",     \n",
        "}, inplace=True)\n",
        "\n",
        "# we consider only the death after tarnsplantation, not all the pationats that are in waiting list\n",
        "df_patients_universal = df_patients_universal[df_patients_universal[\"transplantation\"] == 1]\n"
      ]
    },
    {
      "cell_type": "code",
      "execution_count": 16,
      "metadata": {},
      "outputs": [
        {
          "name": "stdout",
          "output_type": "stream",
          "text": [
            "age                 0.000000\n",
            "overweight         11.197917\n",
            "smoking             3.125000\n",
            "diabetes            0.000000\n",
            "hypertension        0.000000\n",
            "dialysis_type       0.000000\n",
            "dialysis_time       2.864583\n",
            "waitlist_time       0.000000\n",
            "panel               1.302083\n",
            "transplantation     0.000000\n",
            "death               0.000000\n",
            "death_time          0.000000\n",
            "dtype: float64\n"
          ]
        }
      ],
      "source": [
        "# getting percentage of missing values per feature\n",
        "print(df_patients_universal.isna().sum()/len(df_patients_universal)*100)\n",
        "df_patients_universal[\"panel\"] = np.where(df_patients_universal[\"panel\"].isna(), 0 , df_patients_universal[\"panel\"])\n",
        "df_patients_universal = df_patients_universal.dropna()\n"
      ]
    },
    {
      "cell_type": "code",
      "execution_count": 17,
      "metadata": {},
      "outputs": [
        {
          "name": "stdout",
          "output_type": "stream",
          "text": [
            "age                  int64\n",
            "overweight         float64\n",
            "smoking            float64\n",
            "diabetes           float64\n",
            "hypertension       float64\n",
            "dialysis_type        int64\n",
            "dialysis_time      float64\n",
            "waitlist_time      float64\n",
            "panel              float64\n",
            "transplantation      int64\n",
            "death              float64\n",
            "death_time         float64\n",
            "dtype: object\n"
          ]
        }
      ],
      "source": [
        "print(df_patients_universal.dtypes)\n",
        "df_patients_universal = df_patients_universal.astype({\n",
        "    \"smoking\":\"int\",\n",
        "    \"diabetes\":\"int\",\n",
        "    \"hypertension\":\"int\",\n",
        "    \"panel\":\"int\",\n",
        "    \"death\":\"int\"\n",
        "    })\n"
      ]
    },
    {
      "cell_type": "code",
      "execution_count": 18,
      "metadata": {},
      "outputs": [],
      "source": [
        "# data formating and reshaping of second data set\n",
        "df_patients_universal[\"age\"] = df_patients_universal[\"age\"].apply(lambda x: 1 if x==1 or x==2 else 2)\n",
        "df_patients_universal[\"smoking\"] = df_patients_universal[\"smoking\"].apply(lambda x: 0 if x==2 else x)\n",
        "# BMI is classified into two categories: 1. overweight 0. fit\n",
        "df_patients_universal[\"overweight\"] = df_patients_universal[\"overweight\"].apply(lambda x: 1 if x>=23 else 0)\n",
        "df_patients_universal[\"dialysis_time\"] = df_patients_universal[\"dialysis_time\"].apply(lambda x: 1 if x<=24 * 30 else 2)\n",
        "# changing the contents of columns into months\n",
        "df_patients_universal[\"waitlist_time\"] = df_patients_universal[\"waitlist_time\"].apply(lambda x:  int(x / 30) if x > 30 else 1)\n",
        "df_patients_universal[\"death_time\"] = df_patients_universal[\"death_time\"].apply(lambda x:  int(x / 30) if x > 30 else 1)\n",
        "\n",
        "# df_patients_universal.head(20)"
      ]
    },
    {
      "cell_type": "code",
      "execution_count": 19,
      "metadata": {},
      "outputs": [
        {
          "name": "stdout",
          "output_type": "stream",
          "text": [
            "Number of patients are :  1333\n"
          ]
        }
      ],
      "source": [
        "# droping the columns that was not useful to answer the research question \n",
        "df_patients1 = df_patients_indonesia.drop(columns={\"transplant_rejection\"})\n",
        "df_patients2 = df_patients_universal.drop(columns={\"hypertension\", \"panel\", \"waitlist_time\", \"transplantation\"})\n",
        "# concating of two data sets and create one dataset.\n",
        "df_patients = pd.concat([df_patients1, df_patients2], ignore_index=True)\n",
        "print('Number of patients are : ', len(df_patients))\n",
        "\n"
      ]
    },
    {
      "cell_type": "code",
      "execution_count": 20,
      "metadata": {},
      "outputs": [
        {
          "data": {
            "text/html": [
              "<div>\n",
              "<style scoped>\n",
              "    .dataframe tbody tr th:only-of-type {\n",
              "        vertical-align: middle;\n",
              "    }\n",
              "\n",
              "    .dataframe tbody tr th {\n",
              "        vertical-align: top;\n",
              "    }\n",
              "\n",
              "    .dataframe thead th {\n",
              "        text-align: right;\n",
              "    }\n",
              "</style>\n",
              "<table border=\"1\" class=\"dataframe\">\n",
              "  <thead>\n",
              "    <tr style=\"text-align: right;\">\n",
              "      <th></th>\n",
              "      <th>death</th>\n",
              "      <th>death_time</th>\n",
              "      <th>age</th>\n",
              "      <th>overweight</th>\n",
              "      <th>dialysis_time</th>\n",
              "      <th>dialysis_type</th>\n",
              "      <th>smoking</th>\n",
              "      <th>diabetes</th>\n",
              "    </tr>\n",
              "  </thead>\n",
              "  <tbody>\n",
              "    <tr>\n",
              "      <th>445</th>\n",
              "      <td>0</td>\n",
              "      <td>20</td>\n",
              "      <td>1</td>\n",
              "      <td>1</td>\n",
              "      <td>1</td>\n",
              "      <td>1</td>\n",
              "      <td>0</td>\n",
              "      <td>0</td>\n",
              "    </tr>\n",
              "    <tr>\n",
              "      <th>577</th>\n",
              "      <td>1</td>\n",
              "      <td>7</td>\n",
              "      <td>1</td>\n",
              "      <td>0</td>\n",
              "      <td>1</td>\n",
              "      <td>1</td>\n",
              "      <td>0</td>\n",
              "      <td>0</td>\n",
              "    </tr>\n",
              "    <tr>\n",
              "      <th>673</th>\n",
              "      <td>0</td>\n",
              "      <td>35</td>\n",
              "      <td>1</td>\n",
              "      <td>0</td>\n",
              "      <td>1</td>\n",
              "      <td>0</td>\n",
              "      <td>0</td>\n",
              "      <td>0</td>\n",
              "    </tr>\n",
              "    <tr>\n",
              "      <th>580</th>\n",
              "      <td>0</td>\n",
              "      <td>56</td>\n",
              "      <td>1</td>\n",
              "      <td>0</td>\n",
              "      <td>1</td>\n",
              "      <td>1</td>\n",
              "      <td>0</td>\n",
              "      <td>0</td>\n",
              "    </tr>\n",
              "    <tr>\n",
              "      <th>502</th>\n",
              "      <td>0</td>\n",
              "      <td>120</td>\n",
              "      <td>1</td>\n",
              "      <td>0</td>\n",
              "      <td>1</td>\n",
              "      <td>1</td>\n",
              "      <td>0</td>\n",
              "      <td>0</td>\n",
              "    </tr>\n",
              "    <tr>\n",
              "      <th>448</th>\n",
              "      <td>0</td>\n",
              "      <td>95</td>\n",
              "      <td>2</td>\n",
              "      <td>1</td>\n",
              "      <td>1</td>\n",
              "      <td>1</td>\n",
              "      <td>0</td>\n",
              "      <td>0</td>\n",
              "    </tr>\n",
              "    <tr>\n",
              "      <th>1286</th>\n",
              "      <td>0</td>\n",
              "      <td>7</td>\n",
              "      <td>1</td>\n",
              "      <td>0</td>\n",
              "      <td>1</td>\n",
              "      <td>1</td>\n",
              "      <td>0</td>\n",
              "      <td>0</td>\n",
              "    </tr>\n",
              "    <tr>\n",
              "      <th>706</th>\n",
              "      <td>1</td>\n",
              "      <td>4</td>\n",
              "      <td>1</td>\n",
              "      <td>0</td>\n",
              "      <td>2</td>\n",
              "      <td>1</td>\n",
              "      <td>0</td>\n",
              "      <td>0</td>\n",
              "    </tr>\n",
              "    <tr>\n",
              "      <th>1300</th>\n",
              "      <td>0</td>\n",
              "      <td>24</td>\n",
              "      <td>1</td>\n",
              "      <td>1</td>\n",
              "      <td>2</td>\n",
              "      <td>2</td>\n",
              "      <td>1</td>\n",
              "      <td>1</td>\n",
              "    </tr>\n",
              "    <tr>\n",
              "      <th>551</th>\n",
              "      <td>0</td>\n",
              "      <td>18</td>\n",
              "      <td>1</td>\n",
              "      <td>0</td>\n",
              "      <td>1</td>\n",
              "      <td>1</td>\n",
              "      <td>0</td>\n",
              "      <td>0</td>\n",
              "    </tr>\n",
              "    <tr>\n",
              "      <th>1312</th>\n",
              "      <td>0</td>\n",
              "      <td>24</td>\n",
              "      <td>1</td>\n",
              "      <td>0</td>\n",
              "      <td>1</td>\n",
              "      <td>2</td>\n",
              "      <td>0</td>\n",
              "      <td>0</td>\n",
              "    </tr>\n",
              "    <tr>\n",
              "      <th>529</th>\n",
              "      <td>0</td>\n",
              "      <td>6</td>\n",
              "      <td>1</td>\n",
              "      <td>0</td>\n",
              "      <td>1</td>\n",
              "      <td>1</td>\n",
              "      <td>0</td>\n",
              "      <td>0</td>\n",
              "    </tr>\n",
              "    <tr>\n",
              "      <th>42</th>\n",
              "      <td>0</td>\n",
              "      <td>72</td>\n",
              "      <td>1</td>\n",
              "      <td>0</td>\n",
              "      <td>1</td>\n",
              "      <td>1</td>\n",
              "      <td>1</td>\n",
              "      <td>1</td>\n",
              "    </tr>\n",
              "    <tr>\n",
              "      <th>464</th>\n",
              "      <td>0</td>\n",
              "      <td>58</td>\n",
              "      <td>1</td>\n",
              "      <td>1</td>\n",
              "      <td>1</td>\n",
              "      <td>1</td>\n",
              "      <td>0</td>\n",
              "      <td>0</td>\n",
              "    </tr>\n",
              "    <tr>\n",
              "      <th>463</th>\n",
              "      <td>0</td>\n",
              "      <td>62</td>\n",
              "      <td>1</td>\n",
              "      <td>1</td>\n",
              "      <td>1</td>\n",
              "      <td>1</td>\n",
              "      <td>0</td>\n",
              "      <td>0</td>\n",
              "    </tr>\n",
              "  </tbody>\n",
              "</table>\n",
              "</div>"
            ],
            "text/plain": [
              "      death  death_time  age  overweight  dialysis_time  dialysis_type  \\\n",
              "445       0          20    1           1              1              1   \n",
              "577       1           7    1           0              1              1   \n",
              "673       0          35    1           0              1              0   \n",
              "580       0          56    1           0              1              1   \n",
              "502       0         120    1           0              1              1   \n",
              "448       0          95    2           1              1              1   \n",
              "1286      0           7    1           0              1              1   \n",
              "706       1           4    1           0              2              1   \n",
              "1300      0          24    1           1              2              2   \n",
              "551       0          18    1           0              1              1   \n",
              "1312      0          24    1           0              1              2   \n",
              "529       0           6    1           0              1              1   \n",
              "42        0          72    1           0              1              1   \n",
              "464       0          58    1           1              1              1   \n",
              "463       0          62    1           1              1              1   \n",
              "\n",
              "      smoking  diabetes  \n",
              "445         0         0  \n",
              "577         0         0  \n",
              "673         0         0  \n",
              "580         0         0  \n",
              "502         0         0  \n",
              "448         0         0  \n",
              "1286        0         0  \n",
              "706         0         0  \n",
              "1300        1         1  \n",
              "551         0         0  \n",
              "1312        0         0  \n",
              "529         0         0  \n",
              "42          1         1  \n",
              "464         0         0  \n",
              "463         0         0  "
            ]
          },
          "execution_count": 20,
          "metadata": {},
          "output_type": "execute_result"
        }
      ],
      "source": [
        "#checking 15 random samples to have an idea of the data\n",
        "df_patients.sample(15)\n"
      ]
    },
    {
      "cell_type": "code",
      "execution_count": 21,
      "metadata": {},
      "outputs": [
        {
          "name": "stdout",
          "output_type": "stream",
          "text": [
            "<class 'pandas.core.frame.DataFrame'>\n",
            "RangeIndex: 1333 entries, 0 to 1332\n",
            "Data columns (total 8 columns):\n",
            " #   Column         Non-Null Count  Dtype\n",
            "---  ------         --------------  -----\n",
            " 0   death          1333 non-null   int64\n",
            " 1   death_time     1333 non-null   int64\n",
            " 2   age            1333 non-null   int64\n",
            " 3   overweight     1333 non-null   int64\n",
            " 4   dialysis_time  1333 non-null   int64\n",
            " 5   dialysis_type  1333 non-null   int64\n",
            " 6   smoking        1333 non-null   int64\n",
            " 7   diabetes       1333 non-null   int64\n",
            "dtypes: int64(8)\n",
            "memory usage: 83.4 KB\n"
          ]
        }
      ],
      "source": [
        "df_patients.info()"
      ]
    },
    {
      "attachments": {},
      "cell_type": "markdown",
      "metadata": {},
      "source": [
        "## Part 3: EXPLORATORY DATA ANALYSIS \n"
      ]
    },
    {
      "cell_type": "code",
      "execution_count": 22,
      "metadata": {},
      "outputs": [],
      "source": [
        "# variables for plots to make them uniform\n",
        "colors      = ['skyblue', 'green']\n",
        "line_color  = 'black'\n",
        "plot_width  = 600\n",
        "plot_height = 400\n",
        "\n",
        "def show_plot(\n",
        "    data, title, \n",
        "    max_y=60, \n",
        "    x_label=\"\", \n",
        "    y_label=\"\", \n",
        "    palette=colors, \n",
        "    factors=[\"dead\", \"live\"]):\n",
        "    \"\"\"\n",
        "    This function is defined to be used by other plots that need Bokeh library\n",
        "\n",
        "    Args:\n",
        "        data (Dataframe): datafarme used to plot\n",
        "        title (Str): description of plot\n",
        "        x_label (str, optional): description of x axis\n",
        "        y_label (str, optional): description of y axis\n",
        "        palette (Dict): colors used in plot\n",
        "        factors (list): description of categories, \n",
        "            Defaults to [\"dehydration\", \"control\"].\n",
        "\n",
        "    Returns:\n",
        "        p: plot\n",
        "    \n",
        "    Author(s):\n",
        "        Roya Gharehbeiklou\n",
        "    \"\"\"\n",
        "    index_cmap = factor_cmap(\n",
        "        'x',\n",
        "        palette=palette, \n",
        "        factors=factors, \n",
        "        start=1, \n",
        "        end=2)\n",
        "    x = list(data.index.values)\n",
        "    data_map = {\n",
        "        'x': x,\n",
        "        'counts': data.tolist()\n",
        "        }\n",
        "    \n",
        "    source = ColumnDataSource(data=data_map)\n",
        "    p = figure(\n",
        "        x_range=FactorRange(*x),\n",
        "        y_range=(0, max_y), \n",
        "        width=plot_width,\n",
        "        height=plot_height, \n",
        "        title=title, \n",
        "        x_axis_label=x_label, \n",
        "        y_axis_label=y_label)\n",
        "\n",
        "    p.vbar(\n",
        "        x='x',\n",
        "        top='counts', \n",
        "        source=source,\n",
        "        fill_color=index_cmap, \n",
        "        line_color=line_color)\n",
        "\n",
        "    p.y_range.start = 0\n",
        "    p.x_range.range_padding = 0.1\n",
        "    p.xaxis.major_label_orientation = 1\n",
        "    p.xgrid.grid_line_color = None\n",
        "    return p\n",
        "\n",
        "def plot_standard_error(plot, data):\n",
        "    \"\"\"\n",
        "    This function is used to show error plot\n",
        "\n",
        "    Args:\n",
        "        plot (plot): plot\n",
        "        data (dataframe): data which is intended to be drawn\n",
        "\n",
        "    Returns:\n",
        "        plot: plot\n",
        "    \n",
        "    Author(s):\n",
        "        Roya Gharehbeiklou\n",
        "    \"\"\"\n",
        "    x = list(data.index.values)\n",
        "    data_map = {\n",
        "        'x': x,\n",
        "        'upper': data[\"upper\"].tolist(),\n",
        "        'lower': data[\"lower\"].tolist()\n",
        "\n",
        "        }\n",
        "    source = ColumnDataSource(data=data_map)\n",
        "\n",
        "    w = Whisker(source=source, base=\"x\", upper=\"upper\", lower=\"lower\", \n",
        "            line_color='black', level=\"overlay\")\n",
        "    w.upper_head.line_color = 'black'\n",
        "    w.lower_head.line_color = 'black'\n",
        "    w.upper_head.size = w.lower_head.size = 20\n",
        "    plot.add_layout(w)\n",
        "    return plot\n"
      ]
    },
    {
      "cell_type": "code",
      "execution_count": 23,
      "metadata": {},
      "outputs": [],
      "source": [
        "def make_data_ready_to_plot():\n",
        "    \"\"\"\n",
        "    To plot the data, meaning of data is important,\n",
        "    to show it on the figures, this function is necessary \n",
        "\n",
        "    Returns:\n",
        "        df_patients_plot (dataframe) : dataframe \n",
        "    Author(s):\n",
        "        Roya Gharehbeiklou\n",
        "    \"\"\"\n",
        "    df_patients_plot = df_patients.copy()\n",
        "    df_patients_plot[\"death\"] = df_patients_plot[\"death\"].map({1: \"dead\", 0: \"living\"})\n",
        "\n",
        "    df_patients_plot[\"age\"] = df_patients_plot[\"age\"].map({1: \"over 60\", 2: \"under 60\"})\n",
        "    df_patients_plot[\"overweight\"] = df_patients_plot[\"overweight\"].map({0: \"fit\", 1: \"Obese\"})\n",
        "    df_patients_plot[\"smoking\"] = df_patients_plot[\"smoking\"].map({0: \"no\", 1: \"yes\"})\n",
        "    df_patients_plot[\"diabetes\"] = df_patients_plot[\"diabetes\"].map({0: \"non-diabetic\", 1: \"diabetic\"})\n",
        "    df_patients_plot[\"dialysis_time\"] = df_patients_plot[\"dialysis_time\"].map({1: \"less than 24 months\", 2: \"more than 24 months\"})\n",
        "\n",
        "    return df_patients_plot\n",
        "    # print(df_patients_plot.head())\n",
        "    \n",
        "def plot_data_by_column_name(column=\"smoking\"):\n",
        "    \"\"\"\n",
        "    prepare and draw the plot\n",
        "\n",
        "    Args:\n",
        "        column (str, optional): column name. Defaults to \"smoking\".\n",
        "\n",
        "    Returns:\n",
        "        plot: plot\n",
        "    \"\"\"\n",
        "    df_patients_plot = make_data_ready_to_plot()\n",
        "    data = df_patients_plot.groupby([\"death\", column])[\"death_time\"].mean()\n",
        "    # print(list(data.index.values))\n",
        "    # plot_data = show_plot(data,\"hello\")\n",
        "    # show(plot_data)\n",
        "    return show_plot(\n",
        "        data, \n",
        "        f\"Average of death time based on  {column} parameter\", \n",
        "        80, \n",
        "        f\"{column}\",\n",
        "        \"average time (months)\",\n",
        "        factors=df_patients_plot[column].unique().tolist())\n",
        "    \n",
        "\n"
      ]
    },
    {
      "attachments": {},
      "cell_type": "markdown",
      "metadata": {},
      "source": [
        "### Visualzing data"
      ]
    },
    {
      "attachments": {},
      "cell_type": "markdown",
      "metadata": {},
      "source": [
        "#### Bar plot of average time of death according to age, overweight, smoking, diabetes "
      ]
    },
    {
      "cell_type": "code",
      "execution_count": 35,
      "metadata": {},
      "outputs": [
        {
          "data": {
            "application/vnd.jupyter.widget-view+json": {
              "model_id": "398dae95183442a28edf45647e1b4ffa",
              "version_major": 2,
              "version_minor": 0
            },
            "text/plain": [
              "BokehModel(combine_events=True, render_bundle={'docs_json': {'f40e4d31-ee87-46da-9762-9d4fe39c0a3c': {'version…"
            ]
          },
          "execution_count": 35,
          "metadata": {},
          "output_type": "execute_result"
        }
      ],
      "source": [
        "import panel as pn\n",
        "\n",
        "# Define the column names for which you want to create plots\n",
        "column_names_for_plot = [\"age\", \"overweight\", \"smoking\", \"diabetes\"]\n",
        "\n",
        "# Create a dropdown menu for selecting the column name\n",
        "dropdown = pn.widgets.Select(name='Select Attribute:', options=column_names_for_plot)\n",
        "\n",
        "# Use the Panel library's interact function to create an interactive plot\n",
        "# The plot_data_by_column_name function will be called with the selected column name\n",
        "interactive_plot = pn.interact(plot_data_by_column_name, column=dropdown)\n",
        "\n",
        "# Display the interactive plot\n",
        "interactive_plot\n"
      ]
    },
    {
      "cell_type": "code",
      "execution_count": 36,
      "metadata": {},
      "outputs": [
        {
          "name": "stdout",
          "output_type": "stream",
          "text": [
            "------------------------------\n",
            "    death       age  death_time\n",
            "0    dead   over 60   21.960000\n",
            "1    dead  under 60   20.846154\n",
            "2  living   over 60   46.514226\n",
            "3  living  under 60   47.083333\n",
            "------------------------------\n",
            "    death overweight  death_time\n",
            "0    dead      Obese   18.342593\n",
            "1    dead        fit   24.491667\n",
            "2  living      Obese   43.534653\n",
            "3  living        fit   49.170000\n",
            "------------------------------\n",
            "    death smoking  death_time\n",
            "0    dead      no   21.986577\n",
            "1    dead     yes   20.810127\n",
            "2  living      no   48.247776\n",
            "3  living     yes   42.503145\n",
            "------------------------------\n",
            "    death      diabetes  death_time\n",
            "0    dead      diabetic   23.490566\n",
            "1    dead  non-diabetic   19.918033\n",
            "2  living      diabetic   52.080229\n",
            "3  living  non-diabetic   44.062169\n"
          ]
        }
      ],
      "source": [
        "df_patients_plot = make_data_ready_to_plot()\n",
        "print('-'*30)\n",
        "data = df_patients_plot.groupby([\"death\", \"age\"])[\"death_time\"].mean()\n",
        "print(data.reset_index())\n",
        "print('-'*30)\n",
        "data = df_patients_plot.groupby([\"death\", \"overweight\"])[\"death_time\"].mean()\n",
        "print(data.reset_index())\n",
        "print('-'*30)\n",
        "data = df_patients_plot.groupby([\"death\", \"smoking\"])[\"death_time\"].mean()\n",
        "print(data.reset_index())\n",
        "print('-'*30)\n",
        "data = df_patients_plot.groupby([\"death\", \"diabetes\"])[\"death_time\"].mean()\n",
        "print(data.reset_index())\n",
        "\n"
      ]
    },
    {
      "attachments": {},
      "cell_type": "markdown",
      "metadata": {},
      "source": [
        "<span style=\"color:pink\">Explanation: </span> According to this plot, there is no significant difference between the death time of those who were smoker, diabetic and their age was over or under 60. However obesity has influenced death time. In other terms, data of fit people with 24.49 months and obese people with 18.34 month illustrate that overweight is an important parameter.\n"
      ]
    },
    {
      "attachments": {},
      "cell_type": "markdown",
      "metadata": {},
      "source": [
        "---"
      ]
    },
    {
      "attachments": {},
      "cell_type": "markdown",
      "metadata": {},
      "source": [
        "#### Bar plot of average time of death according to age, overweight, smoking, diabetes "
      ]
    },
    {
      "cell_type": "code",
      "execution_count": 37,
      "metadata": {},
      "outputs": [
        {
          "data": {
            "application/vnd.jupyter.widget-view+json": {
              "model_id": "adfbba1b24e649fdab4e7abdd6dd060e",
              "version_major": 2,
              "version_minor": 0
            },
            "text/plain": [
              "interactive(children=(Dropdown(description='Attribute:', options=('smoking', 'age', 'diabetes', 'overweight'),…"
            ]
          },
          "metadata": {},
          "output_type": "display_data"
        },
        {
          "data": {
            "text/plain": [
              "<function __main__.create_boxplot(attribute)>"
            ]
          },
          "execution_count": 37,
          "metadata": {},
          "output_type": "execute_result"
        }
      ],
      "source": [
        "import ipywidgets as widgets\n",
        "from IPython.display import display\n",
        "\n",
        "# Define the attributes for which you want to create box plots\n",
        "attributes = [\"smoking\", \"age\", \"diabetes\", \"overweight\"]\n",
        "\n",
        "# Create a dropdown menu for selecting the attribute\n",
        "dropdown = widgets.Dropdown(options=attributes, description='Attribute:')\n",
        "\n",
        "# Define a function for creating the box plot\n",
        "def create_boxplot(attribute):\n",
        "    fig, ax = plt.subplots(figsize=(10, 8))\n",
        "    sns.boxplot(data=df_patients_plot, x=attribute, y=\"death_time\", hue=attribute, ax=ax, palette='viridis', legend=False)\n",
        "    ax.set_title('Box plot over patients attributes', fontsize=16)\n",
        "    ax.set_xlabel(attribute, fontsize=14)\n",
        "    ax.set_ylabel('Death Time', fontsize=14)\n",
        "    plt.grid(True)\n",
        "    plt.show()\n",
        "\n",
        "# Create an interactive plot\n",
        "widgets.interact(create_boxplot, attribute=dropdown)\n",
        "\n"
      ]
    },
    {
      "attachments": {},
      "cell_type": "markdown",
      "metadata": {},
      "source": [
        "<span style=\"color:pink\">Explanation: </span> According to box plots, it can be seen that there is not much outlier data and it increased the probability of normal distribution over death time based on these parameters. "
      ]
    },
    {
      "attachments": {},
      "cell_type": "markdown",
      "metadata": {},
      "source": [
        "---"
      ]
    },
    {
      "attachments": {},
      "cell_type": "markdown",
      "metadata": {},
      "source": [
        "#### Pi chart of dialysis time of according to dead or living patients"
      ]
    },
    {
      "cell_type": "code",
      "execution_count": 39,
      "metadata": {},
      "outputs": [
        {
          "data": {
            "image/png": "[encoded data removed]",
            "text/plain": [
              "<Figure size 1200x600 with 2 Axes>"
            ]
          },
          "metadata": {},
          "output_type": "display_data"
        }
      ],
      "source": [
        "df_patients_plot = make_data_ready_to_plot()\n",
        "\n",
        "# Create a new figure with two subplots\n",
        "fig, (ax1, ax2) = plt.subplots(1, 2, figsize=(12, 6))\n",
        "\n",
        "# Set the title for the figure\n",
        "fig.suptitle('Dialysis Time Distribution', fontsize=16)\n",
        "\n",
        "# Define a color palette\n",
        "colors = plt.cm.viridis(np.linspace(0, 1, len(df_patients_plot[\"dialysis_time\"].unique())))\n",
        "\n",
        "# Create a pie chart for the \"living\" patients\n",
        "df_patients_plot[df_patients_plot[\"death\"] == \"living\"][\"dialysis_time\"].value_counts().plot(kind='pie', autopct='%1.2f%%', ax=ax1, colors=colors)\n",
        "ax1.title.set_text(\"Living\")\n",
        "ax1.title.set_fontsize(14)\n",
        "ax1.legend(loc=\"upper right\")\n",
        "\n",
        "# Create a pie chart for the \"dead\" patients\n",
        "df_patients_plot[df_patients_plot[\"death\"] == \"dead\"][\"dialysis_time\"].value_counts().plot(kind='pie', autopct='%1.2f%%', ax=ax2, colors=colors)\n",
        "ax2.title.set_text(\"Dead\")\n",
        "ax2.title.set_fontsize(14)\n",
        "ax2.legend(loc=\"upper right\")\n",
        "\n",
        "# Show the plot\n",
        "plt.show()\n",
        "\n",
        "\n"
      ]
    },
    {
      "attachments": {},
      "cell_type": "markdown",
      "metadata": {},
      "source": [
        "<span style=\"color:pink\">Explanation: </span> According to pie plots, 57.83% of living people's dialysis time was less than 24 months and it seems that it's better to do the transplant sooner. However for dead people this period proportions are the same. \n"
      ]
    },
    {
      "attachments": {},
      "cell_type": "markdown",
      "metadata": {},
      "source": [
        "---"
      ]
    },
    {
      "attachments": {},
      "cell_type": "markdown",
      "metadata": {},
      "source": [
        "#### Heat map of correlation for dead patients "
      ]
    },
    {
      "cell_type": "code",
      "execution_count": 44,
      "metadata": {},
      "outputs": [
        {
          "data": {
            "image/png": "[encoded data removed]",
            "text/plain": [
              "<Figure size 600x600 with 3 Axes>"
            ]
          },
          "metadata": {},
          "output_type": "display_data"
        }
      ],
      "source": [
        "# check for correlation of dead people and all parameters\n",
        "plot_df = df_patients[df_patients[\"death\"] == 1].copy()\n",
        "plot_df.drop(columns=[\"death\"], inplace=True)\n",
        "g = sns.clustermap(plot_df.corr(), center=0, cmap=\"vlag\",\n",
        "                   dendrogram_ratio=(.1, .2),\n",
        "                   cbar_pos=(-.01, .64, .03, .2),\n",
        "                   linewidths=.75, figsize=(6, 6))\n",
        "\n",
        "g.ax_row_dendrogram.remove()\n"
      ]
    },
    {
      "attachments": {},
      "cell_type": "markdown",
      "metadata": {},
      "source": [
        "<span style=\"color:pink\">Explanation: </span> According to this plot, for dead people there are not any specific correlation between all variables.\n"
      ]
    },
    {
      "attachments": {},
      "cell_type": "markdown",
      "metadata": {},
      "source": [
        "---"
      ]
    },
    {
      "attachments": {},
      "cell_type": "markdown",
      "metadata": {},
      "source": [
        "#### Heat map of correlation for living patients "
      ]
    },
    {
      "cell_type": "code",
      "execution_count": 43,
      "metadata": {},
      "outputs": [
        {
          "data": {
            "image/png": "[encoded data removed]",
            "text/plain": [
              "<Figure size 600x600 with 3 Axes>"
            ]
          },
          "metadata": {},
          "output_type": "display_data"
        }
      ],
      "source": [
        "# check for correlation of live people and all parameters\n",
        "plot_df = df_patients[df_patients[\"death\"] == 0].copy()\n",
        "plot_df.drop(columns=[\"death\"], inplace=True)\n",
        "g = sns.clustermap(plot_df.corr(), center=0, cmap=\"mako\",\n",
        "                   dendrogram_ratio=(.1, .2),\n",
        "                   cbar_pos=(-.01, .64, .03, .2),\n",
        "                   linewidths=.75, figsize=(6, 6))\n",
        "\n",
        "g.ax_row_dendrogram.remove()"
      ]
    },
    {
      "attachments": {},
      "cell_type": "markdown",
      "metadata": {},
      "source": [
        "<span style=\"color:pink\">Explanation: </span> According to this plot, for living people there are not any specific correlation between all variables.\n"
      ]
    },
    {
      "attachments": {},
      "cell_type": "markdown",
      "metadata": {},
      "source": [
        "---"
      ]
    },
    {
      "attachments": {},
      "cell_type": "markdown",
      "metadata": {},
      "source": [
        "#### Histogram of data over all columns"
      ]
    },
    {
      "cell_type": "code",
      "execution_count": 48,
      "metadata": {},
      "outputs": [
        {
          "name": "stderr",
          "output_type": "stream",
          "text": [
            "BokehUserWarning: ColumnDataSource's columns must be of the same length. Current lengths: ('fill_color', 256), ('left', 40), ('right', 40), ('top', 40)\n",
            "BokehUserWarning: ColumnDataSource's columns must be of the same length. Current lengths: ('fill_color', 256), ('left', 40), ('right', 40), ('top', 40)\n",
            "BokehUserWarning: ColumnDataSource's columns must be of the same length. Current lengths: ('fill_color', 256), ('left', 40), ('right', 40), ('top', 40)\n",
            "BokehUserWarning: ColumnDataSource's columns must be of the same length. Current lengths: ('fill_color', 256), ('left', 40), ('right', 40), ('top', 40)\n",
            "BokehUserWarning: ColumnDataSource's columns must be of the same length. Current lengths: ('fill_color', 256), ('left', 40), ('right', 40), ('top', 40)\n",
            "BokehUserWarning: ColumnDataSource's columns must be of the same length. Current lengths: ('fill_color', 256), ('left', 40), ('right', 40), ('top', 40)\n",
            "BokehUserWarning: ColumnDataSource's columns must be of the same length. Current lengths: ('fill_color', 256), ('left', 40), ('right', 40), ('top', 40)\n",
            "BokehUserWarning: ColumnDataSource's columns must be of the same length. Current lengths: ('fill_color', 256), ('left', 40), ('right', 40), ('top', 40)\n"
          ]
        },
        {
          "data": {
            "text/html": [
              "\n",
              "  <div id=\"e3935124-804a-41e4-953e-261687644e73\" data-root-id=\"f7465950-07e8-4bc2-ba8d-57570644115f\" style=\"display: contents;\"></div>\n"
            ]
          },
          "metadata": {},
          "output_type": "display_data"
        },
        {
          "data": {
            "application/javascript": "(function(root) {\n  function embed_document(root) {\n  const docs_json = {\"da546d40-16ec-4adc-a36f-beb441ef9a23\":{\"version\":\"3.4.1\",\"title\":\"Bokeh Application\",\"roots\":[{\"type\":\"object\",\"name\":\"GridPlot\",\"id\":\"f7465950-07e8-4bc2-ba8d-57570644115f\",\"attributes\":{\"rows\":null,\"cols\":null,\"toolbar\":{\"type\":\"object\",\"name\":\"Toolbar\",\"id\":\"7a5c31b6-1633-4bdc-a143-9025c5634c3b\"},\"toolbar_location\":null,\"children\":[[{\"type\":\"object\",\"name\":\"Figure\",\"id\":\"9ab3cb3e-6e4d-4d1f-9ceb-3c67861669e7\",\"attributes\":{\"width\":300,\"height\":300,\"x_range\":{\"type\":\"object\",\"name\":\"DataRange1d\",\"id\":\"e037ecac-dc1c-474e-a746-f5998d30b4a0\"},\"y_range\":{\"type\":\"object\",\"name\":\"DataRange1d\",\"id\":\"0819e672-e672-4454-a890-23b2986c978a\",\"attributes\":{\"start\":0}},\"x_scale\":{\"type\":\"object\",\"name\":\"LinearScale\",\"id\":\"699c006a-dca3-4877-a947-7750d526827f\"},\"y_scale\":{\"type\":\"object\",\"name\":\"LinearScale\",\"id\":\"b2a9a5a2-b7eb-4bf6-ba2c-2da69067d313\"},\"title\":{\"type\":\"object\",\"name\":\"Title\",\"id\":\"270c02b1-7aff-4cca-b68d-de665ce633ce\",\"attributes\":{\"text\":\" death\",\"text_font_size\":\"16pt\"}},\"renderers\":[{\"type\":\"object\",\"name\":\"GlyphRenderer\",\"id\":\"6e9b4f02-f2fb-4f82-900c-85ea89a8fd87\",\"attributes\":{\"data_source\":{\"type\":\"object\",\"name\":\"ColumnDataSource\",\"id\":\"d49a7793-38b2-49d8-9584-1e3b6e23667d\",\"attributes\":{\"selected\":{\"type\":\"object\",\"name\":\"Selection\",\"id\":\"73bb0d11-4117-42da-ba1d-a6e5d1505110\",\"attributes\":{\"indices\":[],\"line_indices\":[]}},\"selection_policy\":{\"type\":\"object\",\"name\":\"UnionRenderers\",\"id\":\"c71fb070-0d18-413f-aa7b-1ba66822279a\"},\"data\":{\"type\":\"map\",\"entries\":[[\"top\",{\"type\":\"ndarray\",\"array\":{\"type\":\"bytes\",\"data\":\"UQQAAAAAAAAAAAAAAAAAAAAAAAAAAAAAAAAAAAAAAAAAAAAAAAAAAAAAAAAAAAAAAAAAAAAAAAAAAAAAAAAAAAAAAAAAAAAAAAAAAAAAAAAAAAAAAAAAAAAAAAAAAAAAAAAAAAAAAAAAAAAAAAAAAAAAAAAAAAAAAAAAAAAAAAAAAAAAAAAAAAAAAAAAAAAAAAAAAAAAAAAAAAAA5AAAAA==\"},\"shape\":[40],\"dtype\":\"int32\",\"order\":\"little\"}],[\"left\",{\"type\":\"ndarray\",\"array\":{\"type\":\"bytes\",\"data\":\"AAAAAAAAAACamZmZmZmZP5qZmZmZmak/NDMzMzMzsz+amZmZmZm5PwAAAAAAAMA/NDMzMzMzwz9nZmZmZmbGP5qZmZmZmck/zczMzMzMzD8AAAAAAADQP5qZmZmZmdE/NDMzMzMz0z/NzMzMzMzUP2dmZmZmZtY/AAAAAAAA2D+amZmZmZnZPzQzMzMzM9s/zczMzMzM3D9nZmZmZmbePwAAAAAAAOA/zczMzMzM4D+amZmZmZnhP2dmZmZmZuI/NDMzMzMz4z8AAAAAAADkP83MzMzMzOQ/mpmZmZmZ5T9nZmZmZmbmPzQzMzMzM+c/AAAAAAAA6D/NzMzMzMzoP5qZmZmZmek/Z2ZmZmZm6j80MzMzMzPrPwAAAAAAAOw/zczMzMzM7D+amZmZmZntP2dmZmZmZu4/NDMzMzMz7z8=\"},\"shape\":[40],\"dtype\":\"float64\",\"order\":\"little\"}],[\"right\",{\"type\":\"ndarray\",\"array\":{\"type\":\"bytes\",\"data\":\"mpmZmZmZmT+amZmZmZmpPzQzMzMzM7M/mpmZmZmZuT8AAAAAAADAPzQzMzMzM8M/Z2ZmZmZmxj+amZmZmZnJP83MzMzMzMw/AAAAAAAA0D+amZmZmZnRPzQzMzMzM9M/zczMzMzM1D9nZmZmZmbWPwAAAAAAANg/mpmZmZmZ2T80MzMzMzPbP83MzMzMzNw/Z2ZmZmZm3j8AAAAAAADgP83MzMzMzOA/mpmZmZmZ4T9nZmZmZmbiPzQzMzMzM+M/AAAAAAAA5D/NzMzMzMzkP5qZmZmZmeU/Z2ZmZmZm5j80MzMzMzPnPwAAAAAAAOg/zczMzMzM6D+amZmZmZnpP2dmZmZmZuo/NDMzMzMz6z8AAAAAAADsP83MzMzMzOw/mpmZmZmZ7T9nZmZmZmbuPzQzMzMzM+8/AAAAAAAA8D8=\"},\"shape\":[40],\"dtype\":\"float64\",\"order\":\"little\"}],[\"fill_color\",[\"#440154\",\"#440255\",\"#440357\",\"#450558\",\"#45065A\",\"#45085B\",\"#46095C\",\"#460B5E\",\"#460C5F\",\"#460E61\",\"#470F62\",\"#471163\",\"#471265\",\"#471466\",\"#471567\",\"#471669\",\"#47186A\",\"#48196B\",\"#481A6C\",\"#481C6E\",\"#481D6F\",\"#481E70\",\"#482071\",\"#482172\",\"#482273\",\"#482374\",\"#472575\",\"#472676\",\"#472777\",\"#472878\",\"#472A79\",\"#472B7A\",\"#472C7B\",\"#462D7C\",\"#462F7C\",\"#46307D\",\"#46317E\",\"#45327F\",\"#45347F\",\"#453580\",\"#453681\",\"#443781\",\"#443982\",\"#433A83\",\"#433B83\",\"#433C84\",\"#423D84\",\"#423E85\",\"#424085\",\"#414186\",\"#414286\",\"#404387\",\"#404487\",\"#3F4587\",\"#3F4788\",\"#3E4888\",\"#3E4989\",\"#3D4A89\",\"#3D4B89\",\"#3D4C89\",\"#3C4D8A\",\"#3C4E8A\",\"#3B508A\",\"#3B518A\",\"#3A528B\",\"#3A538B\",\"#39548B\",\"#39558B\",\"#38568B\",\"#38578C\",\"#37588C\",\"#37598C\",\"#365A8C\",\"#365B8C\",\"#355C8C\",\"#355D8C\",\"#345E8D\",\"#345F8D\",\"#33608D\",\"#33618D\",\"#32628D\",\"#32638D\",\"#31648D\",\"#31658D\",\"#31668D\",\"#30678D\",\"#30688D\",\"#2F698D\",\"#2F6A8D\",\"#2E6B8E\",\"#2E6C8E\",\"#2E6D8E\",\"#2D6E8E\",\"#2D6F8E\",\"#2C708E\",\"#2C718E\",\"#2C728E\",\"#2B738E\",\"#2B748E\",\"#2A758E\",\"#2A768E\",\"#2A778E\",\"#29788E\",\"#29798E\",\"#287A8E\",\"#287A8E\",\"#287B8E\",\"#277C8E\",\"#277D8E\",\"#277E8E\",\"#267F8E\",\"#26808E\",\"#26818E\",\"#25828E\",\"#25838D\",\"#24848D\",\"#24858D\",\"#24868D\",\"#23878D\",\"#23888D\",\"#23898D\",\"#22898D\",\"#228A8D\",\"#228B8D\",\"#218C8D\",\"#218D8C\",\"#218E8C\",\"#208F8C\",\"#20908C\",\"#20918C\",\"#1F928C\",\"#1F938B\",\"#1F948B\",\"#1F958B\",\"#1F968B\",\"#1E978A\",\"#1E988A\",\"#1E998A\",\"#1E998A\",\"#1E9A89\",\"#1E9B89\",\"#1E9C89\",\"#1E9D88\",\"#1E9E88\",\"#1E9F88\",\"#1EA087\",\"#1FA187\",\"#1FA286\",\"#1FA386\",\"#20A485\",\"#20A585\",\"#21A685\",\"#21A784\",\"#22A784\",\"#23A883\",\"#23A982\",\"#24AA82\",\"#25AB81\",\"#26AC81\",\"#27AD80\",\"#28AE7F\",\"#29AF7F\",\"#2AB07E\",\"#2BB17D\",\"#2CB17D\",\"#2EB27C\",\"#2FB37B\",\"#30B47A\",\"#32B57A\",\"#33B679\",\"#35B778\",\"#36B877\",\"#38B976\",\"#39B976\",\"#3BBA75\",\"#3DBB74\",\"#3EBC73\",\"#40BD72\",\"#42BE71\",\"#44BE70\",\"#45BF6F\",\"#47C06E\",\"#49C16D\",\"#4BC26C\",\"#4DC26B\",\"#4FC369\",\"#51C468\",\"#53C567\",\"#55C666\",\"#57C665\",\"#59C764\",\"#5BC862\",\"#5EC961\",\"#60C960\",\"#62CA5F\",\"#64CB5D\",\"#67CC5C\",\"#69CC5B\",\"#6BCD59\",\"#6DCE58\",\"#70CE56\",\"#72CF55\",\"#74D054\",\"#77D052\",\"#79D151\",\"#7CD24F\",\"#7ED24E\",\"#81D34C\",\"#83D34B\",\"#86D449\",\"#88D547\",\"#8BD546\",\"#8DD644\",\"#90D643\",\"#92D741\",\"#95D73F\",\"#97D83E\",\"#9AD83C\",\"#9DD93A\",\"#9FD938\",\"#A2DA37\",\"#A5DA35\",\"#A7DB33\",\"#AADB32\",\"#ADDC30\",\"#AFDC2E\",\"#B2DD2C\",\"#B5DD2B\",\"#B7DD29\",\"#BADE27\",\"#BDDE26\",\"#BFDF24\",\"#C2DF22\",\"#C5DF21\",\"#C7E01F\",\"#CAE01E\",\"#CDE01D\",\"#CFE11C\",\"#D2E11B\",\"#D4E11A\",\"#D7E219\",\"#DAE218\",\"#DCE218\",\"#DFE318\",\"#E1E318\",\"#E4E318\",\"#E7E419\",\"#E9E419\",\"#ECE41A\",\"#EEE51B\",\"#F1E51C\",\"#F3E51E\",\"#F6E61F\",\"#F8E621\",\"#FAE622\",\"#FDE724\"]]]}}},\"view\":{\"type\":\"object\",\"name\":\"CDSView\",\"id\":\"b93808b7-09fc-4d3c-9a89-20066d9f17c2\",\"attributes\":{\"filter\":{\"type\":\"object\",\"name\":\"AllIndices\",\"id\":\"e0a49e6a-69f6-4853-889a-9c87866ed009\"}}},\"glyph\":{\"type\":\"object\",\"name\":\"Quad\",\"id\":\"1026670d-cbb9-4dea-8b19-8cf798a0bd2c\",\"attributes\":{\"left\":{\"type\":\"field\",\"field\":\"left\"},\"right\":{\"type\":\"field\",\"field\":\"right\"},\"bottom\":{\"type\":\"value\",\"value\":0},\"top\":{\"type\":\"field\",\"field\":\"top\"},\"line_color\":{\"type\":\"value\",\"value\":\"white\"},\"line_alpha\":{\"type\":\"value\",\"value\":0.5},\"fill_color\":{\"type\":\"field\",\"field\":\"fill_color\"},\"fill_alpha\":{\"type\":\"value\",\"value\":0.5},\"hatch_alpha\":{\"type\":\"value\",\"value\":0.5}}},\"nonselection_glyph\":{\"type\":\"object\",\"name\":\"Quad\",\"id\":\"52210366-6b77-4c6a-8b34-81556a4af7f3\",\"attributes\":{\"left\":{\"type\":\"field\",\"field\":\"left\"},\"right\":{\"type\":\"field\",\"field\":\"right\"},\"bottom\":{\"type\":\"value\",\"value\":0},\"top\":{\"type\":\"field\",\"field\":\"top\"},\"line_color\":{\"type\":\"value\",\"value\":\"white\"},\"line_alpha\":{\"type\":\"value\",\"value\":0.1},\"fill_color\":{\"type\":\"field\",\"field\":\"fill_color\"},\"fill_alpha\":{\"type\":\"value\",\"value\":0.1},\"hatch_alpha\":{\"type\":\"value\",\"value\":0.1}}},\"muted_glyph\":{\"type\":\"object\",\"name\":\"Quad\",\"id\":\"35aa3c06-cfb6-4064-a153-837bc90ebe95\",\"attributes\":{\"left\":{\"type\":\"field\",\"field\":\"left\"},\"right\":{\"type\":\"field\",\"field\":\"right\"},\"bottom\":{\"type\":\"value\",\"value\":0},\"top\":{\"type\":\"field\",\"field\":\"top\"},\"line_color\":{\"type\":\"value\",\"value\":\"white\"},\"line_alpha\":{\"type\":\"value\",\"value\":0.2},\"fill_color\":{\"type\":\"field\",\"field\":\"fill_color\"},\"fill_alpha\":{\"type\":\"value\",\"value\":0.2},\"hatch_alpha\":{\"type\":\"value\",\"value\":0.2}}}}}],\"toolbar\":{\"type\":\"object\",\"name\":\"Toolbar\",\"id\":\"ff5a6529-9109-417d-aa94-86ac0b1e802e\"},\"toolbar_location\":null,\"left\":[{\"type\":\"object\",\"name\":\"LinearAxis\",\"id\":\"4ae3ffe8-c66a-4ce7-a391-7ad516d157e9\",\"attributes\":{\"ticker\":{\"type\":\"object\",\"name\":\"BasicTicker\",\"id\":\"0b88be44-a87d-4f56-9185-bc17d6bd48a5\",\"attributes\":{\"mantissas\":[1,2,5]}},\"formatter\":{\"type\":\"object\",\"name\":\"BasicTickFormatter\",\"id\":\"fb653a76-daeb-4b66-87b6-5d408eea85c6\"},\"axis_label\":\"Count\",\"axis_label_text_font_size\":\"14pt\",\"major_label_policy\":{\"type\":\"object\",\"name\":\"AllLabels\",\"id\":\"56c3c9c2-1d8f-42cf-93fd-0de41d58bcc5\"}}}],\"below\":[{\"type\":\"object\",\"name\":\"LinearAxis\",\"id\":\"f6dc6e29-fca0-4119-9356-6cb24d8de454\",\"attributes\":{\"ticker\":{\"type\":\"object\",\"name\":\"BasicTicker\",\"id\":\"157ea510-3205-41d1-baca-e8437ca146b4\",\"attributes\":{\"mantissas\":[1,2,5]}},\"formatter\":{\"type\":\"object\",\"name\":\"BasicTickFormatter\",\"id\":\"1e3051ba-913b-4367-b13d-99fed97e669d\"},\"axis_label\":\"Value\",\"axis_label_text_font_size\":\"14pt\",\"major_label_policy\":{\"type\":\"object\",\"name\":\"AllLabels\",\"id\":\"18f20286-6d57-4f64-b3d5-c675edeff859\"}}}],\"center\":[{\"type\":\"object\",\"name\":\"Grid\",\"id\":\"55c9dec3-8877-4c2e-885f-1b63b0fdf2a3\",\"attributes\":{\"axis\":{\"id\":\"f6dc6e29-fca0-4119-9356-6cb24d8de454\"},\"grid_line_color\":\"white\"}},{\"type\":\"object\",\"name\":\"Grid\",\"id\":\"94fe43ef-1a74-4b12-86cd-cdabcdf7d569\",\"attributes\":{\"dimension\":1,\"axis\":{\"id\":\"4ae3ffe8-c66a-4ce7-a391-7ad516d157e9\"},\"grid_line_color\":\"white\"}}],\"background_fill_color\":\"#fafafa\"}},0,0],[{\"type\":\"object\",\"name\":\"Figure\",\"id\":\"11525cb5-2d3a-4ef1-8241-b177ee5e5232\",\"attributes\":{\"width\":300,\"height\":300,\"x_range\":{\"type\":\"object\",\"name\":\"DataRange1d\",\"id\":\"7e448295-17b5-44f2-bdcc-4d539d7c9f10\"},\"y_range\":{\"type\":\"object\",\"name\":\"DataRange1d\",\"id\":\"dd47086f-24bb-4e84-a470-2d4eb67ef6ab\",\"attributes\":{\"start\":0}},\"x_scale\":{\"type\":\"object\",\"name\":\"LinearScale\",\"id\":\"b287e57f-6059-4c08-b392-456ec26c70d7\"},\"y_scale\":{\"type\":\"object\",\"name\":\"LinearScale\",\"id\":\"f2d49410-6276-4937-bbfd-e2b4a588ae74\"},\"title\":{\"type\":\"object\",\"name\":\"Title\",\"id\":\"ed69b85f-1e62-4a71-8178-52c9a6c9c02c\",\"attributes\":{\"text\":\" death_time\",\"text_font_size\":\"16pt\"}},\"renderers\":[{\"type\":\"object\",\"name\":\"GlyphRenderer\",\"id\":\"4e114746-2bca-4cfd-8a4e-9174052c4d5e\",\"attributes\":{\"data_source\":{\"type\":\"object\",\"name\":\"ColumnDataSource\",\"id\":\"9c4e475d-e477-4464-a0fe-283ff307b618\",\"attributes\":{\"selected\":{\"type\":\"object\",\"name\":\"Selection\",\"id\":\"a4be5b0b-76f0-4ac6-9c3b-35304787b4e5\",\"attributes\":{\"indices\":[],\"line_indices\":[]}},\"selection_policy\":{\"type\":\"object\",\"name\":\"UnionRenderers\",\"id\":\"9740e2ad-37dc-4cda-8d88-421154d57b0c\"},\"data\":{\"type\":\"map\",\"entries\":[[\"top\",{\"type\":\"ndarray\",\"array\":{\"type\":\"bytes\",\"data\":\"aQAAADAAAAAgAAAAMwAAACoAAAAvAAAAJwAAAD0AAAAwAAAAKQAAAEEAAABFAAAALAAAAC4AAAAdAAAAIwAAADUAAAA4AAAAMgAAACkAAAAnAAAAIAAAABIAAAAbAAAAHAAAABQAAAAYAAAAEgAAAAwAAAAHAAAADAAAAAsAAAAMAAAADgAAAAwAAAAJAAAADgAAAAgAAAAFAAAACQAAAA==\"},\"shape\":[40],\"dtype\":\"int32\",\"order\":\"little\"}],[\"left\",{\"type\":\"ndarray\",\"array\":{\"type\":\"bytes\",\"data\":\"AAAAAAAA8D8AAAAAAAAQQAAAAAAAABxAAAAAAAAAJEAAAAAAAAAqQAAAAAAAADBAAAAAAAAAM0AAAAAAAAA2QAAAAAAAADlAAAAAAAAAPEAAAAAAAAA/QAAAAAAAAEFAAAAAAACAQkAAAAAAAABEQAAAAAAAgEVAAAAAAAAAR0AAAAAAAIBIQAAAAAAAAEpAAAAAAACAS0AAAAAAAABNQAAAAAAAgE5AAAAAAAAAUEAAAAAAAMBQQAAAAAAAgFFAAAAAAABAUkAAAAAAAABTQAAAAAAAwFNAAAAAAACAVEAAAAAAAEBVQAAAAAAAAFZAAAAAAADAVkAAAAAAAIBXQAAAAAAAQFhAAAAAAAAAWUAAAAAAAMBZQAAAAAAAgFpAAAAAAABAW0AAAAAAAABcQAAAAAAAwFxAAAAAAACAXUA=\"},\"shape\":[40],\"dtype\":\"float64\",\"order\":\"little\"}],[\"right\",{\"type\":\"ndarray\",\"array\":{\"type\":\"bytes\",\"data\":\"AAAAAAAAEEAAAAAAAAAcQAAAAAAAACRAAAAAAAAAKkAAAAAAAAAwQAAAAAAAADNAAAAAAAAANkAAAAAAAAA5QAAAAAAAADxAAAAAAAAAP0AAAAAAAABBQAAAAAAAgEJAAAAAAAAAREAAAAAAAIBFQAAAAAAAAEdAAAAAAACASEAAAAAAAABKQAAAAAAAgEtAAAAAAAAATUAAAAAAAIBOQAAAAAAAAFBAAAAAAADAUEAAAAAAAIBRQAAAAAAAQFJAAAAAAAAAU0AAAAAAAMBTQAAAAAAAgFRAAAAAAABAVUAAAAAAAABWQAAAAAAAwFZAAAAAAACAV0AAAAAAAEBYQAAAAAAAAFlAAAAAAADAWUAAAAAAAIBaQAAAAAAAQFtAAAAAAAAAXEAAAAAAAMBcQAAAAAAAgF1AAAAAAABAXkA=\"},\"shape\":[40],\"dtype\":\"float64\",\"order\":\"little\"}],[\"fill_color\",[\"#440154\",\"#440255\",\"#440357\",\"#450558\",\"#45065A\",\"#45085B\",\"#46095C\",\"#460B5E\",\"#460C5F\",\"#460E61\",\"#470F62\",\"#471163\",\"#471265\",\"#471466\",\"#471567\",\"#471669\",\"#47186A\",\"#48196B\",\"#481A6C\",\"#481C6E\",\"#481D6F\",\"#481E70\",\"#482071\",\"#482172\",\"#482273\",\"#482374\",\"#472575\",\"#472676\",\"#472777\",\"#472878\",\"#472A79\",\"#472B7A\",\"#472C7B\",\"#462D7C\",\"#462F7C\",\"#46307D\",\"#46317E\",\"#45327F\",\"#45347F\",\"#453580\",\"#453681\",\"#443781\",\"#443982\",\"#433A83\",\"#433B83\",\"#433C84\",\"#423D84\",\"#423E85\",\"#424085\",\"#414186\",\"#414286\",\"#404387\",\"#404487\",\"#3F4587\",\"#3F4788\",\"#3E4888\",\"#3E4989\",\"#3D4A89\",\"#3D4B89\",\"#3D4C89\",\"#3C4D8A\",\"#3C4E8A\",\"#3B508A\",\"#3B518A\",\"#3A528B\",\"#3A538B\",\"#39548B\",\"#39558B\",\"#38568B\",\"#38578C\",\"#37588C\",\"#37598C\",\"#365A8C\",\"#365B8C\",\"#355C8C\",\"#355D8C\",\"#345E8D\",\"#345F8D\",\"#33608D\",\"#33618D\",\"#32628D\",\"#32638D\",\"#31648D\",\"#31658D\",\"#31668D\",\"#30678D\",\"#30688D\",\"#2F698D\",\"#2F6A8D\",\"#2E6B8E\",\"#2E6C8E\",\"#2E6D8E\",\"#2D6E8E\",\"#2D6F8E\",\"#2C708E\",\"#2C718E\",\"#2C728E\",\"#2B738E\",\"#2B748E\",\"#2A758E\",\"#2A768E\",\"#2A778E\",\"#29788E\",\"#29798E\",\"#287A8E\",\"#287A8E\",\"#287B8E\",\"#277C8E\",\"#277D8E\",\"#277E8E\",\"#267F8E\",\"#26808E\",\"#26818E\",\"#25828E\",\"#25838D\",\"#24848D\",\"#24858D\",\"#24868D\",\"#23878D\",\"#23888D\",\"#23898D\",\"#22898D\",\"#228A8D\",\"#228B8D\",\"#218C8D\",\"#218D8C\",\"#218E8C\",\"#208F8C\",\"#20908C\",\"#20918C\",\"#1F928C\",\"#1F938B\",\"#1F948B\",\"#1F958B\",\"#1F968B\",\"#1E978A\",\"#1E988A\",\"#1E998A\",\"#1E998A\",\"#1E9A89\",\"#1E9B89\",\"#1E9C89\",\"#1E9D88\",\"#1E9E88\",\"#1E9F88\",\"#1EA087\",\"#1FA187\",\"#1FA286\",\"#1FA386\",\"#20A485\",\"#20A585\",\"#21A685\",\"#21A784\",\"#22A784\",\"#23A883\",\"#23A982\",\"#24AA82\",\"#25AB81\",\"#26AC81\",\"#27AD80\",\"#28AE7F\",\"#29AF7F\",\"#2AB07E\",\"#2BB17D\",\"#2CB17D\",\"#2EB27C\",\"#2FB37B\",\"#30B47A\",\"#32B57A\",\"#33B679\",\"#35B778\",\"#36B877\",\"#38B976\",\"#39B976\",\"#3BBA75\",\"#3DBB74\",\"#3EBC73\",\"#40BD72\",\"#42BE71\",\"#44BE70\",\"#45BF6F\",\"#47C06E\",\"#49C16D\",\"#4BC26C\",\"#4DC26B\",\"#4FC369\",\"#51C468\",\"#53C567\",\"#55C666\",\"#57C665\",\"#59C764\",\"#5BC862\",\"#5EC961\",\"#60C960\",\"#62CA5F\",\"#64CB5D\",\"#67CC5C\",\"#69CC5B\",\"#6BCD59\",\"#6DCE58\",\"#70CE56\",\"#72CF55\",\"#74D054\",\"#77D052\",\"#79D151\",\"#7CD24F\",\"#7ED24E\",\"#81D34C\",\"#83D34B\",\"#86D449\",\"#88D547\",\"#8BD546\",\"#8DD644\",\"#90D643\",\"#92D741\",\"#95D73F\",\"#97D83E\",\"#9AD83C\",\"#9DD93A\",\"#9FD938\",\"#A2DA37\",\"#A5DA35\",\"#A7DB33\",\"#AADB32\",\"#ADDC30\",\"#AFDC2E\",\"#B2DD2C\",\"#B5DD2B\",\"#B7DD29\",\"#BADE27\",\"#BDDE26\",\"#BFDF24\",\"#C2DF22\",\"#C5DF21\",\"#C7E01F\",\"#CAE01E\",\"#CDE01D\",\"#CFE11C\",\"#D2E11B\",\"#D4E11A\",\"#D7E219\",\"#DAE218\",\"#DCE218\",\"#DFE318\",\"#E1E318\",\"#E4E318\",\"#E7E419\",\"#E9E419\",\"#ECE41A\",\"#EEE51B\",\"#F1E51C\",\"#F3E51E\",\"#F6E61F\",\"#F8E621\",\"#FAE622\",\"#FDE724\"]]]}}},\"view\":{\"type\":\"object\",\"name\":\"CDSView\",\"id\":\"0e5f3d18-b4aa-4c32-a7df-b337487ba0c2\",\"attributes\":{\"filter\":{\"type\":\"object\",\"name\":\"AllIndices\",\"id\":\"91691d60-5bb5-4e37-b19c-be06689295b3\"}}},\"glyph\":{\"type\":\"object\",\"name\":\"Quad\",\"id\":\"a4c4c6e9-5b19-4fa1-bf6b-9a88b5486765\",\"attributes\":{\"left\":{\"type\":\"field\",\"field\":\"left\"},\"right\":{\"type\":\"field\",\"field\":\"right\"},\"bottom\":{\"type\":\"value\",\"value\":0},\"top\":{\"type\":\"field\",\"field\":\"top\"},\"line_color\":{\"type\":\"value\",\"value\":\"white\"},\"line_alpha\":{\"type\":\"value\",\"value\":0.5},\"fill_color\":{\"type\":\"field\",\"field\":\"fill_color\"},\"fill_alpha\":{\"type\":\"value\",\"value\":0.5},\"hatch_alpha\":{\"type\":\"value\",\"value\":0.5}}},\"nonselection_glyph\":{\"type\":\"object\",\"name\":\"Quad\",\"id\":\"71d680ce-db90-48c2-b023-5b3e4ef3341b\",\"attributes\":{\"left\":{\"type\":\"field\",\"field\":\"left\"},\"right\":{\"type\":\"field\",\"field\":\"right\"},\"bottom\":{\"type\":\"value\",\"value\":0},\"top\":{\"type\":\"field\",\"field\":\"top\"},\"line_color\":{\"type\":\"value\",\"value\":\"white\"},\"line_alpha\":{\"type\":\"value\",\"value\":0.1},\"fill_color\":{\"type\":\"field\",\"field\":\"fill_color\"},\"fill_alpha\":{\"type\":\"value\",\"value\":0.1},\"hatch_alpha\":{\"type\":\"value\",\"value\":0.1}}},\"muted_glyph\":{\"type\":\"object\",\"name\":\"Quad\",\"id\":\"3292d660-001a-4148-b872-673a8709e808\",\"attributes\":{\"left\":{\"type\":\"field\",\"field\":\"left\"},\"right\":{\"type\":\"field\",\"field\":\"right\"},\"bottom\":{\"type\":\"value\",\"value\":0},\"top\":{\"type\":\"field\",\"field\":\"top\"},\"line_color\":{\"type\":\"value\",\"value\":\"white\"},\"line_alpha\":{\"type\":\"value\",\"value\":0.2},\"fill_color\":{\"type\":\"field\",\"field\":\"fill_color\"},\"fill_alpha\":{\"type\":\"value\",\"value\":0.2},\"hatch_alpha\":{\"type\":\"value\",\"value\":0.2}}}}}],\"toolbar\":{\"type\":\"object\",\"name\":\"Toolbar\",\"id\":\"c5923bb7-7874-43e9-9da6-3fde381888b0\"},\"toolbar_location\":null,\"left\":[{\"type\":\"object\",\"name\":\"LinearAxis\",\"id\":\"32838bf3-ea3b-4d6d-84d8-45f163f31124\",\"attributes\":{\"ticker\":{\"type\":\"object\",\"name\":\"BasicTicker\",\"id\":\"e4408482-2b68-4e23-a76d-c5093b087944\",\"attributes\":{\"mantissas\":[1,2,5]}},\"formatter\":{\"type\":\"object\",\"name\":\"BasicTickFormatter\",\"id\":\"2676f2f3-1a3a-45a7-808b-d83d6396b904\"},\"axis_label\":\"Count\",\"axis_label_text_font_size\":\"14pt\",\"major_label_policy\":{\"type\":\"object\",\"name\":\"AllLabels\",\"id\":\"620c6356-08cc-4567-b065-fec476c67a4c\"}}}],\"below\":[{\"type\":\"object\",\"name\":\"LinearAxis\",\"id\":\"c38958bd-904b-4cda-b3af-b74ad9f93832\",\"attributes\":{\"ticker\":{\"type\":\"object\",\"name\":\"BasicTicker\",\"id\":\"f26cde29-0995-416e-a0dc-4c64d9e0edef\",\"attributes\":{\"mantissas\":[1,2,5]}},\"formatter\":{\"type\":\"object\",\"name\":\"BasicTickFormatter\",\"id\":\"1e9bddbf-4103-47ce-bb16-5f2678c56186\"},\"axis_label\":\"Value\",\"axis_label_text_font_size\":\"14pt\",\"major_label_policy\":{\"type\":\"object\",\"name\":\"AllLabels\",\"id\":\"51841a59-3538-4795-bb59-af6b0c4bb794\"}}}],\"center\":[{\"type\":\"object\",\"name\":\"Grid\",\"id\":\"beada6a4-c9ab-4c66-b0ad-1a6218ea08f0\",\"attributes\":{\"axis\":{\"id\":\"c38958bd-904b-4cda-b3af-b74ad9f93832\"},\"grid_line_color\":\"white\"}},{\"type\":\"object\",\"name\":\"Grid\",\"id\":\"cdd0a369-ad3e-49e7-8082-613c9499cf1c\",\"attributes\":{\"dimension\":1,\"axis\":{\"id\":\"32838bf3-ea3b-4d6d-84d8-45f163f31124\"},\"grid_line_color\":\"white\"}}],\"background_fill_color\":\"#fafafa\"}},0,1],[{\"type\":\"object\",\"name\":\"Figure\",\"id\":\"ea84bdee-6434-46a0-a7fe-201be1deb646\",\"attributes\":{\"width\":300,\"height\":300,\"x_range\":{\"type\":\"object\",\"name\":\"DataRange1d\",\"id\":\"398258b6-1d32-4ad5-bdf2-c7e1398f3bf9\"},\"y_range\":{\"type\":\"object\",\"name\":\"DataRange1d\",\"id\":\"ef314f41-d6a8-4c69-a0ce-0ecc09a23d97\",\"attributes\":{\"start\":0}},\"x_scale\":{\"type\":\"object\",\"name\":\"LinearScale\",\"id\":\"a357abdb-6749-4e03-9dce-e57ec3f438a6\"},\"y_scale\":{\"type\":\"object\",\"name\":\"LinearScale\",\"id\":\"82f80ff6-e542-462e-aee8-959595c5cce0\"},\"title\":{\"type\":\"object\",\"name\":\"Title\",\"id\":\"03bf434f-cca6-48ae-a8bb-10b41ac412c3\",\"attributes\":{\"text\":\" age\",\"text_font_size\":\"16pt\"}},\"renderers\":[{\"type\":\"object\",\"name\":\"GlyphRenderer\",\"id\":\"0bbb5a3e-c47e-473e-93d7-5d3fbf8bbc33\",\"attributes\":{\"data_source\":{\"type\":\"object\",\"name\":\"ColumnDataSource\",\"id\":\"21a5dadf-db2f-4e3b-b469-767bba051feb\",\"attributes\":{\"selected\":{\"type\":\"object\",\"name\":\"Selection\",\"id\":\"209a85f2-d0eb-4831-8630-e1546c8f7191\",\"attributes\":{\"indices\":[],\"line_indices\":[]}},\"selection_policy\":{\"type\":\"object\",\"name\":\"UnionRenderers\",\"id\":\"ee3d480a-b3f8-4f99-a063-75cdf81cfa93\"},\"data\":{\"type\":\"map\",\"entries\":[[\"top\",{\"type\":\"ndarray\",\"array\":{\"type\":\"bytes\",\"data\":\"SwQAAAAAAAAAAAAAAAAAAAAAAAAAAAAAAAAAAAAAAAAAAAAAAAAAAAAAAAAAAAAAAAAAAAAAAAAAAAAAAAAAAAAAAAAAAAAAAAAAAAAAAAAAAAAAAAAAAAAAAAAAAAAAAAAAAAAAAAAAAAAAAAAAAAAAAAAAAAAAAAAAAAAAAAAAAAAAAAAAAAAAAAAAAAAAAAAAAAAAAAAAAAAA6gAAAA==\"},\"shape\":[40],\"dtype\":\"int32\",\"order\":\"little\"}],[\"left\",{\"type\":\"ndarray\",\"array\":{\"type\":\"bytes\",\"data\":\"AAAAAAAA8D9mZmZmZmbwP83MzMzMzPA/MzMzMzMz8T+amZmZmZnxPwAAAAAAAPI/ZmZmZmZm8j/NzMzMzMzyPzMzMzMzM/M/mpmZmZmZ8z8AAAAAAAD0P2ZmZmZmZvQ/zczMzMzM9D8zMzMzMzP1P5qZmZmZmfU/AAAAAAAA9j9mZmZmZmb2P83MzMzMzPY/MzMzMzMz9z+amZmZmZn3PwAAAAAAAPg/ZmZmZmZm+D/NzMzMzMz4PzQzMzMzM/k/mpmZmZmZ+T8AAAAAAAD6P2ZmZmZmZvo/zczMzMzM+j80MzMzMzP7P5qZmZmZmfs/AAAAAAAA/D9mZmZmZmb8P83MzMzMzPw/NDMzMzMz/T+amZmZmZn9PwAAAAAAAP4/ZmZmZmZm/j/NzMzMzMz+PzQzMzMzM/8/mpmZmZmZ/z8=\"},\"shape\":[40],\"dtype\":\"float64\",\"order\":\"little\"}],[\"right\",{\"type\":\"ndarray\",\"array\":{\"type\":\"bytes\",\"data\":\"ZmZmZmZm8D/NzMzMzMzwPzMzMzMzM/E/mpmZmZmZ8T8AAAAAAADyP2ZmZmZmZvI/zczMzMzM8j8zMzMzMzPzP5qZmZmZmfM/AAAAAAAA9D9mZmZmZmb0P83MzMzMzPQ/MzMzMzMz9T+amZmZmZn1PwAAAAAAAPY/ZmZmZmZm9j/NzMzMzMz2PzMzMzMzM/c/mpmZmZmZ9z8AAAAAAAD4P2ZmZmZmZvg/zczMzMzM+D80MzMzMzP5P5qZmZmZmfk/AAAAAAAA+j9mZmZmZmb6P83MzMzMzPo/NDMzMzMz+z+amZmZmZn7PwAAAAAAAPw/ZmZmZmZm/D/NzMzMzMz8PzQzMzMzM/0/mpmZmZmZ/T8AAAAAAAD+P2ZmZmZmZv4/zczMzMzM/j80MzMzMzP/P5qZmZmZmf8/AAAAAAAAAEA=\"},\"shape\":[40],\"dtype\":\"float64\",\"order\":\"little\"}],[\"fill_color\",[\"#440154\",\"#440255\",\"#440357\",\"#450558\",\"#45065A\",\"#45085B\",\"#46095C\",\"#460B5E\",\"#460C5F\",\"#460E61\",\"#470F62\",\"#471163\",\"#471265\",\"#471466\",\"#471567\",\"#471669\",\"#47186A\",\"#48196B\",\"#481A6C\",\"#481C6E\",\"#481D6F\",\"#481E70\",\"#482071\",\"#482172\",\"#482273\",\"#482374\",\"#472575\",\"#472676\",\"#472777\",\"#472878\",\"#472A79\",\"#472B7A\",\"#472C7B\",\"#462D7C\",\"#462F7C\",\"#46307D\",\"#46317E\",\"#45327F\",\"#45347F\",\"#453580\",\"#453681\",\"#443781\",\"#443982\",\"#433A83\",\"#433B83\",\"#433C84\",\"#423D84\",\"#423E85\",\"#424085\",\"#414186\",\"#414286\",\"#404387\",\"#404487\",\"#3F4587\",\"#3F4788\",\"#3E4888\",\"#3E4989\",\"#3D4A89\",\"#3D4B89\",\"#3D4C89\",\"#3C4D8A\",\"#3C4E8A\",\"#3B508A\",\"#3B518A\",\"#3A528B\",\"#3A538B\",\"#39548B\",\"#39558B\",\"#38568B\",\"#38578C\",\"#37588C\",\"#37598C\",\"#365A8C\",\"#365B8C\",\"#355C8C\",\"#355D8C\",\"#345E8D\",\"#345F8D\",\"#33608D\",\"#33618D\",\"#32628D\",\"#32638D\",\"#31648D\",\"#31658D\",\"#31668D\",\"#30678D\",\"#30688D\",\"#2F698D\",\"#2F6A8D\",\"#2E6B8E\",\"#2E6C8E\",\"#2E6D8E\",\"#2D6E8E\",\"#2D6F8E\",\"#2C708E\",\"#2C718E\",\"#2C728E\",\"#2B738E\",\"#2B748E\",\"#2A758E\",\"#2A768E\",\"#2A778E\",\"#29788E\",\"#29798E\",\"#287A8E\",\"#287A8E\",\"#287B8E\",\"#277C8E\",\"#277D8E\",\"#277E8E\",\"#267F8E\",\"#26808E\",\"#26818E\",\"#25828E\",\"#25838D\",\"#24848D\",\"#24858D\",\"#24868D\",\"#23878D\",\"#23888D\",\"#23898D\",\"#22898D\",\"#228A8D\",\"#228B8D\",\"#218C8D\",\"#218D8C\",\"#218E8C\",\"#208F8C\",\"#20908C\",\"#20918C\",\"#1F928C\",\"#1F938B\",\"#1F948B\",\"#1F958B\",\"#1F968B\",\"#1E978A\",\"#1E988A\",\"#1E998A\",\"#1E998A\",\"#1E9A89\",\"#1E9B89\",\"#1E9C89\",\"#1E9D88\",\"#1E9E88\",\"#1E9F88\",\"#1EA087\",\"#1FA187\",\"#1FA286\",\"#1FA386\",\"#20A485\",\"#20A585\",\"#21A685\",\"#21A784\",\"#22A784\",\"#23A883\",\"#23A982\",\"#24AA82\",\"#25AB81\",\"#26AC81\",\"#27AD80\",\"#28AE7F\",\"#29AF7F\",\"#2AB07E\",\"#2BB17D\",\"#2CB17D\",\"#2EB27C\",\"#2FB37B\",\"#30B47A\",\"#32B57A\",\"#33B679\",\"#35B778\",\"#36B877\",\"#38B976\",\"#39B976\",\"#3BBA75\",\"#3DBB74\",\"#3EBC73\",\"#40BD72\",\"#42BE71\",\"#44BE70\",\"#45BF6F\",\"#47C06E\",\"#49C16D\",\"#4BC26C\",\"#4DC26B\",\"#4FC369\",\"#51C468\",\"#53C567\",\"#55C666\",\"#57C665\",\"#59C764\",\"#5BC862\",\"#5EC961\",\"#60C960\",\"#62CA5F\",\"#64CB5D\",\"#67CC5C\",\"#69CC5B\",\"#6BCD59\",\"#6DCE58\",\"#70CE56\",\"#72CF55\",\"#74D054\",\"#77D052\",\"#79D151\",\"#7CD24F\",\"#7ED24E\",\"#81D34C\",\"#83D34B\",\"#86D449\",\"#88D547\",\"#8BD546\",\"#8DD644\",\"#90D643\",\"#92D741\",\"#95D73F\",\"#97D83E\",\"#9AD83C\",\"#9DD93A\",\"#9FD938\",\"#A2DA37\",\"#A5DA35\",\"#A7DB33\",\"#AADB32\",\"#ADDC30\",\"#AFDC2E\",\"#B2DD2C\",\"#B5DD2B\",\"#B7DD29\",\"#BADE27\",\"#BDDE26\",\"#BFDF24\",\"#C2DF22\",\"#C5DF21\",\"#C7E01F\",\"#CAE01E\",\"#CDE01D\",\"#CFE11C\",\"#D2E11B\",\"#D4E11A\",\"#D7E219\",\"#DAE218\",\"#DCE218\",\"#DFE318\",\"#E1E318\",\"#E4E318\",\"#E7E419\",\"#E9E419\",\"#ECE41A\",\"#EEE51B\",\"#F1E51C\",\"#F3E51E\",\"#F6E61F\",\"#F8E621\",\"#FAE622\",\"#FDE724\"]]]}}},\"view\":{\"type\":\"object\",\"name\":\"CDSView\",\"id\":\"a5e9430f-a8d6-4fef-82bd-24445f2f9dab\",\"attributes\":{\"filter\":{\"type\":\"object\",\"name\":\"AllIndices\",\"id\":\"b5e6f1ae-2c7a-4b0b-a6e9-cbd3f5dbbacf\"}}},\"glyph\":{\"type\":\"object\",\"name\":\"Quad\",\"id\":\"fbc19ccc-80c3-48a6-b5fa-b650a9392411\",\"attributes\":{\"left\":{\"type\":\"field\",\"field\":\"left\"},\"right\":{\"type\":\"field\",\"field\":\"right\"},\"bottom\":{\"type\":\"value\",\"value\":0},\"top\":{\"type\":\"field\",\"field\":\"top\"},\"line_color\":{\"type\":\"value\",\"value\":\"white\"},\"line_alpha\":{\"type\":\"value\",\"value\":0.5},\"fill_color\":{\"type\":\"field\",\"field\":\"fill_color\"},\"fill_alpha\":{\"type\":\"value\",\"value\":0.5},\"hatch_alpha\":{\"type\":\"value\",\"value\":0.5}}},\"nonselection_glyph\":{\"type\":\"object\",\"name\":\"Quad\",\"id\":\"4c42783e-cdb5-4946-9801-e541a0c1c738\",\"attributes\":{\"left\":{\"type\":\"field\",\"field\":\"left\"},\"right\":{\"type\":\"field\",\"field\":\"right\"},\"bottom\":{\"type\":\"value\",\"value\":0},\"top\":{\"type\":\"field\",\"field\":\"top\"},\"line_color\":{\"type\":\"value\",\"value\":\"white\"},\"line_alpha\":{\"type\":\"value\",\"value\":0.1},\"fill_color\":{\"type\":\"field\",\"field\":\"fill_color\"},\"fill_alpha\":{\"type\":\"value\",\"value\":0.1},\"hatch_alpha\":{\"type\":\"value\",\"value\":0.1}}},\"muted_glyph\":{\"type\":\"object\",\"name\":\"Quad\",\"id\":\"72bfe247-23dd-44df-acfb-ff0d1a09d6b1\",\"attributes\":{\"left\":{\"type\":\"field\",\"field\":\"left\"},\"right\":{\"type\":\"field\",\"field\":\"right\"},\"bottom\":{\"type\":\"value\",\"value\":0},\"top\":{\"type\":\"field\",\"field\":\"top\"},\"line_color\":{\"type\":\"value\",\"value\":\"white\"},\"line_alpha\":{\"type\":\"value\",\"value\":0.2},\"fill_color\":{\"type\":\"field\",\"field\":\"fill_color\"},\"fill_alpha\":{\"type\":\"value\",\"value\":0.2},\"hatch_alpha\":{\"type\":\"value\",\"value\":0.2}}}}}],\"toolbar\":{\"type\":\"object\",\"name\":\"Toolbar\",\"id\":\"97b9f97b-b7e8-4dd6-a01d-34f071a93dec\"},\"toolbar_location\":null,\"left\":[{\"type\":\"object\",\"name\":\"LinearAxis\",\"id\":\"a4075ff6-25f0-41b0-9e66-9b3bd9f73662\",\"attributes\":{\"ticker\":{\"type\":\"object\",\"name\":\"BasicTicker\",\"id\":\"e2a5caf4-6d7b-4346-827e-fd66712ce819\",\"attributes\":{\"mantissas\":[1,2,5]}},\"formatter\":{\"type\":\"object\",\"name\":\"BasicTickFormatter\",\"id\":\"4593577f-58ad-4039-a71a-2432e10dd4e4\"},\"axis_label\":\"Count\",\"axis_label_text_font_size\":\"14pt\",\"major_label_policy\":{\"type\":\"object\",\"name\":\"AllLabels\",\"id\":\"678455b4-e271-43e6-ba70-0dd480489791\"}}}],\"below\":[{\"type\":\"object\",\"name\":\"LinearAxis\",\"id\":\"5cbcffbc-d7c5-475b-9370-908f7d271d24\",\"attributes\":{\"ticker\":{\"type\":\"object\",\"name\":\"BasicTicker\",\"id\":\"ef1c6cd8-f03e-41b1-a008-0d5c10981aad\",\"attributes\":{\"mantissas\":[1,2,5]}},\"formatter\":{\"type\":\"object\",\"name\":\"BasicTickFormatter\",\"id\":\"9beabb7d-6032-4b89-ba95-2c9667fcb72b\"},\"axis_label\":\"Value\",\"axis_label_text_font_size\":\"14pt\",\"major_label_policy\":{\"type\":\"object\",\"name\":\"AllLabels\",\"id\":\"35122852-fce5-4397-9068-53cad9599c76\"}}}],\"center\":[{\"type\":\"object\",\"name\":\"Grid\",\"id\":\"5492053c-9aff-453a-ab93-e05a463c0387\",\"attributes\":{\"axis\":{\"id\":\"5cbcffbc-d7c5-475b-9370-908f7d271d24\"},\"grid_line_color\":\"white\"}},{\"type\":\"object\",\"name\":\"Grid\",\"id\":\"00c4c9e2-78e5-49b8-9f7f-e7c9b31f25fe\",\"attributes\":{\"dimension\":1,\"axis\":{\"id\":\"a4075ff6-25f0-41b0-9e66-9b3bd9f73662\"},\"grid_line_color\":\"white\"}}],\"background_fill_color\":\"#fafafa\"}},0,2],[{\"type\":\"object\",\"name\":\"Figure\",\"id\":\"99a4369f-6416-4718-827b-09219d4afe1f\",\"attributes\":{\"width\":300,\"height\":300,\"x_range\":{\"type\":\"object\",\"name\":\"DataRange1d\",\"id\":\"bed95c56-b8a7-4ab2-93e9-903baefe8a69\"},\"y_range\":{\"type\":\"object\",\"name\":\"DataRange1d\",\"id\":\"a7e3012e-9e21-4d4d-ba3d-5dfc31550410\",\"attributes\":{\"start\":0}},\"x_scale\":{\"type\":\"object\",\"name\":\"LinearScale\",\"id\":\"d6531d11-c923-499a-b4a9-3e5d8b24f997\"},\"y_scale\":{\"type\":\"object\",\"name\":\"LinearScale\",\"id\":\"06a52eb5-0f80-4bb8-98a2-c4ecee495e9d\"},\"title\":{\"type\":\"object\",\"name\":\"Title\",\"id\":\"69eb8281-c02f-403d-b600-68c6232ce681\",\"attributes\":{\"text\":\" overweight\",\"text_font_size\":\"16pt\"}},\"renderers\":[{\"type\":\"object\",\"name\":\"GlyphRenderer\",\"id\":\"f74dbbfa-b001-43ef-a44d-2689c65c7d0a\",\"attributes\":{\"data_source\":{\"type\":\"object\",\"name\":\"ColumnDataSource\",\"id\":\"366565e3-2d2c-44db-bd11-4fcc5e80e254\",\"attributes\":{\"selected\":{\"type\":\"object\",\"name\":\"Selection\",\"id\":\"a8765caf-66bc-4eeb-9968-be350b41171d\",\"attributes\":{\"indices\":[],\"line_indices\":[]}},\"selection_policy\":{\"type\":\"object\",\"name\":\"UnionRenderers\",\"id\":\"d62d0705-e63f-412a-924e-d5d7506d79c5\"},\"data\":{\"type\":\"map\",\"entries\":[[\"top\",{\"type\":\"ndarray\",\"array\":{\"type\":\"bytes\",\"data\":\"0AIAAAAAAAAAAAAAAAAAAAAAAAAAAAAAAAAAAAAAAAAAAAAAAAAAAAAAAAAAAAAAAAAAAAAAAAAAAAAAAAAAAAAAAAAAAAAAAAAAAAAAAAAAAAAAAAAAAAAAAAAAAAAAAAAAAAAAAAAAAAAAAAAAAAAAAAAAAAAAAAAAAAAAAAAAAAAAAAAAAAAAAAAAAAAAAAAAAAAAAAAAAAAAZQIAAA==\"},\"shape\":[40],\"dtype\":\"int32\",\"order\":\"little\"}],[\"left\",{\"type\":\"ndarray\",\"array\":{\"type\":\"bytes\",\"data\":\"AAAAAAAAAACamZmZmZmZP5qZmZmZmak/NDMzMzMzsz+amZmZmZm5PwAAAAAAAMA/NDMzMzMzwz9nZmZmZmbGP5qZmZmZmck/zczMzMzMzD8AAAAAAADQP5qZmZmZmdE/NDMzMzMz0z/NzMzMzMzUP2dmZmZmZtY/AAAAAAAA2D+amZmZmZnZPzQzMzMzM9s/zczMzMzM3D9nZmZmZmbePwAAAAAAAOA/zczMzMzM4D+amZmZmZnhP2dmZmZmZuI/NDMzMzMz4z8AAAAAAADkP83MzMzMzOQ/mpmZmZmZ5T9nZmZmZmbmPzQzMzMzM+c/AAAAAAAA6D/NzMzMzMzoP5qZmZmZmek/Z2ZmZmZm6j80MzMzMzPrPwAAAAAAAOw/zczMzMzM7D+amZmZmZntP2dmZmZmZu4/NDMzMzMz7z8=\"},\"shape\":[40],\"dtype\":\"float64\",\"order\":\"little\"}],[\"right\",{\"type\":\"ndarray\",\"array\":{\"type\":\"bytes\",\"data\":\"mpmZmZmZmT+amZmZmZmpPzQzMzMzM7M/mpmZmZmZuT8AAAAAAADAPzQzMzMzM8M/Z2ZmZmZmxj+amZmZmZnJP83MzMzMzMw/AAAAAAAA0D+amZmZmZnRPzQzMzMzM9M/zczMzMzM1D9nZmZmZmbWPwAAAAAAANg/mpmZmZmZ2T80MzMzMzPbP83MzMzMzNw/Z2ZmZmZm3j8AAAAAAADgP83MzMzMzOA/mpmZmZmZ4T9nZmZmZmbiPzQzMzMzM+M/AAAAAAAA5D/NzMzMzMzkP5qZmZmZmeU/Z2ZmZmZm5j80MzMzMzPnPwAAAAAAAOg/zczMzMzM6D+amZmZmZnpP2dmZmZmZuo/NDMzMzMz6z8AAAAAAADsP83MzMzMzOw/mpmZmZmZ7T9nZmZmZmbuPzQzMzMzM+8/AAAAAAAA8D8=\"},\"shape\":[40],\"dtype\":\"float64\",\"order\":\"little\"}],[\"fill_color\",[\"#440154\",\"#440255\",\"#440357\",\"#450558\",\"#45065A\",\"#45085B\",\"#46095C\",\"#460B5E\",\"#460C5F\",\"#460E61\",\"#470F62\",\"#471163\",\"#471265\",\"#471466\",\"#471567\",\"#471669\",\"#47186A\",\"#48196B\",\"#481A6C\",\"#481C6E\",\"#481D6F\",\"#481E70\",\"#482071\",\"#482172\",\"#482273\",\"#482374\",\"#472575\",\"#472676\",\"#472777\",\"#472878\",\"#472A79\",\"#472B7A\",\"#472C7B\",\"#462D7C\",\"#462F7C\",\"#46307D\",\"#46317E\",\"#45327F\",\"#45347F\",\"#453580\",\"#453681\",\"#443781\",\"#443982\",\"#433A83\",\"#433B83\",\"#433C84\",\"#423D84\",\"#423E85\",\"#424085\",\"#414186\",\"#414286\",\"#404387\",\"#404487\",\"#3F4587\",\"#3F4788\",\"#3E4888\",\"#3E4989\",\"#3D4A89\",\"#3D4B89\",\"#3D4C89\",\"#3C4D8A\",\"#3C4E8A\",\"#3B508A\",\"#3B518A\",\"#3A528B\",\"#3A538B\",\"#39548B\",\"#39558B\",\"#38568B\",\"#38578C\",\"#37588C\",\"#37598C\",\"#365A8C\",\"#365B8C\",\"#355C8C\",\"#355D8C\",\"#345E8D\",\"#345F8D\",\"#33608D\",\"#33618D\",\"#32628D\",\"#32638D\",\"#31648D\",\"#31658D\",\"#31668D\",\"#30678D\",\"#30688D\",\"#2F698D\",\"#2F6A8D\",\"#2E6B8E\",\"#2E6C8E\",\"#2E6D8E\",\"#2D6E8E\",\"#2D6F8E\",\"#2C708E\",\"#2C718E\",\"#2C728E\",\"#2B738E\",\"#2B748E\",\"#2A758E\",\"#2A768E\",\"#2A778E\",\"#29788E\",\"#29798E\",\"#287A8E\",\"#287A8E\",\"#287B8E\",\"#277C8E\",\"#277D8E\",\"#277E8E\",\"#267F8E\",\"#26808E\",\"#26818E\",\"#25828E\",\"#25838D\",\"#24848D\",\"#24858D\",\"#24868D\",\"#23878D\",\"#23888D\",\"#23898D\",\"#22898D\",\"#228A8D\",\"#228B8D\",\"#218C8D\",\"#218D8C\",\"#218E8C\",\"#208F8C\",\"#20908C\",\"#20918C\",\"#1F928C\",\"#1F938B\",\"#1F948B\",\"#1F958B\",\"#1F968B\",\"#1E978A\",\"#1E988A\",\"#1E998A\",\"#1E998A\",\"#1E9A89\",\"#1E9B89\",\"#1E9C89\",\"#1E9D88\",\"#1E9E88\",\"#1E9F88\",\"#1EA087\",\"#1FA187\",\"#1FA286\",\"#1FA386\",\"#20A485\",\"#20A585\",\"#21A685\",\"#21A784\",\"#22A784\",\"#23A883\",\"#23A982\",\"#24AA82\",\"#25AB81\",\"#26AC81\",\"#27AD80\",\"#28AE7F\",\"#29AF7F\",\"#2AB07E\",\"#2BB17D\",\"#2CB17D\",\"#2EB27C\",\"#2FB37B\",\"#30B47A\",\"#32B57A\",\"#33B679\",\"#35B778\",\"#36B877\",\"#38B976\",\"#39B976\",\"#3BBA75\",\"#3DBB74\",\"#3EBC73\",\"#40BD72\",\"#42BE71\",\"#44BE70\",\"#45BF6F\",\"#47C06E\",\"#49C16D\",\"#4BC26C\",\"#4DC26B\",\"#4FC369\",\"#51C468\",\"#53C567\",\"#55C666\",\"#57C665\",\"#59C764\",\"#5BC862\",\"#5EC961\",\"#60C960\",\"#62CA5F\",\"#64CB5D\",\"#67CC5C\",\"#69CC5B\",\"#6BCD59\",\"#6DCE58\",\"#70CE56\",\"#72CF55\",\"#74D054\",\"#77D052\",\"#79D151\",\"#7CD24F\",\"#7ED24E\",\"#81D34C\",\"#83D34B\",\"#86D449\",\"#88D547\",\"#8BD546\",\"#8DD644\",\"#90D643\",\"#92D741\",\"#95D73F\",\"#97D83E\",\"#9AD83C\",\"#9DD93A\",\"#9FD938\",\"#A2DA37\",\"#A5DA35\",\"#A7DB33\",\"#AADB32\",\"#ADDC30\",\"#AFDC2E\",\"#B2DD2C\",\"#B5DD2B\",\"#B7DD29\",\"#BADE27\",\"#BDDE26\",\"#BFDF24\",\"#C2DF22\",\"#C5DF21\",\"#C7E01F\",\"#CAE01E\",\"#CDE01D\",\"#CFE11C\",\"#D2E11B\",\"#D4E11A\",\"#D7E219\",\"#DAE218\",\"#DCE218\",\"#DFE318\",\"#E1E318\",\"#E4E318\",\"#E7E419\",\"#E9E419\",\"#ECE41A\",\"#EEE51B\",\"#F1E51C\",\"#F3E51E\",\"#F6E61F\",\"#F8E621\",\"#FAE622\",\"#FDE724\"]]]}}},\"view\":{\"type\":\"object\",\"name\":\"CDSView\",\"id\":\"9e8c70ce-daff-497d-838f-7bc97d1e21f4\",\"attributes\":{\"filter\":{\"type\":\"object\",\"name\":\"AllIndices\",\"id\":\"9889187b-aa45-4104-94e5-b6cb0e6ea4e5\"}}},\"glyph\":{\"type\":\"object\",\"name\":\"Quad\",\"id\":\"215fd385-128f-4d01-b815-f20ec94e56a0\",\"attributes\":{\"left\":{\"type\":\"field\",\"field\":\"left\"},\"right\":{\"type\":\"field\",\"field\":\"right\"},\"bottom\":{\"type\":\"value\",\"value\":0},\"top\":{\"type\":\"field\",\"field\":\"top\"},\"line_color\":{\"type\":\"value\",\"value\":\"white\"},\"line_alpha\":{\"type\":\"value\",\"value\":0.5},\"fill_color\":{\"type\":\"field\",\"field\":\"fill_color\"},\"fill_alpha\":{\"type\":\"value\",\"value\":0.5},\"hatch_alpha\":{\"type\":\"value\",\"value\":0.5}}},\"nonselection_glyph\":{\"type\":\"object\",\"name\":\"Quad\",\"id\":\"115877b2-1cd9-4fe9-b36a-4fe256b0e6fd\",\"attributes\":{\"left\":{\"type\":\"field\",\"field\":\"left\"},\"right\":{\"type\":\"field\",\"field\":\"right\"},\"bottom\":{\"type\":\"value\",\"value\":0},\"top\":{\"type\":\"field\",\"field\":\"top\"},\"line_color\":{\"type\":\"value\",\"value\":\"white\"},\"line_alpha\":{\"type\":\"value\",\"value\":0.1},\"fill_color\":{\"type\":\"field\",\"field\":\"fill_color\"},\"fill_alpha\":{\"type\":\"value\",\"value\":0.1},\"hatch_alpha\":{\"type\":\"value\",\"value\":0.1}}},\"muted_glyph\":{\"type\":\"object\",\"name\":\"Quad\",\"id\":\"d514e527-f752-4daa-b5a6-c7cdf88dce35\",\"attributes\":{\"left\":{\"type\":\"field\",\"field\":\"left\"},\"right\":{\"type\":\"field\",\"field\":\"right\"},\"bottom\":{\"type\":\"value\",\"value\":0},\"top\":{\"type\":\"field\",\"field\":\"top\"},\"line_color\":{\"type\":\"value\",\"value\":\"white\"},\"line_alpha\":{\"type\":\"value\",\"value\":0.2},\"fill_color\":{\"type\":\"field\",\"field\":\"fill_color\"},\"fill_alpha\":{\"type\":\"value\",\"value\":0.2},\"hatch_alpha\":{\"type\":\"value\",\"value\":0.2}}}}}],\"toolbar\":{\"type\":\"object\",\"name\":\"Toolbar\",\"id\":\"3ccab13f-a1fb-4480-b26e-f2d848307268\"},\"toolbar_location\":null,\"left\":[{\"type\":\"object\",\"name\":\"LinearAxis\",\"id\":\"c8e0e913-cea7-4ec7-9c0b-85e7d437923f\",\"attributes\":{\"ticker\":{\"type\":\"object\",\"name\":\"BasicTicker\",\"id\":\"9ef6b2f7-ef6e-42e1-adea-e9783634b582\",\"attributes\":{\"mantissas\":[1,2,5]}},\"formatter\":{\"type\":\"object\",\"name\":\"BasicTickFormatter\",\"id\":\"29a4f463-d6ea-46e2-8eb2-fb3b03669db3\"},\"axis_label\":\"Count\",\"axis_label_text_font_size\":\"14pt\",\"major_label_policy\":{\"type\":\"object\",\"name\":\"AllLabels\",\"id\":\"bbe81db9-6e1f-4c53-b7cd-d443dd36b13d\"}}}],\"below\":[{\"type\":\"object\",\"name\":\"LinearAxis\",\"id\":\"f3210ab8-bbdd-4dc2-886d-63a359b35b6d\",\"attributes\":{\"ticker\":{\"type\":\"object\",\"name\":\"BasicTicker\",\"id\":\"0652433c-d5dd-45df-b694-90b2ca3a2155\",\"attributes\":{\"mantissas\":[1,2,5]}},\"formatter\":{\"type\":\"object\",\"name\":\"BasicTickFormatter\",\"id\":\"e40f648b-03f0-47e7-b053-81b339ae794f\"},\"axis_label\":\"Value\",\"axis_label_text_font_size\":\"14pt\",\"major_label_policy\":{\"type\":\"object\",\"name\":\"AllLabels\",\"id\":\"05f479bf-b1b5-407c-a813-dbd444ecc827\"}}}],\"center\":[{\"type\":\"object\",\"name\":\"Grid\",\"id\":\"aa8d916b-bcbf-4456-8b51-fbe53907599c\",\"attributes\":{\"axis\":{\"id\":\"f3210ab8-bbdd-4dc2-886d-63a359b35b6d\"},\"grid_line_color\":\"white\"}},{\"type\":\"object\",\"name\":\"Grid\",\"id\":\"93eae900-c8d3-40c9-a373-4e10ef253dea\",\"attributes\":{\"dimension\":1,\"axis\":{\"id\":\"c8e0e913-cea7-4ec7-9c0b-85e7d437923f\"},\"grid_line_color\":\"white\"}}],\"background_fill_color\":\"#fafafa\"}},0,3],[{\"type\":\"object\",\"name\":\"Figure\",\"id\":\"a643f458-79bb-44df-aa44-32f90db29f07\",\"attributes\":{\"width\":300,\"height\":300,\"x_range\":{\"type\":\"object\",\"name\":\"DataRange1d\",\"id\":\"2c48d1d6-7436-4564-b7ab-115a0f13cd60\"},\"y_range\":{\"type\":\"object\",\"name\":\"DataRange1d\",\"id\":\"55b46e0d-549e-4d20-8802-4c56696cb2a1\",\"attributes\":{\"start\":0}},\"x_scale\":{\"type\":\"object\",\"name\":\"LinearScale\",\"id\":\"aebcc38e-048b-4906-aca1-778bdafe39d9\"},\"y_scale\":{\"type\":\"object\",\"name\":\"LinearScale\",\"id\":\"c1bc3c26-ee5c-4b25-a536-c74e5191aac4\"},\"title\":{\"type\":\"object\",\"name\":\"Title\",\"id\":\"39b37fee-d94b-4b4b-83c0-1f911ecec410\",\"attributes\":{\"text\":\" dialysis_time\",\"text_font_size\":\"16pt\"}},\"renderers\":[{\"type\":\"object\",\"name\":\"GlyphRenderer\",\"id\":\"1505eaf9-1118-4028-8c9e-0e35690b9afa\",\"attributes\":{\"data_source\":{\"type\":\"object\",\"name\":\"ColumnDataSource\",\"id\":\"1d74cf09-99b1-4609-9549-da58648c7155\",\"attributes\":{\"selected\":{\"type\":\"object\",\"name\":\"Selection\",\"id\":\"cfaf41ac-e9d7-4619-9549-8e32a072faa1\",\"attributes\":{\"indices\":[],\"line_indices\":[]}},\"selection_policy\":{\"type\":\"object\",\"name\":\"UnionRenderers\",\"id\":\"d53c2f8c-8fd8-4ee4-989f-1c8fd7df15c9\"},\"data\":{\"type\":\"map\",\"entries\":[[\"top\",{\"type\":\"ndarray\",\"array\":{\"type\":\"bytes\",\"data\":\"8QIAAAAAAAAAAAAAAAAAAAAAAAAAAAAAAAAAAAAAAAAAAAAAAAAAAAAAAAAAAAAAAAAAAAAAAAAAAAAAAAAAAAAAAAAAAAAAAAAAAAAAAAAAAAAAAAAAAAAAAAAAAAAAAAAAAAAAAAAAAAAAAAAAAAAAAAAAAAAAAAAAAAAAAAAAAAAAAAAAAAAAAAAAAAAAAAAAAAAAAAAAAAAARAIAAA==\"},\"shape\":[40],\"dtype\":\"int32\",\"order\":\"little\"}],[\"left\",{\"type\":\"ndarray\",\"array\":{\"type\":\"bytes\",\"data\":\"AAAAAAAA8D9mZmZmZmbwP83MzMzMzPA/MzMzMzMz8T+amZmZmZnxPwAAAAAAAPI/ZmZmZmZm8j/NzMzMzMzyPzMzMzMzM/M/mpmZmZmZ8z8AAAAAAAD0P2ZmZmZmZvQ/zczMzMzM9D8zMzMzMzP1P5qZmZmZmfU/AAAAAAAA9j9mZmZmZmb2P83MzMzMzPY/MzMzMzMz9z+amZmZmZn3PwAAAAAAAPg/ZmZmZmZm+D/NzMzMzMz4PzQzMzMzM/k/mpmZmZmZ+T8AAAAAAAD6P2ZmZmZmZvo/zczMzMzM+j80MzMzMzP7P5qZmZmZmfs/AAAAAAAA/D9mZmZmZmb8P83MzMzMzPw/NDMzMzMz/T+amZmZmZn9PwAAAAAAAP4/ZmZmZmZm/j/NzMzMzMz+PzQzMzMzM/8/mpmZmZmZ/z8=\"},\"shape\":[40],\"dtype\":\"float64\",\"order\":\"little\"}],[\"right\",{\"type\":\"ndarray\",\"array\":{\"type\":\"bytes\",\"data\":\"ZmZmZmZm8D/NzMzMzMzwPzMzMzMzM/E/mpmZmZmZ8T8AAAAAAADyP2ZmZmZmZvI/zczMzMzM8j8zMzMzMzPzP5qZmZmZmfM/AAAAAAAA9D9mZmZmZmb0P83MzMzMzPQ/MzMzMzMz9T+amZmZmZn1PwAAAAAAAPY/ZmZmZmZm9j/NzMzMzMz2PzMzMzMzM/c/mpmZmZmZ9z8AAAAAAAD4P2ZmZmZmZvg/zczMzMzM+D80MzMzMzP5P5qZmZmZmfk/AAAAAAAA+j9mZmZmZmb6P83MzMzMzPo/NDMzMzMz+z+amZmZmZn7PwAAAAAAAPw/ZmZmZmZm/D/NzMzMzMz8PzQzMzMzM/0/mpmZmZmZ/T8AAAAAAAD+P2ZmZmZmZv4/zczMzMzM/j80MzMzMzP/P5qZmZmZmf8/AAAAAAAAAEA=\"},\"shape\":[40],\"dtype\":\"float64\",\"order\":\"little\"}],[\"fill_color\",[\"#440154\",\"#440255\",\"#440357\",\"#450558\",\"#45065A\",\"#45085B\",\"#46095C\",\"#460B5E\",\"#460C5F\",\"#460E61\",\"#470F62\",\"#471163\",\"#471265\",\"#471466\",\"#471567\",\"#471669\",\"#47186A\",\"#48196B\",\"#481A6C\",\"#481C6E\",\"#481D6F\",\"#481E70\",\"#482071\",\"#482172\",\"#482273\",\"#482374\",\"#472575\",\"#472676\",\"#472777\",\"#472878\",\"#472A79\",\"#472B7A\",\"#472C7B\",\"#462D7C\",\"#462F7C\",\"#46307D\",\"#46317E\",\"#45327F\",\"#45347F\",\"#453580\",\"#453681\",\"#443781\",\"#443982\",\"#433A83\",\"#433B83\",\"#433C84\",\"#423D84\",\"#423E85\",\"#424085\",\"#414186\",\"#414286\",\"#404387\",\"#404487\",\"#3F4587\",\"#3F4788\",\"#3E4888\",\"#3E4989\",\"#3D4A89\",\"#3D4B89\",\"#3D4C89\",\"#3C4D8A\",\"#3C4E8A\",\"#3B508A\",\"#3B518A\",\"#3A528B\",\"#3A538B\",\"#39548B\",\"#39558B\",\"#38568B\",\"#38578C\",\"#37588C\",\"#37598C\",\"#365A8C\",\"#365B8C\",\"#355C8C\",\"#355D8C\",\"#345E8D\",\"#345F8D\",\"#33608D\",\"#33618D\",\"#32628D\",\"#32638D\",\"#31648D\",\"#31658D\",\"#31668D\",\"#30678D\",\"#30688D\",\"#2F698D\",\"#2F6A8D\",\"#2E6B8E\",\"#2E6C8E\",\"#2E6D8E\",\"#2D6E8E\",\"#2D6F8E\",\"#2C708E\",\"#2C718E\",\"#2C728E\",\"#2B738E\",\"#2B748E\",\"#2A758E\",\"#2A768E\",\"#2A778E\",\"#29788E\",\"#29798E\",\"#287A8E\",\"#287A8E\",\"#287B8E\",\"#277C8E\",\"#277D8E\",\"#277E8E\",\"#267F8E\",\"#26808E\",\"#26818E\",\"#25828E\",\"#25838D\",\"#24848D\",\"#24858D\",\"#24868D\",\"#23878D\",\"#23888D\",\"#23898D\",\"#22898D\",\"#228A8D\",\"#228B8D\",\"#218C8D\",\"#218D8C\",\"#218E8C\",\"#208F8C\",\"#20908C\",\"#20918C\",\"#1F928C\",\"#1F938B\",\"#1F948B\",\"#1F958B\",\"#1F968B\",\"#1E978A\",\"#1E988A\",\"#1E998A\",\"#1E998A\",\"#1E9A89\",\"#1E9B89\",\"#1E9C89\",\"#1E9D88\",\"#1E9E88\",\"#1E9F88\",\"#1EA087\",\"#1FA187\",\"#1FA286\",\"#1FA386\",\"#20A485\",\"#20A585\",\"#21A685\",\"#21A784\",\"#22A784\",\"#23A883\",\"#23A982\",\"#24AA82\",\"#25AB81\",\"#26AC81\",\"#27AD80\",\"#28AE7F\",\"#29AF7F\",\"#2AB07E\",\"#2BB17D\",\"#2CB17D\",\"#2EB27C\",\"#2FB37B\",\"#30B47A\",\"#32B57A\",\"#33B679\",\"#35B778\",\"#36B877\",\"#38B976\",\"#39B976\",\"#3BBA75\",\"#3DBB74\",\"#3EBC73\",\"#40BD72\",\"#42BE71\",\"#44BE70\",\"#45BF6F\",\"#47C06E\",\"#49C16D\",\"#4BC26C\",\"#4DC26B\",\"#4FC369\",\"#51C468\",\"#53C567\",\"#55C666\",\"#57C665\",\"#59C764\",\"#5BC862\",\"#5EC961\",\"#60C960\",\"#62CA5F\",\"#64CB5D\",\"#67CC5C\",\"#69CC5B\",\"#6BCD59\",\"#6DCE58\",\"#70CE56\",\"#72CF55\",\"#74D054\",\"#77D052\",\"#79D151\",\"#7CD24F\",\"#7ED24E\",\"#81D34C\",\"#83D34B\",\"#86D449\",\"#88D547\",\"#8BD546\",\"#8DD644\",\"#90D643\",\"#92D741\",\"#95D73F\",\"#97D83E\",\"#9AD83C\",\"#9DD93A\",\"#9FD938\",\"#A2DA37\",\"#A5DA35\",\"#A7DB33\",\"#AADB32\",\"#ADDC30\",\"#AFDC2E\",\"#B2DD2C\",\"#B5DD2B\",\"#B7DD29\",\"#BADE27\",\"#BDDE26\",\"#BFDF24\",\"#C2DF22\",\"#C5DF21\",\"#C7E01F\",\"#CAE01E\",\"#CDE01D\",\"#CFE11C\",\"#D2E11B\",\"#D4E11A\",\"#D7E219\",\"#DAE218\",\"#DCE218\",\"#DFE318\",\"#E1E318\",\"#E4E318\",\"#E7E419\",\"#E9E419\",\"#ECE41A\",\"#EEE51B\",\"#F1E51C\",\"#F3E51E\",\"#F6E61F\",\"#F8E621\",\"#FAE622\",\"#FDE724\"]]]}}},\"view\":{\"type\":\"object\",\"name\":\"CDSView\",\"id\":\"5fcbfbd8-eda4-4dae-907c-040381e15457\",\"attributes\":{\"filter\":{\"type\":\"object\",\"name\":\"AllIndices\",\"id\":\"0689a221-70e1-4cba-8f5d-247349b6c1a4\"}}},\"glyph\":{\"type\":\"object\",\"name\":\"Quad\",\"id\":\"66a59a47-6913-472a-a46b-00fcf89cec12\",\"attributes\":{\"left\":{\"type\":\"field\",\"field\":\"left\"},\"right\":{\"type\":\"field\",\"field\":\"right\"},\"bottom\":{\"type\":\"value\",\"value\":0},\"top\":{\"type\":\"field\",\"field\":\"top\"},\"line_color\":{\"type\":\"value\",\"value\":\"white\"},\"line_alpha\":{\"type\":\"value\",\"value\":0.5},\"fill_color\":{\"type\":\"field\",\"field\":\"fill_color\"},\"fill_alpha\":{\"type\":\"value\",\"value\":0.5},\"hatch_alpha\":{\"type\":\"value\",\"value\":0.5}}},\"nonselection_glyph\":{\"type\":\"object\",\"name\":\"Quad\",\"id\":\"a1092fb3-2c9c-4fc0-910f-d53a12fd1183\",\"attributes\":{\"left\":{\"type\":\"field\",\"field\":\"left\"},\"right\":{\"type\":\"field\",\"field\":\"right\"},\"bottom\":{\"type\":\"value\",\"value\":0},\"top\":{\"type\":\"field\",\"field\":\"top\"},\"line_color\":{\"type\":\"value\",\"value\":\"white\"},\"line_alpha\":{\"type\":\"value\",\"value\":0.1},\"fill_color\":{\"type\":\"field\",\"field\":\"fill_color\"},\"fill_alpha\":{\"type\":\"value\",\"value\":0.1},\"hatch_alpha\":{\"type\":\"value\",\"value\":0.1}}},\"muted_glyph\":{\"type\":\"object\",\"name\":\"Quad\",\"id\":\"974a5c3b-08c3-4bea-a0f5-04a1a572c836\",\"attributes\":{\"left\":{\"type\":\"field\",\"field\":\"left\"},\"right\":{\"type\":\"field\",\"field\":\"right\"},\"bottom\":{\"type\":\"value\",\"value\":0},\"top\":{\"type\":\"field\",\"field\":\"top\"},\"line_color\":{\"type\":\"value\",\"value\":\"white\"},\"line_alpha\":{\"type\":\"value\",\"value\":0.2},\"fill_color\":{\"type\":\"field\",\"field\":\"fill_color\"},\"fill_alpha\":{\"type\":\"value\",\"value\":0.2},\"hatch_alpha\":{\"type\":\"value\",\"value\":0.2}}}}}],\"toolbar\":{\"type\":\"object\",\"name\":\"Toolbar\",\"id\":\"c25c2203-317c-49a3-8063-b5aa4b9734c2\"},\"toolbar_location\":null,\"left\":[{\"type\":\"object\",\"name\":\"LinearAxis\",\"id\":\"f7ca04ea-06bb-4264-b7d6-745a2d120b22\",\"attributes\":{\"ticker\":{\"type\":\"object\",\"name\":\"BasicTicker\",\"id\":\"e4bff9d6-46fd-4d35-a7ff-2ad4f9f9c110\",\"attributes\":{\"mantissas\":[1,2,5]}},\"formatter\":{\"type\":\"object\",\"name\":\"BasicTickFormatter\",\"id\":\"fabe0177-f06a-43ff-8f3a-fbcb687136fd\"},\"axis_label\":\"Count\",\"axis_label_text_font_size\":\"14pt\",\"major_label_policy\":{\"type\":\"object\",\"name\":\"AllLabels\",\"id\":\"42535d64-89f4-4586-8898-0818feebf4a7\"}}}],\"below\":[{\"type\":\"object\",\"name\":\"LinearAxis\",\"id\":\"54ebcf6b-df9e-4941-a9a4-fa4a354deb06\",\"attributes\":{\"ticker\":{\"type\":\"object\",\"name\":\"BasicTicker\",\"id\":\"38d40957-c50c-4c7c-9a0d-8ebdbee55013\",\"attributes\":{\"mantissas\":[1,2,5]}},\"formatter\":{\"type\":\"object\",\"name\":\"BasicTickFormatter\",\"id\":\"dddb4473-39f2-48ec-93bd-67f8d9b4ad7a\"},\"axis_label\":\"Value\",\"axis_label_text_font_size\":\"14pt\",\"major_label_policy\":{\"type\":\"object\",\"name\":\"AllLabels\",\"id\":\"ffa55807-b4bf-45e1-b2b4-b9d9674ee38e\"}}}],\"center\":[{\"type\":\"object\",\"name\":\"Grid\",\"id\":\"db3e15bd-c302-4aac-96f0-d7bb2af0132c\",\"attributes\":{\"axis\":{\"id\":\"54ebcf6b-df9e-4941-a9a4-fa4a354deb06\"},\"grid_line_color\":\"white\"}},{\"type\":\"object\",\"name\":\"Grid\",\"id\":\"e3aca999-8d92-493e-b746-59278d28fc8b\",\"attributes\":{\"dimension\":1,\"axis\":{\"id\":\"f7ca04ea-06bb-4264-b7d6-745a2d120b22\"},\"grid_line_color\":\"white\"}}],\"background_fill_color\":\"#fafafa\"}},1,0],[{\"type\":\"object\",\"name\":\"Figure\",\"id\":\"2e14065d-a3f2-454c-9bb9-8ac6da4c575b\",\"attributes\":{\"width\":300,\"height\":300,\"x_range\":{\"type\":\"object\",\"name\":\"DataRange1d\",\"id\":\"15b23c5a-d51c-4fde-9fec-b29ac098c792\"},\"y_range\":{\"type\":\"object\",\"name\":\"DataRange1d\",\"id\":\"0e785d45-967a-4a6a-8bc0-28fa9e4899fc\",\"attributes\":{\"start\":0}},\"x_scale\":{\"type\":\"object\",\"name\":\"LinearScale\",\"id\":\"55f4d22e-021b-48b5-8ae5-bab2bd1698c8\"},\"y_scale\":{\"type\":\"object\",\"name\":\"LinearScale\",\"id\":\"059f6577-e25e-43b8-b7ba-ef2542140dbe\"},\"title\":{\"type\":\"object\",\"name\":\"Title\",\"id\":\"3d571cd4-adf0-4d67-b442-72613c07ae81\",\"attributes\":{\"text\":\" dialysis_type\",\"text_font_size\":\"16pt\"}},\"renderers\":[{\"type\":\"object\",\"name\":\"GlyphRenderer\",\"id\":\"f3f265cc-76d6-4c6e-8692-3e8ccc7518cc\",\"attributes\":{\"data_source\":{\"type\":\"object\",\"name\":\"ColumnDataSource\",\"id\":\"c3dc4bba-5da9-4432-9f63-29971e7c2ae5\",\"attributes\":{\"selected\":{\"type\":\"object\",\"name\":\"Selection\",\"id\":\"57ee4eb6-16d0-42de-a8f3-f1ce3795d0fa\",\"attributes\":{\"indices\":[],\"line_indices\":[]}},\"selection_policy\":{\"type\":\"object\",\"name\":\"UnionRenderers\",\"id\":\"db25dfea-abb6-4194-abd9-4841f5330244\"},\"data\":{\"type\":\"map\",\"entries\":[[\"top\",{\"type\":\"ndarray\",\"array\":{\"type\":\"bytes\",\"data\":\"IAAAAAAAAAAAAAAAAAAAAAAAAAAAAAAAAAAAAAAAAAAAAAAAAAAAAAAAAAAAAAAAAAAAAAAAAAAAAAAAAAAAAAAAAAAAAAAAAAAAAAAAAADEBAAAAAAAAAAAAAAAAAAAAAAAAAAAAAAAAAAAAAAAAAAAAAAAAAAAAAAAAAAAAAAAAAAAAAAAAAAAAAAAAAAAAAAAAAAAAAAAAAAAUQAAAA==\"},\"shape\":[40],\"dtype\":\"int32\",\"order\":\"little\"}],[\"left\",{\"type\":\"ndarray\",\"array\":{\"type\":\"bytes\",\"data\":\"AAAAAAAAAACamZmZmZmpP5qZmZmZmbk/NDMzMzMzwz+amZmZmZnJPwAAAAAAANA/NDMzMzMz0z9nZmZmZmbWP5qZmZmZmdk/zczMzMzM3D8AAAAAAADgP5qZmZmZmeE/NDMzMzMz4z/NzMzMzMzkP2dmZmZmZuY/AAAAAAAA6D+amZmZmZnpPzQzMzMzM+s/zczMzMzM7D9nZmZmZmbuPwAAAAAAAPA/zczMzMzM8D+amZmZmZnxP2dmZmZmZvI/NDMzMzMz8z8AAAAAAAD0P83MzMzMzPQ/mpmZmZmZ9T9nZmZmZmb2PzQzMzMzM/c/AAAAAAAA+D/NzMzMzMz4P5qZmZmZmfk/Z2ZmZmZm+j80MzMzMzP7PwAAAAAAAPw/zczMzMzM/D+amZmZmZn9P2dmZmZmZv4/NDMzMzMz/z8=\"},\"shape\":[40],\"dtype\":\"float64\",\"order\":\"little\"}],[\"right\",{\"type\":\"ndarray\",\"array\":{\"type\":\"bytes\",\"data\":\"mpmZmZmZqT+amZmZmZm5PzQzMzMzM8M/mpmZmZmZyT8AAAAAAADQPzQzMzMzM9M/Z2ZmZmZm1j+amZmZmZnZP83MzMzMzNw/AAAAAAAA4D+amZmZmZnhPzQzMzMzM+M/zczMzMzM5D9nZmZmZmbmPwAAAAAAAOg/mpmZmZmZ6T80MzMzMzPrP83MzMzMzOw/Z2ZmZmZm7j8AAAAAAADwP83MzMzMzPA/mpmZmZmZ8T9nZmZmZmbyPzQzMzMzM/M/AAAAAAAA9D/NzMzMzMz0P5qZmZmZmfU/Z2ZmZmZm9j80MzMzMzP3PwAAAAAAAPg/zczMzMzM+D+amZmZmZn5P2dmZmZmZvo/NDMzMzMz+z8AAAAAAAD8P83MzMzMzPw/mpmZmZmZ/T9nZmZmZmb+PzQzMzMzM/8/AAAAAAAAAEA=\"},\"shape\":[40],\"dtype\":\"float64\",\"order\":\"little\"}],[\"fill_color\",[\"#440154\",\"#440255\",\"#440357\",\"#450558\",\"#45065A\",\"#45085B\",\"#46095C\",\"#460B5E\",\"#460C5F\",\"#460E61\",\"#470F62\",\"#471163\",\"#471265\",\"#471466\",\"#471567\",\"#471669\",\"#47186A\",\"#48196B\",\"#481A6C\",\"#481C6E\",\"#481D6F\",\"#481E70\",\"#482071\",\"#482172\",\"#482273\",\"#482374\",\"#472575\",\"#472676\",\"#472777\",\"#472878\",\"#472A79\",\"#472B7A\",\"#472C7B\",\"#462D7C\",\"#462F7C\",\"#46307D\",\"#46317E\",\"#45327F\",\"#45347F\",\"#453580\",\"#453681\",\"#443781\",\"#443982\",\"#433A83\",\"#433B83\",\"#433C84\",\"#423D84\",\"#423E85\",\"#424085\",\"#414186\",\"#414286\",\"#404387\",\"#404487\",\"#3F4587\",\"#3F4788\",\"#3E4888\",\"#3E4989\",\"#3D4A89\",\"#3D4B89\",\"#3D4C89\",\"#3C4D8A\",\"#3C4E8A\",\"#3B508A\",\"#3B518A\",\"#3A528B\",\"#3A538B\",\"#39548B\",\"#39558B\",\"#38568B\",\"#38578C\",\"#37588C\",\"#37598C\",\"#365A8C\",\"#365B8C\",\"#355C8C\",\"#355D8C\",\"#345E8D\",\"#345F8D\",\"#33608D\",\"#33618D\",\"#32628D\",\"#32638D\",\"#31648D\",\"#31658D\",\"#31668D\",\"#30678D\",\"#30688D\",\"#2F698D\",\"#2F6A8D\",\"#2E6B8E\",\"#2E6C8E\",\"#2E6D8E\",\"#2D6E8E\",\"#2D6F8E\",\"#2C708E\",\"#2C718E\",\"#2C728E\",\"#2B738E\",\"#2B748E\",\"#2A758E\",\"#2A768E\",\"#2A778E\",\"#29788E\",\"#29798E\",\"#287A8E\",\"#287A8E\",\"#287B8E\",\"#277C8E\",\"#277D8E\",\"#277E8E\",\"#267F8E\",\"#26808E\",\"#26818E\",\"#25828E\",\"#25838D\",\"#24848D\",\"#24858D\",\"#24868D\",\"#23878D\",\"#23888D\",\"#23898D\",\"#22898D\",\"#228A8D\",\"#228B8D\",\"#218C8D\",\"#218D8C\",\"#218E8C\",\"#208F8C\",\"#20908C\",\"#20918C\",\"#1F928C\",\"#1F938B\",\"#1F948B\",\"#1F958B\",\"#1F968B\",\"#1E978A\",\"#1E988A\",\"#1E998A\",\"#1E998A\",\"#1E9A89\",\"#1E9B89\",\"#1E9C89\",\"#1E9D88\",\"#1E9E88\",\"#1E9F88\",\"#1EA087\",\"#1FA187\",\"#1FA286\",\"#1FA386\",\"#20A485\",\"#20A585\",\"#21A685\",\"#21A784\",\"#22A784\",\"#23A883\",\"#23A982\",\"#24AA82\",\"#25AB81\",\"#26AC81\",\"#27AD80\",\"#28AE7F\",\"#29AF7F\",\"#2AB07E\",\"#2BB17D\",\"#2CB17D\",\"#2EB27C\",\"#2FB37B\",\"#30B47A\",\"#32B57A\",\"#33B679\",\"#35B778\",\"#36B877\",\"#38B976\",\"#39B976\",\"#3BBA75\",\"#3DBB74\",\"#3EBC73\",\"#40BD72\",\"#42BE71\",\"#44BE70\",\"#45BF6F\",\"#47C06E\",\"#49C16D\",\"#4BC26C\",\"#4DC26B\",\"#4FC369\",\"#51C468\",\"#53C567\",\"#55C666\",\"#57C665\",\"#59C764\",\"#5BC862\",\"#5EC961\",\"#60C960\",\"#62CA5F\",\"#64CB5D\",\"#67CC5C\",\"#69CC5B\",\"#6BCD59\",\"#6DCE58\",\"#70CE56\",\"#72CF55\",\"#74D054\",\"#77D052\",\"#79D151\",\"#7CD24F\",\"#7ED24E\",\"#81D34C\",\"#83D34B\",\"#86D449\",\"#88D547\",\"#8BD546\",\"#8DD644\",\"#90D643\",\"#92D741\",\"#95D73F\",\"#97D83E\",\"#9AD83C\",\"#9DD93A\",\"#9FD938\",\"#A2DA37\",\"#A5DA35\",\"#A7DB33\",\"#AADB32\",\"#ADDC30\",\"#AFDC2E\",\"#B2DD2C\",\"#B5DD2B\",\"#B7DD29\",\"#BADE27\",\"#BDDE26\",\"#BFDF24\",\"#C2DF22\",\"#C5DF21\",\"#C7E01F\",\"#CAE01E\",\"#CDE01D\",\"#CFE11C\",\"#D2E11B\",\"#D4E11A\",\"#D7E219\",\"#DAE218\",\"#DCE218\",\"#DFE318\",\"#E1E318\",\"#E4E318\",\"#E7E419\",\"#E9E419\",\"#ECE41A\",\"#EEE51B\",\"#F1E51C\",\"#F3E51E\",\"#F6E61F\",\"#F8E621\",\"#FAE622\",\"#FDE724\"]]]}}},\"view\":{\"type\":\"object\",\"name\":\"CDSView\",\"id\":\"fd3eee8c-d9f3-453b-90f6-b18a88cd1eb1\",\"attributes\":{\"filter\":{\"type\":\"object\",\"name\":\"AllIndices\",\"id\":\"462afc9c-bc7f-4fb9-a535-01428e11d2c5\"}}},\"glyph\":{\"type\":\"object\",\"name\":\"Quad\",\"id\":\"171ff13a-168f-4816-990c-801c4ad8b518\",\"attributes\":{\"left\":{\"type\":\"field\",\"field\":\"left\"},\"right\":{\"type\":\"field\",\"field\":\"right\"},\"bottom\":{\"type\":\"value\",\"value\":0},\"top\":{\"type\":\"field\",\"field\":\"top\"},\"line_color\":{\"type\":\"value\",\"value\":\"white\"},\"line_alpha\":{\"type\":\"value\",\"value\":0.5},\"fill_color\":{\"type\":\"field\",\"field\":\"fill_color\"},\"fill_alpha\":{\"type\":\"value\",\"value\":0.5},\"hatch_alpha\":{\"type\":\"value\",\"value\":0.5}}},\"nonselection_glyph\":{\"type\":\"object\",\"name\":\"Quad\",\"id\":\"fd174d0d-7ffc-4778-8953-47b322cb6e90\",\"attributes\":{\"left\":{\"type\":\"field\",\"field\":\"left\"},\"right\":{\"type\":\"field\",\"field\":\"right\"},\"bottom\":{\"type\":\"value\",\"value\":0},\"top\":{\"type\":\"field\",\"field\":\"top\"},\"line_color\":{\"type\":\"value\",\"value\":\"white\"},\"line_alpha\":{\"type\":\"value\",\"value\":0.1},\"fill_color\":{\"type\":\"field\",\"field\":\"fill_color\"},\"fill_alpha\":{\"type\":\"value\",\"value\":0.1},\"hatch_alpha\":{\"type\":\"value\",\"value\":0.1}}},\"muted_glyph\":{\"type\":\"object\",\"name\":\"Quad\",\"id\":\"0c361606-470f-408b-8818-12b2ba3e6b24\",\"attributes\":{\"left\":{\"type\":\"field\",\"field\":\"left\"},\"right\":{\"type\":\"field\",\"field\":\"right\"},\"bottom\":{\"type\":\"value\",\"value\":0},\"top\":{\"type\":\"field\",\"field\":\"top\"},\"line_color\":{\"type\":\"value\",\"value\":\"white\"},\"line_alpha\":{\"type\":\"value\",\"value\":0.2},\"fill_color\":{\"type\":\"field\",\"field\":\"fill_color\"},\"fill_alpha\":{\"type\":\"value\",\"value\":0.2},\"hatch_alpha\":{\"type\":\"value\",\"value\":0.2}}}}}],\"toolbar\":{\"type\":\"object\",\"name\":\"Toolbar\",\"id\":\"6760497e-eb7c-4954-b027-ca48f284db76\"},\"toolbar_location\":null,\"left\":[{\"type\":\"object\",\"name\":\"LinearAxis\",\"id\":\"9d1e35f0-abe0-46b2-9c85-13016a8e3cc2\",\"attributes\":{\"ticker\":{\"type\":\"object\",\"name\":\"BasicTicker\",\"id\":\"a898b424-2cc5-4198-865e-c4160634d037\",\"attributes\":{\"mantissas\":[1,2,5]}},\"formatter\":{\"type\":\"object\",\"name\":\"BasicTickFormatter\",\"id\":\"bbb552a2-49fe-415e-a3cb-ee8041a40f23\"},\"axis_label\":\"Count\",\"axis_label_text_font_size\":\"14pt\",\"major_label_policy\":{\"type\":\"object\",\"name\":\"AllLabels\",\"id\":\"a7556abc-a329-44b9-a741-4ada61bfc12e\"}}}],\"below\":[{\"type\":\"object\",\"name\":\"LinearAxis\",\"id\":\"1d4c28ff-2ee7-4448-8656-4e89f6cc7874\",\"attributes\":{\"ticker\":{\"type\":\"object\",\"name\":\"BasicTicker\",\"id\":\"85c66390-e485-415b-a404-f44d16cc0268\",\"attributes\":{\"mantissas\":[1,2,5]}},\"formatter\":{\"type\":\"object\",\"name\":\"BasicTickFormatter\",\"id\":\"3c817f8b-0b39-41d6-9e97-9d1634ecf8aa\"},\"axis_label\":\"Value\",\"axis_label_text_font_size\":\"14pt\",\"major_label_policy\":{\"type\":\"object\",\"name\":\"AllLabels\",\"id\":\"c27b26a6-e8e0-43e6-bf2a-91da34af3342\"}}}],\"center\":[{\"type\":\"object\",\"name\":\"Grid\",\"id\":\"ee4f8ffb-ede1-42ad-92dd-88c0814ae395\",\"attributes\":{\"axis\":{\"id\":\"1d4c28ff-2ee7-4448-8656-4e89f6cc7874\"},\"grid_line_color\":\"white\"}},{\"type\":\"object\",\"name\":\"Grid\",\"id\":\"bb6ced6a-bd6f-4e98-941f-2c1318ad1381\",\"attributes\":{\"dimension\":1,\"axis\":{\"id\":\"9d1e35f0-abe0-46b2-9c85-13016a8e3cc2\"},\"grid_line_color\":\"white\"}}],\"background_fill_color\":\"#fafafa\"}},1,1],[{\"type\":\"object\",\"name\":\"Figure\",\"id\":\"01f1d73f-6823-4f60-a7e4-bb8054b489b6\",\"attributes\":{\"width\":300,\"height\":300,\"x_range\":{\"type\":\"object\",\"name\":\"DataRange1d\",\"id\":\"f95032b9-0855-4346-8b6e-0a66c14d7ab1\"},\"y_range\":{\"type\":\"object\",\"name\":\"DataRange1d\",\"id\":\"cd0f9433-ee2a-4300-b49f-2dc8c27cf562\",\"attributes\":{\"start\":0}},\"x_scale\":{\"type\":\"object\",\"name\":\"LinearScale\",\"id\":\"fa9ccc2f-d511-4a28-b0b7-2707465d6e95\"},\"y_scale\":{\"type\":\"object\",\"name\":\"LinearScale\",\"id\":\"6e9b61b3-b140-4669-bbc1-10333a083156\"},\"title\":{\"type\":\"object\",\"name\":\"Title\",\"id\":\"75fbdfcc-ee50-419e-a03e-19b859cb7f41\",\"attributes\":{\"text\":\" smoking\",\"text_font_size\":\"16pt\"}},\"renderers\":[{\"type\":\"object\",\"name\":\"GlyphRenderer\",\"id\":\"ba283359-542e-47d3-b093-9fc5439d53ef\",\"attributes\":{\"data_source\":{\"type\":\"object\",\"name\":\"ColumnDataSource\",\"id\":\"0f0250f1-81c9-4e78-b57c-b32bf74de709\",\"attributes\":{\"selected\":{\"type\":\"object\",\"name\":\"Selection\",\"id\":\"8adfee85-ce02-48aa-9c5a-9be6e7695a8e\",\"attributes\":{\"indices\":[],\"line_indices\":[]}},\"selection_policy\":{\"type\":\"object\",\"name\":\"UnionRenderers\",\"id\":\"5e07025b-9074-4a1a-b1b3-63f95d8be88c\"},\"data\":{\"type\":\"map\",\"entries\":[[\"top\",{\"type\":\"ndarray\",\"array\":{\"type\":\"bytes\",\"data\":\"qAMAAAAAAAAAAAAAAAAAAAAAAAAAAAAAAAAAAAAAAAAAAAAAAAAAAAAAAAAAAAAAAAAAAAAAAAAAAAAAAAAAAAAAAAAAAAAAAAAAAAAAAAAAAAAAAAAAAAAAAAAAAAAAAAAAAAAAAAAAAAAAAAAAAAAAAAAAAAAAAAAAAAAAAAAAAAAAAAAAAAAAAAAAAAAAAAAAAAAAAAAAAAAAjQEAAA==\"},\"shape\":[40],\"dtype\":\"int32\",\"order\":\"little\"}],[\"left\",{\"type\":\"ndarray\",\"array\":{\"type\":\"bytes\",\"data\":\"AAAAAAAAAACamZmZmZmZP5qZmZmZmak/NDMzMzMzsz+amZmZmZm5PwAAAAAAAMA/NDMzMzMzwz9nZmZmZmbGP5qZmZmZmck/zczMzMzMzD8AAAAAAADQP5qZmZmZmdE/NDMzMzMz0z/NzMzMzMzUP2dmZmZmZtY/AAAAAAAA2D+amZmZmZnZPzQzMzMzM9s/zczMzMzM3D9nZmZmZmbePwAAAAAAAOA/zczMzMzM4D+amZmZmZnhP2dmZmZmZuI/NDMzMzMz4z8AAAAAAADkP83MzMzMzOQ/mpmZmZmZ5T9nZmZmZmbmPzQzMzMzM+c/AAAAAAAA6D/NzMzMzMzoP5qZmZmZmek/Z2ZmZmZm6j80MzMzMzPrPwAAAAAAAOw/zczMzMzM7D+amZmZmZntP2dmZmZmZu4/NDMzMzMz7z8=\"},\"shape\":[40],\"dtype\":\"float64\",\"order\":\"little\"}],[\"right\",{\"type\":\"ndarray\",\"array\":{\"type\":\"bytes\",\"data\":\"mpmZmZmZmT+amZmZmZmpPzQzMzMzM7M/mpmZmZmZuT8AAAAAAADAPzQzMzMzM8M/Z2ZmZmZmxj+amZmZmZnJP83MzMzMzMw/AAAAAAAA0D+amZmZmZnRPzQzMzMzM9M/zczMzMzM1D9nZmZmZmbWPwAAAAAAANg/mpmZmZmZ2T80MzMzMzPbP83MzMzMzNw/Z2ZmZmZm3j8AAAAAAADgP83MzMzMzOA/mpmZmZmZ4T9nZmZmZmbiPzQzMzMzM+M/AAAAAAAA5D/NzMzMzMzkP5qZmZmZmeU/Z2ZmZmZm5j80MzMzMzPnPwAAAAAAAOg/zczMzMzM6D+amZmZmZnpP2dmZmZmZuo/NDMzMzMz6z8AAAAAAADsP83MzMzMzOw/mpmZmZmZ7T9nZmZmZmbuPzQzMzMzM+8/AAAAAAAA8D8=\"},\"shape\":[40],\"dtype\":\"float64\",\"order\":\"little\"}],[\"fill_color\",[\"#440154\",\"#440255\",\"#440357\",\"#450558\",\"#45065A\",\"#45085B\",\"#46095C\",\"#460B5E\",\"#460C5F\",\"#460E61\",\"#470F62\",\"#471163\",\"#471265\",\"#471466\",\"#471567\",\"#471669\",\"#47186A\",\"#48196B\",\"#481A6C\",\"#481C6E\",\"#481D6F\",\"#481E70\",\"#482071\",\"#482172\",\"#482273\",\"#482374\",\"#472575\",\"#472676\",\"#472777\",\"#472878\",\"#472A79\",\"#472B7A\",\"#472C7B\",\"#462D7C\",\"#462F7C\",\"#46307D\",\"#46317E\",\"#45327F\",\"#45347F\",\"#453580\",\"#453681\",\"#443781\",\"#443982\",\"#433A83\",\"#433B83\",\"#433C84\",\"#423D84\",\"#423E85\",\"#424085\",\"#414186\",\"#414286\",\"#404387\",\"#404487\",\"#3F4587\",\"#3F4788\",\"#3E4888\",\"#3E4989\",\"#3D4A89\",\"#3D4B89\",\"#3D4C89\",\"#3C4D8A\",\"#3C4E8A\",\"#3B508A\",\"#3B518A\",\"#3A528B\",\"#3A538B\",\"#39548B\",\"#39558B\",\"#38568B\",\"#38578C\",\"#37588C\",\"#37598C\",\"#365A8C\",\"#365B8C\",\"#355C8C\",\"#355D8C\",\"#345E8D\",\"#345F8D\",\"#33608D\",\"#33618D\",\"#32628D\",\"#32638D\",\"#31648D\",\"#31658D\",\"#31668D\",\"#30678D\",\"#30688D\",\"#2F698D\",\"#2F6A8D\",\"#2E6B8E\",\"#2E6C8E\",\"#2E6D8E\",\"#2D6E8E\",\"#2D6F8E\",\"#2C708E\",\"#2C718E\",\"#2C728E\",\"#2B738E\",\"#2B748E\",\"#2A758E\",\"#2A768E\",\"#2A778E\",\"#29788E\",\"#29798E\",\"#287A8E\",\"#287A8E\",\"#287B8E\",\"#277C8E\",\"#277D8E\",\"#277E8E\",\"#267F8E\",\"#26808E\",\"#26818E\",\"#25828E\",\"#25838D\",\"#24848D\",\"#24858D\",\"#24868D\",\"#23878D\",\"#23888D\",\"#23898D\",\"#22898D\",\"#228A8D\",\"#228B8D\",\"#218C8D\",\"#218D8C\",\"#218E8C\",\"#208F8C\",\"#20908C\",\"#20918C\",\"#1F928C\",\"#1F938B\",\"#1F948B\",\"#1F958B\",\"#1F968B\",\"#1E978A\",\"#1E988A\",\"#1E998A\",\"#1E998A\",\"#1E9A89\",\"#1E9B89\",\"#1E9C89\",\"#1E9D88\",\"#1E9E88\",\"#1E9F88\",\"#1EA087\",\"#1FA187\",\"#1FA286\",\"#1FA386\",\"#20A485\",\"#20A585\",\"#21A685\",\"#21A784\",\"#22A784\",\"#23A883\",\"#23A982\",\"#24AA82\",\"#25AB81\",\"#26AC81\",\"#27AD80\",\"#28AE7F\",\"#29AF7F\",\"#2AB07E\",\"#2BB17D\",\"#2CB17D\",\"#2EB27C\",\"#2FB37B\",\"#30B47A\",\"#32B57A\",\"#33B679\",\"#35B778\",\"#36B877\",\"#38B976\",\"#39B976\",\"#3BBA75\",\"#3DBB74\",\"#3EBC73\",\"#40BD72\",\"#42BE71\",\"#44BE70\",\"#45BF6F\",\"#47C06E\",\"#49C16D\",\"#4BC26C\",\"#4DC26B\",\"#4FC369\",\"#51C468\",\"#53C567\",\"#55C666\",\"#57C665\",\"#59C764\",\"#5BC862\",\"#5EC961\",\"#60C960\",\"#62CA5F\",\"#64CB5D\",\"#67CC5C\",\"#69CC5B\",\"#6BCD59\",\"#6DCE58\",\"#70CE56\",\"#72CF55\",\"#74D054\",\"#77D052\",\"#79D151\",\"#7CD24F\",\"#7ED24E\",\"#81D34C\",\"#83D34B\",\"#86D449\",\"#88D547\",\"#8BD546\",\"#8DD644\",\"#90D643\",\"#92D741\",\"#95D73F\",\"#97D83E\",\"#9AD83C\",\"#9DD93A\",\"#9FD938\",\"#A2DA37\",\"#A5DA35\",\"#A7DB33\",\"#AADB32\",\"#ADDC30\",\"#AFDC2E\",\"#B2DD2C\",\"#B5DD2B\",\"#B7DD29\",\"#BADE27\",\"#BDDE26\",\"#BFDF24\",\"#C2DF22\",\"#C5DF21\",\"#C7E01F\",\"#CAE01E\",\"#CDE01D\",\"#CFE11C\",\"#D2E11B\",\"#D4E11A\",\"#D7E219\",\"#DAE218\",\"#DCE218\",\"#DFE318\",\"#E1E318\",\"#E4E318\",\"#E7E419\",\"#E9E419\",\"#ECE41A\",\"#EEE51B\",\"#F1E51C\",\"#F3E51E\",\"#F6E61F\",\"#F8E621\",\"#FAE622\",\"#FDE724\"]]]}}},\"view\":{\"type\":\"object\",\"name\":\"CDSView\",\"id\":\"aed99e78-a1ee-4e3f-a24b-2a38296cddb3\",\"attributes\":{\"filter\":{\"type\":\"object\",\"name\":\"AllIndices\",\"id\":\"6d66f75d-4e44-440a-862e-44cf2c49b976\"}}},\"glyph\":{\"type\":\"object\",\"name\":\"Quad\",\"id\":\"019df44f-8202-4030-b2c7-536fec6def73\",\"attributes\":{\"left\":{\"type\":\"field\",\"field\":\"left\"},\"right\":{\"type\":\"field\",\"field\":\"right\"},\"bottom\":{\"type\":\"value\",\"value\":0},\"top\":{\"type\":\"field\",\"field\":\"top\"},\"line_color\":{\"type\":\"value\",\"value\":\"white\"},\"line_alpha\":{\"type\":\"value\",\"value\":0.5},\"fill_color\":{\"type\":\"field\",\"field\":\"fill_color\"},\"fill_alpha\":{\"type\":\"value\",\"value\":0.5},\"hatch_alpha\":{\"type\":\"value\",\"value\":0.5}}},\"nonselection_glyph\":{\"type\":\"object\",\"name\":\"Quad\",\"id\":\"e2a59753-d7c9-47ce-8dcc-7f70fba05edf\",\"attributes\":{\"left\":{\"type\":\"field\",\"field\":\"left\"},\"right\":{\"type\":\"field\",\"field\":\"right\"},\"bottom\":{\"type\":\"value\",\"value\":0},\"top\":{\"type\":\"field\",\"field\":\"top\"},\"line_color\":{\"type\":\"value\",\"value\":\"white\"},\"line_alpha\":{\"type\":\"value\",\"value\":0.1},\"fill_color\":{\"type\":\"field\",\"field\":\"fill_color\"},\"fill_alpha\":{\"type\":\"value\",\"value\":0.1},\"hatch_alpha\":{\"type\":\"value\",\"value\":0.1}}},\"muted_glyph\":{\"type\":\"object\",\"name\":\"Quad\",\"id\":\"b4b6d1e2-7428-4ad4-b5bf-5cf3a7ed76d0\",\"attributes\":{\"left\":{\"type\":\"field\",\"field\":\"left\"},\"right\":{\"type\":\"field\",\"field\":\"right\"},\"bottom\":{\"type\":\"value\",\"value\":0},\"top\":{\"type\":\"field\",\"field\":\"top\"},\"line_color\":{\"type\":\"value\",\"value\":\"white\"},\"line_alpha\":{\"type\":\"value\",\"value\":0.2},\"fill_color\":{\"type\":\"field\",\"field\":\"fill_color\"},\"fill_alpha\":{\"type\":\"value\",\"value\":0.2},\"hatch_alpha\":{\"type\":\"value\",\"value\":0.2}}}}}],\"toolbar\":{\"type\":\"object\",\"name\":\"Toolbar\",\"id\":\"e894362b-18db-40e8-a53c-ab1f981c9f2e\"},\"toolbar_location\":null,\"left\":[{\"type\":\"object\",\"name\":\"LinearAxis\",\"id\":\"ca5a0317-f113-45e6-9e38-dad06a3b40a1\",\"attributes\":{\"ticker\":{\"type\":\"object\",\"name\":\"BasicTicker\",\"id\":\"011d5758-4964-4e6d-83e1-9ab5fcdd1b0f\",\"attributes\":{\"mantissas\":[1,2,5]}},\"formatter\":{\"type\":\"object\",\"name\":\"BasicTickFormatter\",\"id\":\"29c439f1-a692-4dca-bb6e-38c4d1dcd58d\"},\"axis_label\":\"Count\",\"axis_label_text_font_size\":\"14pt\",\"major_label_policy\":{\"type\":\"object\",\"name\":\"AllLabels\",\"id\":\"d4608ea3-db18-4f2f-9827-9f4369ddbabc\"}}}],\"below\":[{\"type\":\"object\",\"name\":\"LinearAxis\",\"id\":\"c9fd3b80-0019-4806-aaea-3315d904a3fb\",\"attributes\":{\"ticker\":{\"type\":\"object\",\"name\":\"BasicTicker\",\"id\":\"81df703d-cef7-4744-8b37-08168abbc015\",\"attributes\":{\"mantissas\":[1,2,5]}},\"formatter\":{\"type\":\"object\",\"name\":\"BasicTickFormatter\",\"id\":\"5de44fba-a31d-4632-a600-cbc8ebe4abbe\"},\"axis_label\":\"Value\",\"axis_label_text_font_size\":\"14pt\",\"major_label_policy\":{\"type\":\"object\",\"name\":\"AllLabels\",\"id\":\"43e8f59e-12e8-4416-aa70-fa8011ab0112\"}}}],\"center\":[{\"type\":\"object\",\"name\":\"Grid\",\"id\":\"f29232e1-c7c4-44a5-9d79-a5d235b4baa3\",\"attributes\":{\"axis\":{\"id\":\"c9fd3b80-0019-4806-aaea-3315d904a3fb\"},\"grid_line_color\":\"white\"}},{\"type\":\"object\",\"name\":\"Grid\",\"id\":\"e4ee4453-55a3-4cd8-8ff6-a75172539af8\",\"attributes\":{\"dimension\":1,\"axis\":{\"id\":\"ca5a0317-f113-45e6-9e38-dad06a3b40a1\"},\"grid_line_color\":\"white\"}}],\"background_fill_color\":\"#fafafa\"}},1,2],[{\"type\":\"object\",\"name\":\"Figure\",\"id\":\"f299a25d-73a2-447f-8a7f-2ae5b2bf55a1\",\"attributes\":{\"width\":300,\"height\":300,\"x_range\":{\"type\":\"object\",\"name\":\"DataRange1d\",\"id\":\"94df540e-7ff1-48d8-ab22-0357f88bf4c5\"},\"y_range\":{\"type\":\"object\",\"name\":\"DataRange1d\",\"id\":\"e513e274-a8d4-428b-ad84-23860b536ac1\",\"attributes\":{\"start\":0}},\"x_scale\":{\"type\":\"object\",\"name\":\"LinearScale\",\"id\":\"61928792-9e26-4099-ab80-9bf2fd1e457c\"},\"y_scale\":{\"type\":\"object\",\"name\":\"LinearScale\",\"id\":\"5735e1ef-8306-431d-98e8-4e972e0c2e53\"},\"title\":{\"type\":\"object\",\"name\":\"Title\",\"id\":\"5b208701-9f4b-4c64-9e1b-0d4f6d85acff\",\"attributes\":{\"text\":\" diabetes\",\"text_font_size\":\"16pt\"}},\"renderers\":[{\"type\":\"object\",\"name\":\"GlyphRenderer\",\"id\":\"c0a07c27-1865-4b37-a892-d5d6726e46d0\",\"attributes\":{\"data_source\":{\"type\":\"object\",\"name\":\"ColumnDataSource\",\"id\":\"ef1b1349-71ad-4643-8958-ab637c1aff2f\",\"attributes\":{\"selected\":{\"type\":\"object\",\"name\":\"Selection\",\"id\":\"87ee8643-4aee-4dda-9965-dbcec24e59fd\",\"attributes\":{\"indices\":[],\"line_indices\":[]}},\"selection_policy\":{\"type\":\"object\",\"name\":\"UnionRenderers\",\"id\":\"bc16ba93-6b5d-4016-999c-0ef832e7e1b1\"},\"data\":{\"type\":\"map\",\"entries\":[[\"top\",{\"type\":\"ndarray\",\"array\":{\"type\":\"bytes\",\"data\":\"bgMAAAAAAAAAAAAAAAAAAAAAAAAAAAAAAAAAAAAAAAAAAAAAAAAAAAAAAAAAAAAAAAAAAAAAAAAAAAAAAAAAAAAAAAAAAAAAAAAAAAAAAAAAAAAAAAAAAAAAAAAAAAAAAAAAAAAAAAAAAAAAAAAAAAAAAAAAAAAAAAAAAAAAAAAAAAAAAAAAAAAAAAAAAAAAAAAAAAAAAAAAAAAAxwEAAA==\"},\"shape\":[40],\"dtype\":\"int32\",\"order\":\"little\"}],[\"left\",{\"type\":\"ndarray\",\"array\":{\"type\":\"bytes\",\"data\":\"AAAAAAAAAACamZmZmZmZP5qZmZmZmak/NDMzMzMzsz+amZmZmZm5PwAAAAAAAMA/NDMzMzMzwz9nZmZmZmbGP5qZmZmZmck/zczMzMzMzD8AAAAAAADQP5qZmZmZmdE/NDMzMzMz0z/NzMzMzMzUP2dmZmZmZtY/AAAAAAAA2D+amZmZmZnZPzQzMzMzM9s/zczMzMzM3D9nZmZmZmbePwAAAAAAAOA/zczMzMzM4D+amZmZmZnhP2dmZmZmZuI/NDMzMzMz4z8AAAAAAADkP83MzMzMzOQ/mpmZmZmZ5T9nZmZmZmbmPzQzMzMzM+c/AAAAAAAA6D/NzMzMzMzoP5qZmZmZmek/Z2ZmZmZm6j80MzMzMzPrPwAAAAAAAOw/zczMzMzM7D+amZmZmZntP2dmZmZmZu4/NDMzMzMz7z8=\"},\"shape\":[40],\"dtype\":\"float64\",\"order\":\"little\"}],[\"right\",{\"type\":\"ndarray\",\"array\":{\"type\":\"bytes\",\"data\":\"mpmZmZmZmT+amZmZmZmpPzQzMzMzM7M/mpmZmZmZuT8AAAAAAADAPzQzMzMzM8M/Z2ZmZmZmxj+amZmZmZnJP83MzMzMzMw/AAAAAAAA0D+amZmZmZnRPzQzMzMzM9M/zczMzMzM1D9nZmZmZmbWPwAAAAAAANg/mpmZmZmZ2T80MzMzMzPbP83MzMzMzNw/Z2ZmZmZm3j8AAAAAAADgP83MzMzMzOA/mpmZmZmZ4T9nZmZmZmbiPzQzMzMzM+M/AAAAAAAA5D/NzMzMzMzkP5qZmZmZmeU/Z2ZmZmZm5j80MzMzMzPnPwAAAAAAAOg/zczMzMzM6D+amZmZmZnpP2dmZmZmZuo/NDMzMzMz6z8AAAAAAADsP83MzMzMzOw/mpmZmZmZ7T9nZmZmZmbuPzQzMzMzM+8/AAAAAAAA8D8=\"},\"shape\":[40],\"dtype\":\"float64\",\"order\":\"little\"}],[\"fill_color\",[\"#440154\",\"#440255\",\"#440357\",\"#450558\",\"#45065A\",\"#45085B\",\"#46095C\",\"#460B5E\",\"#460C5F\",\"#460E61\",\"#470F62\",\"#471163\",\"#471265\",\"#471466\",\"#471567\",\"#471669\",\"#47186A\",\"#48196B\",\"#481A6C\",\"#481C6E\",\"#481D6F\",\"#481E70\",\"#482071\",\"#482172\",\"#482273\",\"#482374\",\"#472575\",\"#472676\",\"#472777\",\"#472878\",\"#472A79\",\"#472B7A\",\"#472C7B\",\"#462D7C\",\"#462F7C\",\"#46307D\",\"#46317E\",\"#45327F\",\"#45347F\",\"#453580\",\"#453681\",\"#443781\",\"#443982\",\"#433A83\",\"#433B83\",\"#433C84\",\"#423D84\",\"#423E85\",\"#424085\",\"#414186\",\"#414286\",\"#404387\",\"#404487\",\"#3F4587\",\"#3F4788\",\"#3E4888\",\"#3E4989\",\"#3D4A89\",\"#3D4B89\",\"#3D4C89\",\"#3C4D8A\",\"#3C4E8A\",\"#3B508A\",\"#3B518A\",\"#3A528B\",\"#3A538B\",\"#39548B\",\"#39558B\",\"#38568B\",\"#38578C\",\"#37588C\",\"#37598C\",\"#365A8C\",\"#365B8C\",\"#355C8C\",\"#355D8C\",\"#345E8D\",\"#345F8D\",\"#33608D\",\"#33618D\",\"#32628D\",\"#32638D\",\"#31648D\",\"#31658D\",\"#31668D\",\"#30678D\",\"#30688D\",\"#2F698D\",\"#2F6A8D\",\"#2E6B8E\",\"#2E6C8E\",\"#2E6D8E\",\"#2D6E8E\",\"#2D6F8E\",\"#2C708E\",\"#2C718E\",\"#2C728E\",\"#2B738E\",\"#2B748E\",\"#2A758E\",\"#2A768E\",\"#2A778E\",\"#29788E\",\"#29798E\",\"#287A8E\",\"#287A8E\",\"#287B8E\",\"#277C8E\",\"#277D8E\",\"#277E8E\",\"#267F8E\",\"#26808E\",\"#26818E\",\"#25828E\",\"#25838D\",\"#24848D\",\"#24858D\",\"#24868D\",\"#23878D\",\"#23888D\",\"#23898D\",\"#22898D\",\"#228A8D\",\"#228B8D\",\"#218C8D\",\"#218D8C\",\"#218E8C\",\"#208F8C\",\"#20908C\",\"#20918C\",\"#1F928C\",\"#1F938B\",\"#1F948B\",\"#1F958B\",\"#1F968B\",\"#1E978A\",\"#1E988A\",\"#1E998A\",\"#1E998A\",\"#1E9A89\",\"#1E9B89\",\"#1E9C89\",\"#1E9D88\",\"#1E9E88\",\"#1E9F88\",\"#1EA087\",\"#1FA187\",\"#1FA286\",\"#1FA386\",\"#20A485\",\"#20A585\",\"#21A685\",\"#21A784\",\"#22A784\",\"#23A883\",\"#23A982\",\"#24AA82\",\"#25AB81\",\"#26AC81\",\"#27AD80\",\"#28AE7F\",\"#29AF7F\",\"#2AB07E\",\"#2BB17D\",\"#2CB17D\",\"#2EB27C\",\"#2FB37B\",\"#30B47A\",\"#32B57A\",\"#33B679\",\"#35B778\",\"#36B877\",\"#38B976\",\"#39B976\",\"#3BBA75\",\"#3DBB74\",\"#3EBC73\",\"#40BD72\",\"#42BE71\",\"#44BE70\",\"#45BF6F\",\"#47C06E\",\"#49C16D\",\"#4BC26C\",\"#4DC26B\",\"#4FC369\",\"#51C468\",\"#53C567\",\"#55C666\",\"#57C665\",\"#59C764\",\"#5BC862\",\"#5EC961\",\"#60C960\",\"#62CA5F\",\"#64CB5D\",\"#67CC5C\",\"#69CC5B\",\"#6BCD59\",\"#6DCE58\",\"#70CE56\",\"#72CF55\",\"#74D054\",\"#77D052\",\"#79D151\",\"#7CD24F\",\"#7ED24E\",\"#81D34C\",\"#83D34B\",\"#86D449\",\"#88D547\",\"#8BD546\",\"#8DD644\",\"#90D643\",\"#92D741\",\"#95D73F\",\"#97D83E\",\"#9AD83C\",\"#9DD93A\",\"#9FD938\",\"#A2DA37\",\"#A5DA35\",\"#A7DB33\",\"#AADB32\",\"#ADDC30\",\"#AFDC2E\",\"#B2DD2C\",\"#B5DD2B\",\"#B7DD29\",\"#BADE27\",\"#BDDE26\",\"#BFDF24\",\"#C2DF22\",\"#C5DF21\",\"#C7E01F\",\"#CAE01E\",\"#CDE01D\",\"#CFE11C\",\"#D2E11B\",\"#D4E11A\",\"#D7E219\",\"#DAE218\",\"#DCE218\",\"#DFE318\",\"#E1E318\",\"#E4E318\",\"#E7E419\",\"#E9E419\",\"#ECE41A\",\"#EEE51B\",\"#F1E51C\",\"#F3E51E\",\"#F6E61F\",\"#F8E621\",\"#FAE622\",\"#FDE724\"]]]}}},\"view\":{\"type\":\"object\",\"name\":\"CDSView\",\"id\":\"8aec4994-1ba4-409b-9468-bcdea2ada6e8\",\"attributes\":{\"filter\":{\"type\":\"object\",\"name\":\"AllIndices\",\"id\":\"208bbd8f-26fb-45e8-99f1-e15dee82a6ac\"}}},\"glyph\":{\"type\":\"object\",\"name\":\"Quad\",\"id\":\"b9ec104d-d113-492a-97cb-dcc092039e3c\",\"attributes\":{\"left\":{\"type\":\"field\",\"field\":\"left\"},\"right\":{\"type\":\"field\",\"field\":\"right\"},\"bottom\":{\"type\":\"value\",\"value\":0},\"top\":{\"type\":\"field\",\"field\":\"top\"},\"line_color\":{\"type\":\"value\",\"value\":\"white\"},\"line_alpha\":{\"type\":\"value\",\"value\":0.5},\"fill_color\":{\"type\":\"field\",\"field\":\"fill_color\"},\"fill_alpha\":{\"type\":\"value\",\"value\":0.5},\"hatch_alpha\":{\"type\":\"value\",\"value\":0.5}}},\"nonselection_glyph\":{\"type\":\"object\",\"name\":\"Quad\",\"id\":\"49817a50-fba7-4b70-ba83-12ce6346ac7f\",\"attributes\":{\"left\":{\"type\":\"field\",\"field\":\"left\"},\"right\":{\"type\":\"field\",\"field\":\"right\"},\"bottom\":{\"type\":\"value\",\"value\":0},\"top\":{\"type\":\"field\",\"field\":\"top\"},\"line_color\":{\"type\":\"value\",\"value\":\"white\"},\"line_alpha\":{\"type\":\"value\",\"value\":0.1},\"fill_color\":{\"type\":\"field\",\"field\":\"fill_color\"},\"fill_alpha\":{\"type\":\"value\",\"value\":0.1},\"hatch_alpha\":{\"type\":\"value\",\"value\":0.1}}},\"muted_glyph\":{\"type\":\"object\",\"name\":\"Quad\",\"id\":\"de6e1ae5-3a4d-4446-9086-ce4553b58d34\",\"attributes\":{\"left\":{\"type\":\"field\",\"field\":\"left\"},\"right\":{\"type\":\"field\",\"field\":\"right\"},\"bottom\":{\"type\":\"value\",\"value\":0},\"top\":{\"type\":\"field\",\"field\":\"top\"},\"line_color\":{\"type\":\"value\",\"value\":\"white\"},\"line_alpha\":{\"type\":\"value\",\"value\":0.2},\"fill_color\":{\"type\":\"field\",\"field\":\"fill_color\"},\"fill_alpha\":{\"type\":\"value\",\"value\":0.2},\"hatch_alpha\":{\"type\":\"value\",\"value\":0.2}}}}}],\"toolbar\":{\"type\":\"object\",\"name\":\"Toolbar\",\"id\":\"1e8254d3-d6a2-46f6-9a33-9a1d3b0ce641\"},\"toolbar_location\":null,\"left\":[{\"type\":\"object\",\"name\":\"LinearAxis\",\"id\":\"8b8e8a77-4964-4727-9780-33fa511683fd\",\"attributes\":{\"ticker\":{\"type\":\"object\",\"name\":\"BasicTicker\",\"id\":\"5c02b560-9efb-42ba-bb0b-4578341c651f\",\"attributes\":{\"mantissas\":[1,2,5]}},\"formatter\":{\"type\":\"object\",\"name\":\"BasicTickFormatter\",\"id\":\"d22dee89-7064-44f5-bd85-950f56b4bbe8\"},\"axis_label\":\"Count\",\"axis_label_text_font_size\":\"14pt\",\"major_label_policy\":{\"type\":\"object\",\"name\":\"AllLabels\",\"id\":\"991c9372-5448-4690-a2f5-56f3cc5b786f\"}}}],\"below\":[{\"type\":\"object\",\"name\":\"LinearAxis\",\"id\":\"02bfc83f-8c72-429d-a824-5d75fa32b52f\",\"attributes\":{\"ticker\":{\"type\":\"object\",\"name\":\"BasicTicker\",\"id\":\"b27fca6d-68b6-44bf-9739-9540110651f7\",\"attributes\":{\"mantissas\":[1,2,5]}},\"formatter\":{\"type\":\"object\",\"name\":\"BasicTickFormatter\",\"id\":\"503e54dd-d596-41e5-bf62-d684b4c5c9b4\"},\"axis_label\":\"Value\",\"axis_label_text_font_size\":\"14pt\",\"major_label_policy\":{\"type\":\"object\",\"name\":\"AllLabels\",\"id\":\"3b536a6d-078b-4d8f-9e19-d14dd917fcba\"}}}],\"center\":[{\"type\":\"object\",\"name\":\"Grid\",\"id\":\"55e40986-b240-4588-a5cf-dbfbb5ded359\",\"attributes\":{\"axis\":{\"id\":\"02bfc83f-8c72-429d-a824-5d75fa32b52f\"},\"grid_line_color\":\"white\"}},{\"type\":\"object\",\"name\":\"Grid\",\"id\":\"61b88947-bbf9-46b3-8ad4-1b1b5980b186\",\"attributes\":{\"dimension\":1,\"axis\":{\"id\":\"8b8e8a77-4964-4727-9780-33fa511683fd\"},\"grid_line_color\":\"white\"}}],\"background_fill_color\":\"#fafafa\"}},1,3]]}}],\"defs\":[{\"type\":\"model\",\"name\":\"ReactiveHTML1\"},{\"type\":\"model\",\"name\":\"FlexBox1\",\"properties\":[{\"name\":\"align_content\",\"kind\":\"Any\",\"default\":\"flex-start\"},{\"name\":\"align_items\",\"kind\":\"Any\",\"default\":\"flex-start\"},{\"name\":\"flex_direction\",\"kind\":\"Any\",\"default\":\"row\"},{\"name\":\"flex_wrap\",\"kind\":\"Any\",\"default\":\"wrap\"},{\"name\":\"gap\",\"kind\":\"Any\",\"default\":\"\"},{\"name\":\"justify_content\",\"kind\":\"Any\",\"default\":\"flex-start\"}]},{\"type\":\"model\",\"name\":\"FloatPanel1\",\"properties\":[{\"name\":\"config\",\"kind\":\"Any\",\"default\":{\"type\":\"map\"}},{\"name\":\"contained\",\"kind\":\"Any\",\"default\":true},{\"name\":\"position\",\"kind\":\"Any\",\"default\":\"right-top\"},{\"name\":\"offsetx\",\"kind\":\"Any\",\"default\":null},{\"name\":\"offsety\",\"kind\":\"Any\",\"default\":null},{\"name\":\"theme\",\"kind\":\"Any\",\"default\":\"primary\"},{\"name\":\"status\",\"kind\":\"Any\",\"default\":\"normalized\"}]},{\"type\":\"model\",\"name\":\"GridStack1\",\"properties\":[{\"name\":\"mode\",\"kind\":\"Any\",\"default\":\"warn\"},{\"name\":\"ncols\",\"kind\":\"Any\",\"default\":null},{\"name\":\"nrows\",\"kind\":\"Any\",\"default\":null},{\"name\":\"allow_resize\",\"kind\":\"Any\",\"default\":true},{\"name\":\"allow_drag\",\"kind\":\"Any\",\"default\":true},{\"name\":\"state\",\"kind\":\"Any\",\"default\":[]}]},{\"type\":\"model\",\"name\":\"drag1\",\"properties\":[{\"name\":\"slider_width\",\"kind\":\"Any\",\"default\":5},{\"name\":\"slider_color\",\"kind\":\"Any\",\"default\":\"black\"},{\"name\":\"value\",\"kind\":\"Any\",\"default\":50}]},{\"type\":\"model\",\"name\":\"click1\",\"properties\":[{\"name\":\"terminal_output\",\"kind\":\"Any\",\"default\":\"\"},{\"name\":\"debug_name\",\"kind\":\"Any\",\"default\":\"\"},{\"name\":\"clears\",\"kind\":\"Any\",\"default\":0}]},{\"type\":\"model\",\"name\":\"FastWrapper1\",\"properties\":[{\"name\":\"object\",\"kind\":\"Any\",\"default\":null},{\"name\":\"style\",\"kind\":\"Any\",\"default\":null}]},{\"type\":\"model\",\"name\":\"NotificationAreaBase1\",\"properties\":[{\"name\":\"js_events\",\"kind\":\"Any\",\"default\":{\"type\":\"map\"}},{\"name\":\"position\",\"kind\":\"Any\",\"default\":\"bottom-right\"},{\"name\":\"_clear\",\"kind\":\"Any\",\"default\":0}]},{\"type\":\"model\",\"name\":\"NotificationArea1\",\"properties\":[{\"name\":\"js_events\",\"kind\":\"Any\",\"default\":{\"type\":\"map\"}},{\"name\":\"notifications\",\"kind\":\"Any\",\"default\":[]},{\"name\":\"position\",\"kind\":\"Any\",\"default\":\"bottom-right\"},{\"name\":\"_clear\",\"kind\":\"Any\",\"default\":0},{\"name\":\"types\",\"kind\":\"Any\",\"default\":[{\"type\":\"map\",\"entries\":[[\"type\",\"warning\"],[\"background\",\"#ffc107\"],[\"icon\",{\"type\":\"map\",\"entries\":[[\"className\",\"fas fa-exclamation-triangle\"],[\"tagName\",\"i\"],[\"color\",\"white\"]]}]]},{\"type\":\"map\",\"entries\":[[\"type\",\"info\"],[\"background\",\"#007bff\"],[\"icon\",{\"type\":\"map\",\"entries\":[[\"className\",\"fas fa-info-circle\"],[\"tagName\",\"i\"],[\"color\",\"white\"]]}]]}]}]},{\"type\":\"model\",\"name\":\"Notification\",\"properties\":[{\"name\":\"background\",\"kind\":\"Any\",\"default\":null},{\"name\":\"duration\",\"kind\":\"Any\",\"default\":3000},{\"name\":\"icon\",\"kind\":\"Any\",\"default\":null},{\"name\":\"message\",\"kind\":\"Any\",\"default\":\"\"},{\"name\":\"notification_type\",\"kind\":\"Any\",\"default\":null},{\"name\":\"_destroyed\",\"kind\":\"Any\",\"default\":false}]},{\"type\":\"model\",\"name\":\"TemplateActions1\",\"properties\":[{\"name\":\"open_modal\",\"kind\":\"Any\",\"default\":0},{\"name\":\"close_modal\",\"kind\":\"Any\",\"default\":0}]},{\"type\":\"model\",\"name\":\"BootstrapTemplateActions1\",\"properties\":[{\"name\":\"open_modal\",\"kind\":\"Any\",\"default\":0},{\"name\":\"close_modal\",\"kind\":\"Any\",\"default\":0}]},{\"type\":\"model\",\"name\":\"TemplateEditor1\",\"properties\":[{\"name\":\"layout\",\"kind\":\"Any\",\"default\":[]}]},{\"type\":\"model\",\"name\":\"MaterialTemplateActions1\",\"properties\":[{\"name\":\"open_modal\",\"kind\":\"Any\",\"default\":0},{\"name\":\"close_modal\",\"kind\":\"Any\",\"default\":0}]},{\"type\":\"model\",\"name\":\"copy_to_clipboard1\",\"properties\":[{\"name\":\"fill\",\"kind\":\"Any\",\"default\":\"none\"},{\"name\":\"value\",\"kind\":\"Any\",\"default\":null}]}]}};\n  const render_items = [{\"docid\":\"da546d40-16ec-4adc-a36f-beb441ef9a23\",\"roots\":{\"f7465950-07e8-4bc2-ba8d-57570644115f\":\"e3935124-804a-41e4-953e-261687644e73\"},\"root_ids\":[\"f7465950-07e8-4bc2-ba8d-57570644115f\"]}];\n  void root.Bokeh.embed.embed_items_notebook(docs_json, render_items);\n  }\n  if (root.Bokeh !== undefined) {\n    embed_document(root);\n  } else {\n    let attempts = 0;\n    const timer = setInterval(function(root) {\n      if (root.Bokeh !== undefined) {\n        clearInterval(timer);\n        embed_document(root);\n      } else {\n        attempts++;\n        if (attempts > 100) {\n          clearInterval(timer);\n          console.log(\"Bokeh: ERROR: Unable to run BokehJS code because BokehJS library is missing\");\n        }\n      }\n    }, 10, root)\n  }\n})(window);",
            "application/vnd.bokehjs_exec.v0+json": ""
          },
          "metadata": {
            "application/vnd.bokehjs_exec.v0+json": {
              "id": "f7465950-07e8-4bc2-ba8d-57570644115f"
            }
          },
          "output_type": "display_data"
        }
      ],
      "source": [
        "# Define the function to create the plot\n",
        "def make_plot(title, hist, edges):\n",
        "    \"\"\"\n",
        "    This function plots the histogram based on numpy array\n",
        "\n",
        "    Args:\n",
        "        title (str): title\n",
        "        hist (array): The values of the histogram.\n",
        "        edges (array): the bin edges ``(length(hist)+1)``\n",
        "\n",
        "    Returns:\n",
        "        p: a figure object\n",
        "    \"\"\"\n",
        "    p = figure(title=title, tools='', background_fill_color=\"#fafafa\", width=300, height=300)\n",
        "    p.quad(top=hist, bottom=0, left=edges[:-1], right=edges[1:],\n",
        "           fill_color=Viridis256, line_color=\"white\", alpha=0.5)\n",
        "    p.y_range.start = 0\n",
        "    p.xaxis.axis_label = 'Value'\n",
        "    p.yaxis.axis_label = 'Count'\n",
        "    p.xaxis.axis_label_text_font_size = \"14pt\"\n",
        "    p.yaxis.axis_label_text_font_size = \"14pt\"\n",
        "    p.title.text_font_size = '16pt'\n",
        "    p.grid.grid_line_color=\"white\"\n",
        "    return p\n",
        "\n",
        "# Distribution\n",
        "g = []\n",
        "for i in range(len(df_patients.columns)):\n",
        "    hist, edges = np.histogram(df_patients[df_patients.columns[i]], bins=40,)\n",
        "    p = make_plot(f\" {df_patients.columns[i]}\", hist, edges)\n",
        "    g.append(p)\n",
        "\n",
        "# Show the plots\n",
        "show(gridplot(g, ncols=4, toolbar_location=None)) \n"
      ]
    },
    {
      "cell_type": "code",
      "execution_count": 49,
      "metadata": {},
      "outputs": [
        {
          "name": "stdout",
          "output_type": "stream",
          "text": [
            "---------------------------------------- death\n",
            "death\n",
            "dead       228\n",
            "living    1105\n",
            "Name: count, dtype: int64\n",
            "---------------------------------------- death_time\n",
            "death_time\n",
            "1      67\n",
            "2      26\n",
            "3      12\n",
            "4      21\n",
            "5      11\n",
            "       ..\n",
            "117     3\n",
            "118     1\n",
            "119     1\n",
            "120     6\n",
            "121     1\n",
            "Name: count, Length: 121, dtype: int64\n",
            "---------------------------------------- age\n",
            "age\n",
            "over 60     1099\n",
            "under 60     234\n",
            "Name: count, dtype: int64\n",
            "---------------------------------------- overweight\n",
            "overweight\n",
            "fit      720\n",
            "Obese    613\n",
            "Name: count, dtype: int64\n"
          ]
        }
      ],
      "source": [
        "df_patients_plot = make_data_ready_to_plot()\n",
        "print('-'*40, \"death\")\n",
        "print(df_patients_plot[\"death\"].value_counts().sort_index())\n",
        "print('-'*40, \"death_time\")\n",
        "print(df_patients_plot[\"death_time\"].value_counts().sort_index())\n",
        "print('-'*40, \"age\")\n",
        "print(df_patients_plot[\"age\"].value_counts())\n",
        "print('-'*40, \"overweight\")\n",
        "print(df_patients_plot[\"overweight\"].value_counts())\n"
      ]
    },
    {
      "cell_type": "code",
      "execution_count": 50,
      "metadata": {},
      "outputs": [
        {
          "name": "stdout",
          "output_type": "stream",
          "text": [
            "---------------------------------------- dialysis_time\n",
            "dialysis_time\n",
            "less than 24 months    753\n",
            "more than 24 months    580\n",
            "Name: count, dtype: int64\n",
            "---------------------------------------- dialysis_type\n",
            "dialysis_type\n",
            "1    1220\n",
            "2      81\n",
            "0      32\n",
            "Name: count, dtype: int64\n",
            "---------------------------------------- smoking\n",
            "smoking\n",
            "no     936\n",
            "yes    397\n",
            "Name: count, dtype: int64\n",
            "---------------------------------------- diabetes\n",
            "diabetes\n",
            "non-diabetic    878\n",
            "diabetic        455\n",
            "Name: count, dtype: int64\n"
          ]
        }
      ],
      "source": [
        "print('-'*40, \"dialysis_time\")\n",
        "print(df_patients_plot[\"dialysis_time\"].value_counts())\n",
        "print('-'*40, \"dialysis_type\")\n",
        "print(df_patients_plot[\"dialysis_type\"].value_counts())\n",
        "print('-'*40, \"smoking\")\n",
        "print(df_patients_plot[\"smoking\"].value_counts())\n",
        "print('-'*40, \"diabetes\")\n",
        "print(df_patients_plot[\"diabetes\"].value_counts())"
      ]
    },
    {
      "attachments": {},
      "cell_type": "markdown",
      "metadata": {},
      "source": [
        "<span style=\"color:pink\">Explanation: </span> \n",
        "The count of each parameter is shown in the plots individually. \n",
        "The histogram of death time indicates that the majority of people are dead in the first month of study. "
      ]
    },
    {
      "attachments": {},
      "cell_type": "markdown",
      "metadata": {},
      "source": [
        "---"
      ]
    },
    {
      "attachments": {},
      "cell_type": "markdown",
      "metadata": {},
      "source": [
        "Comparison plot of distribution of diebetic and non-diabetic patients over death time after transplantation."
      ]
    },
    {
      "cell_type": "code",
      "execution_count": 51,
      "metadata": {},
      "outputs": [
        {
          "data": {
            "text/html": [
              "\n",
              "  <div id=\"d175a616-f03c-41bf-94ed-b1b710fdc6a1\" data-root-id=\"effe0eb3-bfd9-4813-829e-733083c47f1f\" style=\"display: contents;\"></div>\n"
            ]
          },
          "metadata": {},
          "output_type": "display_data"
        },
        {
          "data": {
            "application/javascript": "(function(root) {\n  function embed_document(root) {\n  const docs_json = {\"b5ec9879-8175-4333-82ee-32fd05357248\":{\"version\":\"3.4.1\",\"title\":\"Bokeh Application\",\"roots\":[{\"type\":\"object\",\"name\":\"Figure\",\"id\":\"effe0eb3-bfd9-4813-829e-733083c47f1f\",\"attributes\":{\"x_range\":{\"type\":\"object\",\"name\":\"DataRange1d\",\"id\":\"c0f82093-2457-492b-a739-27ec4bae70f8\"},\"y_range\":{\"type\":\"object\",\"name\":\"DataRange1d\",\"id\":\"670c298b-7486-4413-b68e-703e33d4cd06\",\"attributes\":{\"start\":0}},\"x_scale\":{\"type\":\"object\",\"name\":\"LinearScale\",\"id\":\"6132e293-94d1-43c1-92c5-e4303eee22ab\"},\"y_scale\":{\"type\":\"object\",\"name\":\"LinearScale\",\"id\":\"2d32af71-118a-4d13-af21-b61dfe2d4e30\"},\"title\":{\"type\":\"object\",\"name\":\"Title\",\"id\":\"bf7fc06f-51e9-43d8-9477-3bb693440c7b\",\"attributes\":{\"text\":\"Distribution of death time based on diabetes\"}},\"renderers\":[{\"type\":\"object\",\"name\":\"GlyphRenderer\",\"id\":\"92af125d-a29b-474d-8929-fa894a9bf42d\",\"attributes\":{\"data_source\":{\"type\":\"object\",\"name\":\"ColumnDataSource\",\"id\":\"513409ef-c006-41e3-a0cc-b2d29d3326c0\",\"attributes\":{\"selected\":{\"type\":\"object\",\"name\":\"Selection\",\"id\":\"8fa0cf7e-e05f-457d-980c-fe087f595e05\",\"attributes\":{\"indices\":[],\"line_indices\":[]}},\"selection_policy\":{\"type\":\"object\",\"name\":\"UnionRenderers\",\"id\":\"47508409-6a6c-4526-abbf-f5aa0102d666\"},\"data\":{\"type\":\"map\",\"entries\":[[\"top\",{\"type\":\"ndarray\",\"array\":{\"type\":\"bytes\",\"data\":\"FDuxEzuxoz8cwiEcwiGMPxIO4RAO4ZA/EizBEizBcj8USqEUSqGEPxpogRZogYY/EWiBFmiBZj8j4AEe4AF+PxpogRZogYY/FcIhHMIhjD8hwiEcwiGMPxQO4RAO4YA/B3dxF3dxlz8hwiEcwiGMPxhKoRRKoYQ/I+ABHuABfj8UDuEQDuGAPyPgAR7gAX4/CuABHuABbj8epEEapEF6PyPgAR7gAY4/GEqhFEqhhD8l/uEf/uGPPyPgAR7gAW4/CaRBGqRBej8j4AEe4AGOPxhKoRRKoYQ/CaRBGqRBej8lLMESLMGCPwrgAR7gAX4/KkqhFEqhhD8HLMESLMFyPwrgAR7gAX4/LWiBFmiBdj8K4AEe4AFePzzgAR7gAW4/CGiBFmiBZj8HLMESLMFyPzzgAR7gAU4/ByzBEizBcj81pEEapEF6PwmkQRqkQXo/Bg7hEA7hgD8taIEWaIFmPwhogRZogWY/NaRBGqRBej8K4AEe4AFePzzgAR7gAV4/CGiBFmiBZj8IaIEWaIFmPw==\"},\"shape\":[50],\"dtype\":\"float64\",\"order\":\"little\"}],[\"left\",{\"type\":\"ndarray\",\"array\":{\"type\":\"bytes\",\"data\":\"AAAAAAAA8D8zMzMzMzMLQDMzMzMzMxdAZmZmZmZmIEAzMzMzMzMlQAAAAAAAACpAzMzMzMzMLkDNzMzMzMwxQDMzMzMzMzRAmZmZmZmZNkAAAAAAAAA5QGZmZmZmZjtAzMzMzMzMPUCamZmZmRlAQM3MzMzMTEFAAAAAAACAQkAzMzMzM7NDQGZmZmZm5kRAmZmZmZkZRkDNzMzMzExHQAAAAAAAgEhAMzMzMzOzSUBmZmZmZuZKQJmZmZmZGUxAzMzMzMxMTUAAAAAAAIBOQDMzMzMzs09AMzMzMzNzUEDNzMzMzAxRQGZmZmZmplFAAAAAAABAUkCZmZmZmdlSQDMzMzMzc1NAzczMzMwMVEBmZmZmZqZUQAAAAAAAQFVAmZmZmZnZVUAzMzMzM3NWQM3MzMzMDFdAZmZmZmamV0AAAAAAAEBYQJmZmZmZ2VhAMzMzMzNzWUDNzMzMzAxaQGZmZmZmplpAAAAAAABAW0CZmZmZmdlbQDMzMzMzc1xAzMzMzMwMXUBmZmZmZqZdQA==\"},\"shape\":[50],\"dtype\":\"float64\",\"order\":\"little\"}],[\"right\",{\"type\":\"ndarray\",\"array\":{\"type\":\"bytes\",\"data\":\"MzMzMzMzC0AzMzMzMzMXQGZmZmZmZiBAMzMzMzMzJUAAAAAAAAAqQMzMzMzMzC5AzczMzMzMMUAzMzMzMzM0QJmZmZmZmTZAAAAAAAAAOUBmZmZmZmY7QMzMzMzMzD1AmpmZmZkZQEDNzMzMzExBQAAAAAAAgEJAMzMzMzOzQ0BmZmZmZuZEQJmZmZmZGUZAzczMzMxMR0AAAAAAAIBIQDMzMzMzs0lAZmZmZmbmSkCZmZmZmRlMQMzMzMzMTE1AAAAAAACATkAzMzMzM7NPQDMzMzMzc1BAzczMzMwMUUBmZmZmZqZRQAAAAAAAQFJAmZmZmZnZUkAzMzMzM3NTQM3MzMzMDFRAZmZmZmamVEAAAAAAAEBVQJmZmZmZ2VVAMzMzMzNzVkDNzMzMzAxXQGZmZmZmpldAAAAAAABAWECZmZmZmdlYQDMzMzMzc1lAzczMzMwMWkBmZmZmZqZaQAAAAAAAQFtAmZmZmZnZW0AzMzMzM3NcQMzMzMzMDF1AZmZmZmamXUAAAAAAAEBeQA==\"},\"shape\":[50],\"dtype\":\"float64\",\"order\":\"little\"}]]}}},\"view\":{\"type\":\"object\",\"name\":\"CDSView\",\"id\":\"29c754be-d6ba-4852-9c8f-1bdc836d0f2d\",\"attributes\":{\"filter\":{\"type\":\"object\",\"name\":\"AllIndices\",\"id\":\"0af4ba2a-c95a-47e9-9a11-da46f9342f1f\"}}},\"glyph\":{\"type\":\"object\",\"name\":\"Quad\",\"id\":\"e5775c15-4914-4796-afdb-81b2f9d7b04c\",\"attributes\":{\"left\":{\"type\":\"field\",\"field\":\"left\"},\"right\":{\"type\":\"field\",\"field\":\"right\"},\"bottom\":{\"type\":\"value\",\"value\":0},\"top\":{\"type\":\"field\",\"field\":\"top\"},\"line_color\":{\"type\":\"value\",\"value\":\"white\"},\"line_alpha\":{\"type\":\"value\",\"value\":0.5},\"fill_color\":{\"type\":\"value\",\"value\":\"red\"},\"fill_alpha\":{\"type\":\"value\",\"value\":0.5},\"hatch_alpha\":{\"type\":\"value\",\"value\":0.5}}},\"nonselection_glyph\":{\"type\":\"object\",\"name\":\"Quad\",\"id\":\"dee36789-842d-4fac-95de-73e6461da17e\",\"attributes\":{\"left\":{\"type\":\"field\",\"field\":\"left\"},\"right\":{\"type\":\"field\",\"field\":\"right\"},\"bottom\":{\"type\":\"value\",\"value\":0},\"top\":{\"type\":\"field\",\"field\":\"top\"},\"line_color\":{\"type\":\"value\",\"value\":\"white\"},\"line_alpha\":{\"type\":\"value\",\"value\":0.1},\"fill_color\":{\"type\":\"value\",\"value\":\"red\"},\"fill_alpha\":{\"type\":\"value\",\"value\":0.1},\"hatch_alpha\":{\"type\":\"value\",\"value\":0.1}}},\"muted_glyph\":{\"type\":\"object\",\"name\":\"Quad\",\"id\":\"74eea019-8545-4a3f-af7c-4e7570d7f684\",\"attributes\":{\"left\":{\"type\":\"field\",\"field\":\"left\"},\"right\":{\"type\":\"field\",\"field\":\"right\"},\"bottom\":{\"type\":\"value\",\"value\":0},\"top\":{\"type\":\"field\",\"field\":\"top\"},\"line_color\":{\"type\":\"value\",\"value\":\"white\"},\"line_alpha\":{\"type\":\"value\",\"value\":0.2},\"fill_color\":{\"type\":\"value\",\"value\":\"red\"},\"fill_alpha\":{\"type\":\"value\",\"value\":0.2},\"hatch_alpha\":{\"type\":\"value\",\"value\":0.2}}}}},{\"type\":\"object\",\"name\":\"GlyphRenderer\",\"id\":\"432f628f-e924-46cb-a47f-8b8c63d2cb29\",\"attributes\":{\"data_source\":{\"type\":\"object\",\"name\":\"ColumnDataSource\",\"id\":\"b0c59b87-f876-4a7d-8131-1a5a69748e36\",\"attributes\":{\"selected\":{\"type\":\"object\",\"name\":\"Selection\",\"id\":\"00df15ad-552a-41e4-9c13-68d0c7326537\",\"attributes\":{\"indices\":[],\"line_indices\":[]}},\"selection_policy\":{\"type\":\"object\",\"name\":\"UnionRenderers\",\"id\":\"1f670c33-2ddc-456b-bc85-b5fa913d40e7\"},\"data\":{\"type\":\"map\",\"entries\":[[\"top\",{\"type\":\"ndarray\",\"array\":{\"type\":\"bytes\",\"data\":\"GmPxRU/fnj+gfhA6R6mAPw9C9oPflIQ/YXZV4F17iT9/74lMLaSBP805Oyr2Zo0/8MjBFxBsjD+LGy5PwlyPP9M5Oyr2Zn0/NMbTMNQrkD8txtMw1CuQP1tgA18Tn4I/on4QOkepgD8KQvaD35SUP/SnxlWgIZI/d++JTC2kkT8v0Xxx+ZmDP9Yj6airioY/wiPpqKuKhj+YGy5Pwlx/P5+UYruRhYc/57JvlsWPlT9jYANfE5+CP3fviUwtpJE/57JvlsWPhT/fOTsq9mZ9PxxC9oPflIQ/H9F8cfmZcz9A0Xxx+ZlzP5gbLk/CXG8/aO+JTC2kcT+G74lMLaSBP5gbLk/CXG8/1LJvlsWPdT+ylGK7kYV3P7KUYruRhWc/H9F8cfmZYz+YGy5PwlxfP5gbLk/CXF8/QNF8cfmZYz+LlGK7kYVXP5gbLk/CXF8/QNF8cfmZYz9kGy5Pwlw/P0DRfHH5mWM/spRiu5GFVz+LlGK7kYVnP7KUYruRhVc/mBsuT8JcTz8f0Xxx+ZljPw==\"},\"shape\":[50],\"dtype\":\"float64\",\"order\":\"little\"}],[\"left\",{\"type\":\"ndarray\",\"array\":{\"type\":\"bytes\",\"data\":\"AAAAAAAA8D8K16NwPQoLQArXo3A9ChdASOF6FK5HIEAK16NwPQolQMzMzMzMzClAj8L1KFyPLkApXI/C9agxQArXo3A9CjRA61G4HoVrNkDMzMzMzMw4QK5H4XoULjtAj8L1KFyPPUBwPQrXo/A/QClcj8L1KEFAmZmZmZlZQkAK16NwPYpDQHsUrkfhukRA61G4HoXrRUBcj8L1KBxHQMzMzMzMTEhAPQrXo3B9SUCuR+F6FK5KQB6F61G43ktAj8L1KFwPTUAAAAAAAEBOQHA9CtejcE9AcD0K16NQUEApXI/C9ehQQOF6FK5HgVFAmZmZmZkZUkBSuB6F67FSQArXo3A9SlNAwvUoXI/iU0B7FK5H4XpUQDMzMzMzE1VA61G4HoWrVUCkcD0K10NWQFyPwvUo3FZAFK5H4Xp0V0DMzMzMzAxYQIXrUbgepVhAPQrXo3A9WUD1KFyPwtVZQK5H4XoUblpAZmZmZmYGW0AehetRuJ5bQNejcD0KN1xAj8L1KFzPXEBH4XoUrmddQA==\"},\"shape\":[50],\"dtype\":\"float64\",\"order\":\"little\"}],[\"right\",{\"type\":\"ndarray\",\"array\":{\"type\":\"bytes\",\"data\":\"CtejcD0KC0AK16NwPQoXQEjhehSuRyBACtejcD0KJUDMzMzMzMwpQI/C9Shcjy5AKVyPwvWoMUAK16NwPQo0QOtRuB6FazZAzMzMzMzMOECuR+F6FC47QI/C9Shcjz1AcD0K16PwP0ApXI/C9ShBQJmZmZmZWUJACtejcD2KQ0B7FK5H4bpEQOtRuB6F60VAXI/C9SgcR0DMzMzMzExIQD0K16NwfUlArkfhehSuSkAehetRuN5LQI/C9ShcD01AAAAAAABATkBwPQrXo3BPQHA9CtejUFBAKVyPwvXoUEDhehSuR4FRQJmZmZmZGVJAUrgeheuxUkAK16NwPUpTQML1KFyP4lNAexSuR+F6VEAzMzMzMxNVQOtRuB6Fq1VApHA9CtdDVkBcj8L1KNxWQBSuR+F6dFdAzMzMzMwMWECF61G4HqVYQD0K16NwPVlA9Shcj8LVWUCuR+F6FG5aQGZmZmZmBltAHoXrUbieW0DXo3A9CjdcQI/C9Shcz1xAR+F6FK5nXUAAAAAAAABeQA==\"},\"shape\":[50],\"dtype\":\"float64\",\"order\":\"little\"}]]}}},\"view\":{\"type\":\"object\",\"name\":\"CDSView\",\"id\":\"1d4283c1-4ff0-4111-bfa7-b2f288ac1b29\",\"attributes\":{\"filter\":{\"type\":\"object\",\"name\":\"AllIndices\",\"id\":\"6406bdbb-731d-40fc-8a23-51e4ddaa758b\"}}},\"glyph\":{\"type\":\"object\",\"name\":\"Quad\",\"id\":\"af054b23-0b87-48a8-b080-6806cbc75044\",\"attributes\":{\"left\":{\"type\":\"field\",\"field\":\"left\"},\"right\":{\"type\":\"field\",\"field\":\"right\"},\"bottom\":{\"type\":\"value\",\"value\":0},\"top\":{\"type\":\"field\",\"field\":\"top\"},\"line_color\":{\"type\":\"value\",\"value\":\"white\"},\"line_alpha\":{\"type\":\"value\",\"value\":0.5},\"fill_color\":{\"type\":\"value\",\"value\":\"green\"},\"fill_alpha\":{\"type\":\"value\",\"value\":0.5},\"hatch_alpha\":{\"type\":\"value\",\"value\":0.5}}},\"nonselection_glyph\":{\"type\":\"object\",\"name\":\"Quad\",\"id\":\"871129c6-1303-4abb-a521-dd3db9a174f2\",\"attributes\":{\"left\":{\"type\":\"field\",\"field\":\"left\"},\"right\":{\"type\":\"field\",\"field\":\"right\"},\"bottom\":{\"type\":\"value\",\"value\":0},\"top\":{\"type\":\"field\",\"field\":\"top\"},\"line_color\":{\"type\":\"value\",\"value\":\"white\"},\"line_alpha\":{\"type\":\"value\",\"value\":0.1},\"fill_color\":{\"type\":\"value\",\"value\":\"green\"},\"fill_alpha\":{\"type\":\"value\",\"value\":0.1},\"hatch_alpha\":{\"type\":\"value\",\"value\":0.1}}},\"muted_glyph\":{\"type\":\"object\",\"name\":\"Quad\",\"id\":\"be21df64-6c6c-446b-86f6-669f3e5f36dd\",\"attributes\":{\"left\":{\"type\":\"field\",\"field\":\"left\"},\"right\":{\"type\":\"field\",\"field\":\"right\"},\"bottom\":{\"type\":\"value\",\"value\":0},\"top\":{\"type\":\"field\",\"field\":\"top\"},\"line_color\":{\"type\":\"value\",\"value\":\"white\"},\"line_alpha\":{\"type\":\"value\",\"value\":0.2},\"fill_color\":{\"type\":\"value\",\"value\":\"green\"},\"fill_alpha\":{\"type\":\"value\",\"value\":0.2},\"hatch_alpha\":{\"type\":\"value\",\"value\":0.2}}}}}],\"toolbar\":{\"type\":\"object\",\"name\":\"Toolbar\",\"id\":\"b8cb30b8-89bb-471f-88fd-b6d2472441d2\"},\"left\":[{\"type\":\"object\",\"name\":\"LinearAxis\",\"id\":\"9a3d185e-4a07-4768-9550-08b3db0bb602\",\"attributes\":{\"ticker\":{\"type\":\"object\",\"name\":\"BasicTicker\",\"id\":\"eeb59f3e-9131-4a94-a4fd-3432f15cb372\",\"attributes\":{\"mantissas\":[1,2,5]}},\"formatter\":{\"type\":\"object\",\"name\":\"BasicTickFormatter\",\"id\":\"2a315cfe-d0aa-4a38-84cd-800d382e61c5\"},\"axis_label\":\"Probability\",\"major_label_policy\":{\"type\":\"object\",\"name\":\"AllLabels\",\"id\":\"2c68cf96-e0b4-4114-b11e-a04545f653f0\"}}}],\"below\":[{\"type\":\"object\",\"name\":\"LinearAxis\",\"id\":\"7a3b44e1-95d7-4559-92e7-65c5e3cdf0c6\",\"attributes\":{\"ticker\":{\"type\":\"object\",\"name\":\"BasicTicker\",\"id\":\"d494cb6a-d638-4ec7-a73e-427be23be3b7\",\"attributes\":{\"mantissas\":[1,2,5]}},\"formatter\":{\"type\":\"object\",\"name\":\"BasicTickFormatter\",\"id\":\"138af68f-d113-4e85-bc75-225073e57c3a\"},\"axis_label\":\"death_time (months)\",\"major_label_policy\":{\"type\":\"object\",\"name\":\"AllLabels\",\"id\":\"24412c1d-ceeb-4973-a333-f5a4d2d62b85\"}}}],\"center\":[{\"type\":\"object\",\"name\":\"Grid\",\"id\":\"0c54831e-7b4a-4fa9-9f4a-d39c971aacad\",\"attributes\":{\"axis\":{\"id\":\"7a3b44e1-95d7-4559-92e7-65c5e3cdf0c6\"},\"grid_line_color\":\"white\"}},{\"type\":\"object\",\"name\":\"Grid\",\"id\":\"9e3c9e4c-1b55-4067-8818-f21d96b76b53\",\"attributes\":{\"dimension\":1,\"axis\":{\"id\":\"9a3d185e-4a07-4768-9550-08b3db0bb602\"},\"grid_line_color\":\"white\"}},{\"type\":\"object\",\"name\":\"Legend\",\"id\":\"f99e38e1-db97-4bfe-b680-73dda36602de\",\"attributes\":{\"location\":\"center_right\",\"background_fill_color\":\"#fefefe\",\"items\":[{\"type\":\"object\",\"name\":\"LegendItem\",\"id\":\"76e16ef9-a04d-409c-b69c-6b5a97e1406e\",\"attributes\":{\"label\":{\"type\":\"value\",\"value\":\"diabetes\"},\"renderers\":[{\"id\":\"92af125d-a29b-474d-8929-fa894a9bf42d\"}]}},{\"type\":\"object\",\"name\":\"LegendItem\",\"id\":\"33985b74-61b9-4d73-9b13-45e0dd828750\",\"attributes\":{\"label\":{\"type\":\"value\",\"value\":\"not diabetes\"},\"renderers\":[{\"id\":\"432f628f-e924-46cb-a47f-8b8c63d2cb29\"}]}}]}}],\"background_fill_color\":\"#fafafa\"}}],\"defs\":[{\"type\":\"model\",\"name\":\"ReactiveHTML1\"},{\"type\":\"model\",\"name\":\"FlexBox1\",\"properties\":[{\"name\":\"align_content\",\"kind\":\"Any\",\"default\":\"flex-start\"},{\"name\":\"align_items\",\"kind\":\"Any\",\"default\":\"flex-start\"},{\"name\":\"flex_direction\",\"kind\":\"Any\",\"default\":\"row\"},{\"name\":\"flex_wrap\",\"kind\":\"Any\",\"default\":\"wrap\"},{\"name\":\"gap\",\"kind\":\"Any\",\"default\":\"\"},{\"name\":\"justify_content\",\"kind\":\"Any\",\"default\":\"flex-start\"}]},{\"type\":\"model\",\"name\":\"FloatPanel1\",\"properties\":[{\"name\":\"config\",\"kind\":\"Any\",\"default\":{\"type\":\"map\"}},{\"name\":\"contained\",\"kind\":\"Any\",\"default\":true},{\"name\":\"position\",\"kind\":\"Any\",\"default\":\"right-top\"},{\"name\":\"offsetx\",\"kind\":\"Any\",\"default\":null},{\"name\":\"offsety\",\"kind\":\"Any\",\"default\":null},{\"name\":\"theme\",\"kind\":\"Any\",\"default\":\"primary\"},{\"name\":\"status\",\"kind\":\"Any\",\"default\":\"normalized\"}]},{\"type\":\"model\",\"name\":\"GridStack1\",\"properties\":[{\"name\":\"mode\",\"kind\":\"Any\",\"default\":\"warn\"},{\"name\":\"ncols\",\"kind\":\"Any\",\"default\":null},{\"name\":\"nrows\",\"kind\":\"Any\",\"default\":null},{\"name\":\"allow_resize\",\"kind\":\"Any\",\"default\":true},{\"name\":\"allow_drag\",\"kind\":\"Any\",\"default\":true},{\"name\":\"state\",\"kind\":\"Any\",\"default\":[]}]},{\"type\":\"model\",\"name\":\"drag1\",\"properties\":[{\"name\":\"slider_width\",\"kind\":\"Any\",\"default\":5},{\"name\":\"slider_color\",\"kind\":\"Any\",\"default\":\"black\"},{\"name\":\"value\",\"kind\":\"Any\",\"default\":50}]},{\"type\":\"model\",\"name\":\"click1\",\"properties\":[{\"name\":\"terminal_output\",\"kind\":\"Any\",\"default\":\"\"},{\"name\":\"debug_name\",\"kind\":\"Any\",\"default\":\"\"},{\"name\":\"clears\",\"kind\":\"Any\",\"default\":0}]},{\"type\":\"model\",\"name\":\"FastWrapper1\",\"properties\":[{\"name\":\"object\",\"kind\":\"Any\",\"default\":null},{\"name\":\"style\",\"kind\":\"Any\",\"default\":null}]},{\"type\":\"model\",\"name\":\"NotificationAreaBase1\",\"properties\":[{\"name\":\"js_events\",\"kind\":\"Any\",\"default\":{\"type\":\"map\"}},{\"name\":\"position\",\"kind\":\"Any\",\"default\":\"bottom-right\"},{\"name\":\"_clear\",\"kind\":\"Any\",\"default\":0}]},{\"type\":\"model\",\"name\":\"NotificationArea1\",\"properties\":[{\"name\":\"js_events\",\"kind\":\"Any\",\"default\":{\"type\":\"map\"}},{\"name\":\"notifications\",\"kind\":\"Any\",\"default\":[]},{\"name\":\"position\",\"kind\":\"Any\",\"default\":\"bottom-right\"},{\"name\":\"_clear\",\"kind\":\"Any\",\"default\":0},{\"name\":\"types\",\"kind\":\"Any\",\"default\":[{\"type\":\"map\",\"entries\":[[\"type\",\"warning\"],[\"background\",\"#ffc107\"],[\"icon\",{\"type\":\"map\",\"entries\":[[\"className\",\"fas fa-exclamation-triangle\"],[\"tagName\",\"i\"],[\"color\",\"white\"]]}]]},{\"type\":\"map\",\"entries\":[[\"type\",\"info\"],[\"background\",\"#007bff\"],[\"icon\",{\"type\":\"map\",\"entries\":[[\"className\",\"fas fa-info-circle\"],[\"tagName\",\"i\"],[\"color\",\"white\"]]}]]}]}]},{\"type\":\"model\",\"name\":\"Notification\",\"properties\":[{\"name\":\"background\",\"kind\":\"Any\",\"default\":null},{\"name\":\"duration\",\"kind\":\"Any\",\"default\":3000},{\"name\":\"icon\",\"kind\":\"Any\",\"default\":null},{\"name\":\"message\",\"kind\":\"Any\",\"default\":\"\"},{\"name\":\"notification_type\",\"kind\":\"Any\",\"default\":null},{\"name\":\"_destroyed\",\"kind\":\"Any\",\"default\":false}]},{\"type\":\"model\",\"name\":\"TemplateActions1\",\"properties\":[{\"name\":\"open_modal\",\"kind\":\"Any\",\"default\":0},{\"name\":\"close_modal\",\"kind\":\"Any\",\"default\":0}]},{\"type\":\"model\",\"name\":\"BootstrapTemplateActions1\",\"properties\":[{\"name\":\"open_modal\",\"kind\":\"Any\",\"default\":0},{\"name\":\"close_modal\",\"kind\":\"Any\",\"default\":0}]},{\"type\":\"model\",\"name\":\"TemplateEditor1\",\"properties\":[{\"name\":\"layout\",\"kind\":\"Any\",\"default\":[]}]},{\"type\":\"model\",\"name\":\"MaterialTemplateActions1\",\"properties\":[{\"name\":\"open_modal\",\"kind\":\"Any\",\"default\":0},{\"name\":\"close_modal\",\"kind\":\"Any\",\"default\":0}]},{\"type\":\"model\",\"name\":\"copy_to_clipboard1\",\"properties\":[{\"name\":\"fill\",\"kind\":\"Any\",\"default\":\"none\"},{\"name\":\"value\",\"kind\":\"Any\",\"default\":null}]}]}};\n  const render_items = [{\"docid\":\"b5ec9879-8175-4333-82ee-32fd05357248\",\"roots\":{\"effe0eb3-bfd9-4813-829e-733083c47f1f\":\"d175a616-f03c-41bf-94ed-b1b710fdc6a1\"},\"root_ids\":[\"effe0eb3-bfd9-4813-829e-733083c47f1f\"]}];\n  void root.Bokeh.embed.embed_items_notebook(docs_json, render_items);\n  }\n  if (root.Bokeh !== undefined) {\n    embed_document(root);\n  } else {\n    let attempts = 0;\n    const timer = setInterval(function(root) {\n      if (root.Bokeh !== undefined) {\n        clearInterval(timer);\n        embed_document(root);\n      } else {\n        attempts++;\n        if (attempts > 100) {\n          clearInterval(timer);\n          console.log(\"Bokeh: ERROR: Unable to run BokehJS code because BokehJS library is missing\");\n        }\n      }\n    }, 10, root)\n  }\n})(window);",
            "application/vnd.bokehjs_exec.v0+json": ""
          },
          "metadata": {
            "application/vnd.bokehjs_exec.v0+json": {
              "id": "effe0eb3-bfd9-4813-829e-733083c47f1f"
            }
          },
          "output_type": "display_data"
        }
      ],
      "source": [
        "def make_plot(data, color, label):\n",
        "    \"\"\"\n",
        "    This function draw the histogram figure based on data frame series\n",
        "\n",
        "    Args:\n",
        "        data (dataframe): data to be plotted\n",
        "        color (str): color of plot\n",
        "        label (str): label\n",
        "\n",
        "    Returns:\n",
        "        p: plot\n",
        "    \"\"\"\n",
        "    measured = data\n",
        "    hist, edges = np.histogram(measured, density=True, bins=50)\n",
        "    p.quad(top=hist, bottom=0, left=edges[:-1], right=edges[1:],\n",
        "           fill_color=color, line_color=\"white\", alpha=0.5, legend_label=label)\n",
        " \n",
        "    p.y_range.start = 0\n",
        "    p.legend.location = \"center_right\"\n",
        "    p.legend.background_fill_color = \"#fefefe\"\n",
        "    p.xaxis.axis_label = 'death_time (months)'\n",
        "    p.yaxis.axis_label = 'Probability'\n",
        "    p.grid.grid_line_color=\"white\"\n",
        "    return p\n",
        "\n",
        "# Distribution\n",
        "p = figure(title=\"Distribution of death time based on diabetes\", tools='', background_fill_color=\"#fafafa\")\n",
        "df_patients_diabetes = df_patients[(df_patients[\"diabetes\"] == 1)][\"death_time\"]\n",
        "df_patients_not_diabetes = df_patients[(df_patients[\"diabetes\"] == 0)][\"death_time\"]\n",
        "\n",
        "p = make_plot(df_patients_diabetes, 'red', 'diabetes')\n",
        "p = make_plot(df_patients_not_diabetes, 'green', 'not diabetes')\n",
        "\n",
        "show(p)"
      ]
    },
    {
      "attachments": {},
      "cell_type": "markdown",
      "metadata": {},
      "source": [
        "<span style=\"color:pink\">Explanation: </span> Distribution of death time for diabetic and non diabetic patients is shown. Although it seems that the data follows a normal distribution , we cannot come to the conclusion that there is a specific difference between these two groups distribution. \n"
      ]
    },
    {
      "attachments": {},
      "cell_type": "markdown",
      "metadata": {},
      "source": [
        "---"
      ]
    },
    {
      "cell_type": "code",
      "execution_count": 57,
      "metadata": {},
      "outputs": [
        {
          "name": "stdout",
          "output_type": "stream",
          "text": [
            "---------------------------------------- dialysis_type\n",
            "   dialysis_type   death  count\n",
            "0              1  living   1001\n",
            "1              1    dead    219\n",
            "2              2  living     74\n",
            "3              0  living     30\n",
            "4              2    dead      7\n",
            "5              0    dead      2\n"
          ]
        }
      ],
      "source": [
        "print('-'*40, \"dialysis_type\")\n",
        "print(df_patients_plot[[\"dialysis_type\", \"death\"]].value_counts().reset_index())"
      ]
    },
    {
      "attachments": {},
      "cell_type": "markdown",
      "metadata": {},
      "source": [
        "<span style=\"color:pink\">Explanation: </span> Most of the people (1220) used dialysis type one and 1001 people are alive after the transplantation and based on death time, most of the people died after 40 month of their transplant. Furthermore, the number of people with dialysis type two and zero are less than type 1, the ratio of death is less than the other respectively."
      ]
    },
    {
      "attachments": {},
      "cell_type": "markdown",
      "metadata": {},
      "source": [
        "---"
      ]
    },
    {
      "attachments": {},
      "cell_type": "markdown",
      "metadata": {},
      "source": [
        "## Part4: Statistical analysis and hypothesis testing"
      ]
    },
    {
      "attachments": {},
      "cell_type": "markdown",
      "metadata": {},
      "source": [
        "### considering the distribution of death time according to primary estimation parameters and plotting the distribution"
      ]
    },
    {
      "cell_type": "code",
      "execution_count": 58,
      "metadata": {},
      "outputs": [
        {
          "name": "stdout",
          "output_type": "stream",
          "text": [
            "mu = 46.59, sigma = 28.41\n"
          ]
        },
        {
          "data": {
            "text/html": [
              "\n",
              "  <div id=\"ec4e0475-5670-4646-bdce-ffed77e081f7\" data-root-id=\"417cc0ad-8af5-4fc8-9a03-6997bc5a2885\" style=\"display: contents;\"></div>\n"
            ]
          },
          "metadata": {},
          "output_type": "display_data"
        },
        {
          "data": {
            "application/javascript": "(function(root) {\n  function embed_document(root) {\n  const docs_json = {\"34d7b059-beb4-4ed3-8b0a-b4cf8c8dccea\":{\"version\":\"3.4.1\",\"title\":\"Bokeh Application\",\"roots\":[{\"type\":\"object\",\"name\":\"Figure\",\"id\":\"417cc0ad-8af5-4fc8-9a03-6997bc5a2885\",\"attributes\":{\"x_range\":{\"type\":\"object\",\"name\":\"DataRange1d\",\"id\":\"a248ecb6-f0b1-4e90-b1dc-cff92edc5d97\"},\"y_range\":{\"type\":\"object\",\"name\":\"DataRange1d\",\"id\":\"8fbb83ac-f8a2-4aae-8698-b8b1a6ee6054\",\"attributes\":{\"start\":0}},\"x_scale\":{\"type\":\"object\",\"name\":\"LinearScale\",\"id\":\"bd62851b-a17a-47aa-b208-29f86f41a5a5\"},\"y_scale\":{\"type\":\"object\",\"name\":\"LinearScale\",\"id\":\"da232ed4-e2a7-4694-b1ea-444a9ef4c59d\"},\"title\":{\"type\":\"object\",\"name\":\"Title\",\"id\":\"d68bc2a1-3885-42b6-8a31-953111e1a0f3\",\"attributes\":{\"text\":\"Period of life after transplantation\"}},\"renderers\":[{\"type\":\"object\",\"name\":\"GlyphRenderer\",\"id\":\"bdfc69ec-3a2a-4a99-a99c-a9c14e985aa8\",\"attributes\":{\"data_source\":{\"type\":\"object\",\"name\":\"ColumnDataSource\",\"id\":\"9753c631-855f-48d7-a12a-f93b04629f0f\",\"attributes\":{\"selected\":{\"type\":\"object\",\"name\":\"Selection\",\"id\":\"9feebb8c-ca5f-442b-8073-1b37fb85649f\",\"attributes\":{\"indices\":[],\"line_indices\":[]}},\"selection_policy\":{\"type\":\"object\",\"name\":\"UnionRenderers\",\"id\":\"86082bdc-807b-455d-a5fa-c088e0c827cc\"},\"data\":{\"type\":\"map\",\"entries\":[[\"top\",{\"type\":\"ndarray\",\"array\":{\"type\":\"bytes\",\"data\":\"E5w5Epw5gj8TnDkSnDmCPxfweRfweYc/G8zfGszfij8YLGcYLGeIPxImYRImYZI/GATJFwTJhz8RTP0QTP2APx+8lB68lI4/F9wqF9wqhz8VUAEVUAGFPxqQ8hmQ8nk/HoCnHYCnfT8ZQLYYQLZ4PxfweRfweWc/HTBrHDBrbD8g0OMe0ONuPxfweRfweWc/G+AuG+Auaz8SYEwRYExhPw==\"},\"shape\":[20],\"dtype\":\"float64\",\"order\":\"little\"}],[\"left\",{\"type\":\"ndarray\",\"array\":{\"type\":\"bytes\",\"data\":\"AAAAAAAA8D8AAAAAAAAcQAAAAAAAACpAAAAAAAAAM0AAAAAAAAA5QAAAAAAAAD9AAAAAAACAQkAAAAAAAIBFQAAAAAAAgEhAAAAAAACAS0AAAAAAAIBOQAAAAAAAwFBAAAAAAABAUkAAAAAAAMBTQAAAAAAAQFVAAAAAAADAVkAAAAAAAEBYQAAAAAAAwFlAAAAAAABAW0AAAAAAAMBcQA==\"},\"shape\":[20],\"dtype\":\"float64\",\"order\":\"little\"}],[\"right\",{\"type\":\"ndarray\",\"array\":{\"type\":\"bytes\",\"data\":\"AAAAAAAAHEAAAAAAAAAqQAAAAAAAADNAAAAAAAAAOUAAAAAAAAA/QAAAAAAAgEJAAAAAAACARUAAAAAAAIBIQAAAAAAAgEtAAAAAAACATkAAAAAAAMBQQAAAAAAAQFJAAAAAAADAU0AAAAAAAEBVQAAAAAAAwFZAAAAAAABAWEAAAAAAAMBZQAAAAAAAQFtAAAAAAADAXEAAAAAAAEBeQA==\"},\"shape\":[20],\"dtype\":\"float64\",\"order\":\"little\"}]]}}},\"view\":{\"type\":\"object\",\"name\":\"CDSView\",\"id\":\"ec343d34-9ba5-4085-9702-acc9efdc8a86\",\"attributes\":{\"filter\":{\"type\":\"object\",\"name\":\"AllIndices\",\"id\":\"c8cb3fb1-37b3-452c-928e-6082685d1c3c\"}}},\"glyph\":{\"type\":\"object\",\"name\":\"Quad\",\"id\":\"63eb7bc5-7276-41d6-b63b-6ae6567565a7\",\"attributes\":{\"left\":{\"type\":\"field\",\"field\":\"left\"},\"right\":{\"type\":\"field\",\"field\":\"right\"},\"bottom\":{\"type\":\"value\",\"value\":0},\"top\":{\"type\":\"field\",\"field\":\"top\"},\"line_color\":{\"type\":\"value\",\"value\":\"white\"},\"line_alpha\":{\"type\":\"value\",\"value\":0.5},\"fill_color\":{\"type\":\"value\",\"value\":\"green\"},\"fill_alpha\":{\"type\":\"value\",\"value\":0.5},\"hatch_alpha\":{\"type\":\"value\",\"value\":0.5}}},\"nonselection_glyph\":{\"type\":\"object\",\"name\":\"Quad\",\"id\":\"d1cabb7a-42ea-4390-8da8-6ade1b53290c\",\"attributes\":{\"left\":{\"type\":\"field\",\"field\":\"left\"},\"right\":{\"type\":\"field\",\"field\":\"right\"},\"bottom\":{\"type\":\"value\",\"value\":0},\"top\":{\"type\":\"field\",\"field\":\"top\"},\"line_color\":{\"type\":\"value\",\"value\":\"white\"},\"line_alpha\":{\"type\":\"value\",\"value\":0.1},\"fill_color\":{\"type\":\"value\",\"value\":\"green\"},\"fill_alpha\":{\"type\":\"value\",\"value\":0.1},\"hatch_alpha\":{\"type\":\"value\",\"value\":0.1}}},\"muted_glyph\":{\"type\":\"object\",\"name\":\"Quad\",\"id\":\"e404274f-fcc6-4457-9989-074b20961376\",\"attributes\":{\"left\":{\"type\":\"field\",\"field\":\"left\"},\"right\":{\"type\":\"field\",\"field\":\"right\"},\"bottom\":{\"type\":\"value\",\"value\":0},\"top\":{\"type\":\"field\",\"field\":\"top\"},\"line_color\":{\"type\":\"value\",\"value\":\"white\"},\"line_alpha\":{\"type\":\"value\",\"value\":0.2},\"fill_color\":{\"type\":\"value\",\"value\":\"green\"},\"fill_alpha\":{\"type\":\"value\",\"value\":0.2},\"hatch_alpha\":{\"type\":\"value\",\"value\":0.2}}}}},{\"type\":\"object\",\"name\":\"GlyphRenderer\",\"id\":\"1936d9ab-44bc-488f-a62e-272f8a8f2f5b\",\"attributes\":{\"data_source\":{\"type\":\"object\",\"name\":\"ColumnDataSource\",\"id\":\"f66efed1-d0c3-4e84-b65d-6c37da809272\",\"attributes\":{\"selected\":{\"type\":\"object\",\"name\":\"Selection\",\"id\":\"3afbd113-f378-4a45-82c3-454dfa8b80c9\",\"attributes\":{\"indices\":[],\"line_indices\":[]}},\"selection_policy\":{\"type\":\"object\",\"name\":\"UnionRenderers\",\"id\":\"e78b6686-40c9-40f4-b34f-7f270bf0b5df\"},\"data\":{\"type\":\"map\",\"entries\":[[\"x\",[]],[\"y\",[]]]}}},\"view\":{\"type\":\"object\",\"name\":\"CDSView\",\"id\":\"fde54cda-dfb9-4a6f-b625-f67dca72442c\",\"attributes\":{\"filter\":{\"type\":\"object\",\"name\":\"AllIndices\",\"id\":\"5d986b60-2cf6-434e-96ca-7611899b0a9b\"}}},\"glyph\":{\"type\":\"object\",\"name\":\"Line\",\"id\":\"36e33a90-d282-4cf3-ba01-22a0803a3f68\",\"attributes\":{\"x\":{\"type\":\"field\",\"field\":\"x\"},\"y\":{\"type\":\"field\",\"field\":\"y\"},\"line_color\":\"red\",\"line_alpha\":0.7,\"line_width\":4}},\"nonselection_glyph\":{\"type\":\"object\",\"name\":\"Line\",\"id\":\"1042050f-4f29-439b-88a1-927ed7c33f12\",\"attributes\":{\"x\":{\"type\":\"field\",\"field\":\"x\"},\"y\":{\"type\":\"field\",\"field\":\"y\"},\"line_color\":\"red\",\"line_alpha\":0.1,\"line_width\":4}},\"muted_glyph\":{\"type\":\"object\",\"name\":\"Line\",\"id\":\"197cbf29-6fda-41af-ab1b-0b481923b3e2\",\"attributes\":{\"x\":{\"type\":\"field\",\"field\":\"x\"},\"y\":{\"type\":\"field\",\"field\":\"y\"},\"line_color\":\"red\",\"line_alpha\":0.2,\"line_width\":4}}}},{\"type\":\"object\",\"name\":\"GlyphRenderer\",\"id\":\"5575068d-8925-4af2-8b10-27fe34822a48\",\"attributes\":{\"data_source\":{\"type\":\"object\",\"name\":\"ColumnDataSource\",\"id\":\"d4a2e3f4-ae08-4130-986c-f38222f0b6f9\",\"attributes\":{\"selected\":{\"type\":\"object\",\"name\":\"Selection\",\"id\":\"241d15fa-0c18-45ee-bda7-6c33bac4e1b6\",\"attributes\":{\"indices\":[],\"line_indices\":[]}},\"selection_policy\":{\"type\":\"object\",\"name\":\"UnionRenderers\",\"id\":\"ae1f8f90-ecb4-499d-b399-a642e43b9b97\"},\"data\":{\"type\":\"map\",\"entries\":[[\"x\",[]],[\"y\",[]]]}}},\"view\":{\"type\":\"object\",\"name\":\"CDSView\",\"id\":\"511f6965-c438-4c00-8fcc-d4a5d54479a0\",\"attributes\":{\"filter\":{\"type\":\"object\",\"name\":\"AllIndices\",\"id\":\"a50160ec-8f7e-41a9-879b-f1e093e1db9b\"}}},\"glyph\":{\"type\":\"object\",\"name\":\"Line\",\"id\":\"21e84cb4-3e1e-4596-836a-81bac4e5e18f\",\"attributes\":{\"x\":{\"type\":\"field\",\"field\":\"x\"},\"y\":{\"type\":\"field\",\"field\":\"y\"},\"line_color\":\"red\",\"line_alpha\":0.7,\"line_width\":4,\"line_dash\":[6]}},\"nonselection_glyph\":{\"type\":\"object\",\"name\":\"Line\",\"id\":\"79ce36bc-c911-47a1-8aec-206dfe462c16\",\"attributes\":{\"x\":{\"type\":\"field\",\"field\":\"x\"},\"y\":{\"type\":\"field\",\"field\":\"y\"},\"line_color\":\"red\",\"line_alpha\":0.1,\"line_width\":4,\"line_dash\":[6]}},\"muted_glyph\":{\"type\":\"object\",\"name\":\"Line\",\"id\":\"1ad64243-46ea-4a87-8e6d-d50360d15b46\",\"attributes\":{\"x\":{\"type\":\"field\",\"field\":\"x\"},\"y\":{\"type\":\"field\",\"field\":\"y\"},\"line_color\":\"red\",\"line_alpha\":0.2,\"line_width\":4,\"line_dash\":[6]}}}},{\"type\":\"object\",\"name\":\"GlyphRenderer\",\"id\":\"9deda200-78ef-4e43-9aa8-1b54db900a21\",\"attributes\":{\"data_source\":{\"type\":\"object\",\"name\":\"ColumnDataSource\",\"id\":\"4da8f1b7-79e1-41e5-a215-1eaac962bc56\",\"attributes\":{\"selected\":{\"type\":\"object\",\"name\":\"Selection\",\"id\":\"cd7b61f4-cc0e-473c-8b87-843adb74a488\",\"attributes\":{\"indices\":[],\"line_indices\":[]}},\"selection_policy\":{\"type\":\"object\",\"name\":\"UnionRenderers\",\"id\":\"822a11c4-bb84-47d6-8a5d-a5df373c89bb\"},\"data\":{\"type\":\"map\",\"entries\":[[\"x\",{\"type\":\"ndarray\",\"array\":{\"type\":\"bytes\",\"data\":\"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\"},\"shape\":[400],\"dtype\":\"float64\",\"order\":\"little\"}],[\"y\",{\"type\":\"ndarray\",\"array\":{\"type\":\"bytes\",\"data\":\"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\"},\"shape\":[400],\"dtype\":\"float64\",\"order\":\"little\"}]]}}},\"view\":{\"type\":\"object\",\"name\":\"CDSView\",\"id\":\"b34b400c-3fee-4a79-9f04-8ce01e70a04a\",\"attributes\":{\"filter\":{\"type\":\"object\",\"name\":\"AllIndices\",\"id\":\"604a69fa-7eec-41e7-9320-2fc9ad655642\"}}},\"glyph\":{\"type\":\"object\",\"name\":\"Line\",\"id\":\"e8910561-6fa0-4104-90e7-b8665876f195\",\"attributes\":{\"x\":{\"type\":\"field\",\"field\":\"x\"},\"y\":{\"type\":\"field\",\"field\":\"y\"},\"line_alpha\":0.7,\"line_width\":4}},\"nonselection_glyph\":{\"type\":\"object\",\"name\":\"Line\",\"id\":\"915eacbe-0649-4620-aa6b-12f766bf9c50\",\"attributes\":{\"x\":{\"type\":\"field\",\"field\":\"x\"},\"y\":{\"type\":\"field\",\"field\":\"y\"},\"line_alpha\":0.1,\"line_width\":4}},\"muted_glyph\":{\"type\":\"object\",\"name\":\"Line\",\"id\":\"53c3bdff-f36f-40ab-9f74-b403cd14046b\",\"attributes\":{\"x\":{\"type\":\"field\",\"field\":\"x\"},\"y\":{\"type\":\"field\",\"field\":\"y\"},\"line_alpha\":0.2,\"line_width\":4}}}}],\"toolbar\":{\"type\":\"object\",\"name\":\"Toolbar\",\"id\":\"06bbf98f-e9ac-4d0c-8074-960378f5e300\"},\"left\":[{\"type\":\"object\",\"name\":\"LinearAxis\",\"id\":\"1fff7ccd-9f69-457f-ba4e-687b08c7895b\",\"attributes\":{\"ticker\":{\"type\":\"object\",\"name\":\"BasicTicker\",\"id\":\"47899730-4f7d-459a-81ff-a16f5506d80c\",\"attributes\":{\"mantissas\":[1,2,5]}},\"formatter\":{\"type\":\"object\",\"name\":\"BasicTickFormatter\",\"id\":\"ca14d373-70e0-4acd-91fe-9e0927db0f7a\"},\"axis_label\":\"Density\",\"major_label_policy\":{\"type\":\"object\",\"name\":\"AllLabels\",\"id\":\"e18adedd-094c-4b66-b6c7-6207ec617520\"}}}],\"below\":[{\"type\":\"object\",\"name\":\"LinearAxis\",\"id\":\"7c5bb993-647b-4a15-a8b0-4f860f0dda89\",\"attributes\":{\"ticker\":{\"type\":\"object\",\"name\":\"BasicTicker\",\"id\":\"5e386d3a-14d8-45fa-8632-edcafbc403f9\",\"attributes\":{\"mantissas\":[1,2,5]}},\"formatter\":{\"type\":\"object\",\"name\":\"BasicTickFormatter\",\"id\":\"862fddea-68f3-4736-9a6f-5544236e3cb2\"},\"axis_label\":\"time(months)\",\"major_label_policy\":{\"type\":\"object\",\"name\":\"AllLabels\",\"id\":\"574c4223-f024-4429-8633-57ea80be0b95\"}}}],\"center\":[{\"type\":\"object\",\"name\":\"Grid\",\"id\":\"6afdd624-6e69-47a1-a1b7-fdf12025d6d7\",\"attributes\":{\"axis\":{\"id\":\"7c5bb993-647b-4a15-a8b0-4f860f0dda89\"},\"grid_line_color\":\"white\"}},{\"type\":\"object\",\"name\":\"Grid\",\"id\":\"b764c312-fb77-46ed-bb92-bc0a4b91a469\",\"attributes\":{\"dimension\":1,\"axis\":{\"id\":\"1fff7ccd-9f69-457f-ba4e-687b08c7895b\"},\"grid_line_color\":\"white\"}},{\"type\":\"object\",\"name\":\"Legend\",\"id\":\"793fa832-c63d-48c8-a5d6-6c980af9a076\",\"attributes\":{\"location\":\"center_right\",\"background_fill_color\":\"#fefefe\",\"items\":[{\"type\":\"object\",\"name\":\"LegendItem\",\"id\":\"914347d5-2c1c-4014-97f4-866e8f7791b1\",\"attributes\":{\"label\":{\"type\":\"value\",\"value\":\"Data\"},\"renderers\":[{\"id\":\"bdfc69ec-3a2a-4a99-a99c-a9c14e985aa8\"}]}},{\"type\":\"object\",\"name\":\"LegendItem\",\"id\":\"4dff1aa1-aaef-48fa-9186-bdda35e7b355\",\"attributes\":{\"label\":{\"type\":\"value\",\"value\":\"Average_line\"},\"renderers\":[{\"id\":\"1936d9ab-44bc-488f-a62e-272f8a8f2f5b\"}]}},{\"type\":\"object\",\"name\":\"LegendItem\",\"id\":\"1ff0f463-05f2-4de9-9677-fa35da117487\",\"attributes\":{\"label\":{\"type\":\"value\",\"value\":\"robust_line\"},\"renderers\":[{\"id\":\"5575068d-8925-4af2-8b10-27fe34822a48\"}]}},{\"type\":\"object\",\"name\":\"LegendItem\",\"id\":\"3c103fc8-b762-4176-82e6-39fe27d008be\",\"attributes\":{\"label\":{\"type\":\"value\",\"value\":\"PDF\"},\"renderers\":[{\"id\":\"9deda200-78ef-4e43-9aa8-1b54db900a21\"}]}}]}},{\"type\":\"object\",\"name\":\"Span\",\"id\":\"09cc6510-89a0-4cb5-b4e4-75cec8c1902f\",\"attributes\":{\"location\":42.0,\"dimension\":\"height\",\"line_color\":\"red\",\"line_width\":3}},{\"type\":\"object\",\"name\":\"Span\",\"id\":\"68c41218-43f7-4e49-93cb-a709e9cd2c93\",\"attributes\":{\"location\":46.59457013574661,\"dimension\":\"height\",\"line_color\":\"orange\",\"line_width\":3,\"line_dash\":[6]}}],\"background_fill_color\":\"#fafafa\"}}],\"defs\":[{\"type\":\"model\",\"name\":\"ReactiveHTML1\"},{\"type\":\"model\",\"name\":\"FlexBox1\",\"properties\":[{\"name\":\"align_content\",\"kind\":\"Any\",\"default\":\"flex-start\"},{\"name\":\"align_items\",\"kind\":\"Any\",\"default\":\"flex-start\"},{\"name\":\"flex_direction\",\"kind\":\"Any\",\"default\":\"row\"},{\"name\":\"flex_wrap\",\"kind\":\"Any\",\"default\":\"wrap\"},{\"name\":\"gap\",\"kind\":\"Any\",\"default\":\"\"},{\"name\":\"justify_content\",\"kind\":\"Any\",\"default\":\"flex-start\"}]},{\"type\":\"model\",\"name\":\"FloatPanel1\",\"properties\":[{\"name\":\"config\",\"kind\":\"Any\",\"default\":{\"type\":\"map\"}},{\"name\":\"contained\",\"kind\":\"Any\",\"default\":true},{\"name\":\"position\",\"kind\":\"Any\",\"default\":\"right-top\"},{\"name\":\"offsetx\",\"kind\":\"Any\",\"default\":null},{\"name\":\"offsety\",\"kind\":\"Any\",\"default\":null},{\"name\":\"theme\",\"kind\":\"Any\",\"default\":\"primary\"},{\"name\":\"status\",\"kind\":\"Any\",\"default\":\"normalized\"}]},{\"type\":\"model\",\"name\":\"GridStack1\",\"properties\":[{\"name\":\"mode\",\"kind\":\"Any\",\"default\":\"warn\"},{\"name\":\"ncols\",\"kind\":\"Any\",\"default\":null},{\"name\":\"nrows\",\"kind\":\"Any\",\"default\":null},{\"name\":\"allow_resize\",\"kind\":\"Any\",\"default\":true},{\"name\":\"allow_drag\",\"kind\":\"Any\",\"default\":true},{\"name\":\"state\",\"kind\":\"Any\",\"default\":[]}]},{\"type\":\"model\",\"name\":\"drag1\",\"properties\":[{\"name\":\"slider_width\",\"kind\":\"Any\",\"default\":5},{\"name\":\"slider_color\",\"kind\":\"Any\",\"default\":\"black\"},{\"name\":\"value\",\"kind\":\"Any\",\"default\":50}]},{\"type\":\"model\",\"name\":\"click1\",\"properties\":[{\"name\":\"terminal_output\",\"kind\":\"Any\",\"default\":\"\"},{\"name\":\"debug_name\",\"kind\":\"Any\",\"default\":\"\"},{\"name\":\"clears\",\"kind\":\"Any\",\"default\":0}]},{\"type\":\"model\",\"name\":\"FastWrapper1\",\"properties\":[{\"name\":\"object\",\"kind\":\"Any\",\"default\":null},{\"name\":\"style\",\"kind\":\"Any\",\"default\":null}]},{\"type\":\"model\",\"name\":\"NotificationAreaBase1\",\"properties\":[{\"name\":\"js_events\",\"kind\":\"Any\",\"default\":{\"type\":\"map\"}},{\"name\":\"position\",\"kind\":\"Any\",\"default\":\"bottom-right\"},{\"name\":\"_clear\",\"kind\":\"Any\",\"default\":0}]},{\"type\":\"model\",\"name\":\"NotificationArea1\",\"properties\":[{\"name\":\"js_events\",\"kind\":\"Any\",\"default\":{\"type\":\"map\"}},{\"name\":\"notifications\",\"kind\":\"Any\",\"default\":[]},{\"name\":\"position\",\"kind\":\"Any\",\"default\":\"bottom-right\"},{\"name\":\"_clear\",\"kind\":\"Any\",\"default\":0},{\"name\":\"types\",\"kind\":\"Any\",\"default\":[{\"type\":\"map\",\"entries\":[[\"type\",\"warning\"],[\"background\",\"#ffc107\"],[\"icon\",{\"type\":\"map\",\"entries\":[[\"className\",\"fas fa-exclamation-triangle\"],[\"tagName\",\"i\"],[\"color\",\"white\"]]}]]},{\"type\":\"map\",\"entries\":[[\"type\",\"info\"],[\"background\",\"#007bff\"],[\"icon\",{\"type\":\"map\",\"entries\":[[\"className\",\"fas fa-info-circle\"],[\"tagName\",\"i\"],[\"color\",\"white\"]]}]]}]}]},{\"type\":\"model\",\"name\":\"Notification\",\"properties\":[{\"name\":\"background\",\"kind\":\"Any\",\"default\":null},{\"name\":\"duration\",\"kind\":\"Any\",\"default\":3000},{\"name\":\"icon\",\"kind\":\"Any\",\"default\":null},{\"name\":\"message\",\"kind\":\"Any\",\"default\":\"\"},{\"name\":\"notification_type\",\"kind\":\"Any\",\"default\":null},{\"name\":\"_destroyed\",\"kind\":\"Any\",\"default\":false}]},{\"type\":\"model\",\"name\":\"TemplateActions1\",\"properties\":[{\"name\":\"open_modal\",\"kind\":\"Any\",\"default\":0},{\"name\":\"close_modal\",\"kind\":\"Any\",\"default\":0}]},{\"type\":\"model\",\"name\":\"BootstrapTemplateActions1\",\"properties\":[{\"name\":\"open_modal\",\"kind\":\"Any\",\"default\":0},{\"name\":\"close_modal\",\"kind\":\"Any\",\"default\":0}]},{\"type\":\"model\",\"name\":\"TemplateEditor1\",\"properties\":[{\"name\":\"layout\",\"kind\":\"Any\",\"default\":[]}]},{\"type\":\"model\",\"name\":\"MaterialTemplateActions1\",\"properties\":[{\"name\":\"open_modal\",\"kind\":\"Any\",\"default\":0},{\"name\":\"close_modal\",\"kind\":\"Any\",\"default\":0}]},{\"type\":\"model\",\"name\":\"copy_to_clipboard1\",\"properties\":[{\"name\":\"fill\",\"kind\":\"Any\",\"default\":\"none\"},{\"name\":\"value\",\"kind\":\"Any\",\"default\":null}]}]}};\n  const render_items = [{\"docid\":\"34d7b059-beb4-4ed3-8b0a-b4cf8c8dccea\",\"roots\":{\"417cc0ad-8af5-4fc8-9a03-6997bc5a2885\":\"ec4e0475-5670-4646-bdce-ffed77e081f7\"},\"root_ids\":[\"417cc0ad-8af5-4fc8-9a03-6997bc5a2885\"]}];\n  void root.Bokeh.embed.embed_items_notebook(docs_json, render_items);\n  }\n  if (root.Bokeh !== undefined) {\n    embed_document(root);\n  } else {\n    let attempts = 0;\n    const timer = setInterval(function(root) {\n      if (root.Bokeh !== undefined) {\n        clearInterval(timer);\n        embed_document(root);\n      } else {\n        attempts++;\n        if (attempts > 100) {\n          clearInterval(timer);\n          console.log(\"Bokeh: ERROR: Unable to run BokehJS code because BokehJS library is missing\");\n        }\n      }\n    }, 10, root)\n  }\n})(window);",
            "application/vnd.bokehjs_exec.v0+json": ""
          },
          "metadata": {
            "application/vnd.bokehjs_exec.v0+json": {
              "id": "417cc0ad-8af5-4fc8-9a03-6997bc5a2885"
            }
          },
          "output_type": "display_data"
        }
      ],
      "source": [
        "\n",
        "#make a plot\n",
        "df = df_patients[df_patients[\"death\"]==0].copy()\n",
        "plot_df= np.histogram(df['death_time'],density=True, bins=20)\n",
        "p = figure(title='Period of life after transplantation', tools='', background_fill_color=\"#fafafa\")\n",
        "p.quad(top=plot_df[0], bottom=0, left=plot_df[1][:-1], right=plot_df[1][1:],\n",
        "           fill_color=\"green\", line_color=\"white\", alpha=0.5,legend_label='Data')\n",
        "  \n",
        "p.y_range.start = 0\n",
        "p.legend.location = \"center_right\"\n",
        "p.legend.background_fill_color = \"#fefefe\"\n",
        "p.xaxis.axis_label = 'time(months)'\n",
        "p.yaxis.axis_label = 'Density'\n",
        "p.grid.grid_line_color=\"white\"\n",
        "\n",
        "#average_line\n",
        "av_line=Span(location=df['death_time'].median(),dimension='height', line_color='red',\n",
        "                               line_width=3)\n",
        "p.line([],[], line_color=\"red\", line_width=4, alpha=0.7, legend_label=\"Average_line\")\n",
        "p.add_layout(av_line)\n",
        "\n",
        "#robuust_line\n",
        "robuust_line=Span(location=df['death_time'].mean(),dimension='height', line_color='orange',\n",
        "                              line_dash='dashed', line_width=3)\n",
        "p.line([],[],legend_label=\"robust_line\", line_color=\"red\", line_width=4, alpha=0.7, line_dash='dashed')\n",
        "p.add_layout(robuust_line)\n",
        "\n",
        "mu=np.mean(df['death_time'])\n",
        "sigma2 = np.mean((df['death_time'] - mu)**2)\n",
        "sigma=np.sqrt(sigma2)\n",
        "\n",
        "print('mu = {:.4g}, sigma = {:.4g}'.format(mu,sigma))\n",
        "\n",
        "#normal distribution\n",
        "x = np.linspace(0, 120, 400)\n",
        "pdf = norm.pdf(x,mu,sigma)\n",
        "p.line(x, pdf, line_color=\"black\", line_width=4, alpha=0.7, legend_label=\"PDF\")\n",
        "\n",
        "show(p)"
      ]
    },
    {
      "attachments": {},
      "cell_type": "markdown",
      "metadata": {},
      "source": [
        "<span style=\"color:pink\">Explanation: </span> According to primary analysis of death time based on Method of Moments or Maximum Likelihood, Robust method and the plot of normal distribution over death time variable, it's apparent that distribution of death time is following normal distribution. "
      ]
    },
    {
      "attachments": {},
      "cell_type": "markdown",
      "metadata": {},
      "source": [
        "---"
      ]
    },
    {
      "attachments": {},
      "cell_type": "markdown",
      "metadata": {},
      "source": [
        "Provides a pipe-friendly framework to performs Shapiro-Wilk test of normality. Support grouped data and multiple variables for multivariate normality tests."
      ]
    },
    {
      "cell_type": "code",
      "execution_count": 59,
      "metadata": {},
      "outputs": [
        {
          "name": "stdout",
          "output_type": "stream",
          "text": [
            "ShapiroResult(statistic=0.9635798931121826, pvalue=5.322451167476196e-16)\n"
          ]
        }
      ],
      "source": [
        "# briefly summarize your findings\n",
        "shapiro_test=scipy.stats.shapiro(df['death_time'])\n",
        "print(shapiro_test)"
      ]
    },
    {
      "attachments": {},
      "cell_type": "markdown",
      "metadata": {},
      "source": [
        "<span style=\"color:pink\">Explanation: </span>Because the p-value = 5.321377023819959e-16 < 0.05, so the distribution of death time is normal, as we have plotted before. "
      ]
    },
    {
      "attachments": {},
      "cell_type": "markdown",
      "metadata": {},
      "source": [
        "---"
      ]
    },
    {
      "attachments": {},
      "cell_type": "markdown",
      "metadata": {},
      "source": [
        "#### A Q-Q plot is used to see whether the sparse data is distributed normally or not"
      ]
    },
    {
      "cell_type": "code",
      "execution_count": 60,
      "metadata": {},
      "outputs": [],
      "source": [
        "def DS_Q_Q_Plot(y, est = 'ML', **kwargs):\n",
        "    \"\"\"\n",
        "    *\n",
        "    Function DS_Q_Q_Plot(y, est = 'robust', **kwargs)\n",
        "    \n",
        "       This function makes a normal quantile-quantile plot (Q-Q-plot), also known\n",
        "       as a probability plot, to visually check whether data follow a normal distribution.\n",
        "    \n",
        "    Requires:            - \n",
        "    \n",
        "    Arguments:\n",
        "      y                  data array\n",
        "      est                Estimation method for normal parameters mu and sigma:\n",
        "                         either 'robust' (default), or 'ML' (Maximum Likelihood),\n",
        "                         or 'preset' (given values)\n",
        "      N.B. If est='preset' than the *optional* parameters mu, sigma must be provided:\n",
        "      mu                 preset value of mu\n",
        "      sigma              preset value of sigma\n",
        "      \n",
        "    Returns:\n",
        "      Estimated mu, sigma, n, and expected number of datapoints outside CI in Q-Q-plot.\n",
        "      Q-Q-plot\n",
        "      \n",
        "    Author:            M.E.F. Apol\n",
        "    Date:              2020-01-06, revision 2022-08-30\n",
        "    \"\"\"\n",
        "    \n",
        "    import numpy as np\n",
        "    from scipy.stats import iqr # iqr is the Interquartile Range function\n",
        "    import matplotlib.pyplot as plt\n",
        "    \n",
        "    # First, get the optional arguments mu and sigma:\n",
        "    mu_0 = kwargs.get('mu', None)\n",
        "    sigma_0 = kwargs.get('sigma', None)\n",
        "    \n",
        "    n = len(y)\n",
        "    \n",
        "    # Calculate order statistic:\n",
        "    y_os = np.sort(y)\n",
        "  \n",
        "    # Estimates of mu and sigma:\n",
        "    # ML estimates:\n",
        "    mu_ML = np.mean(y)\n",
        "    sigma2_ML = np.var(y)\n",
        "    sigma_ML = np.std(y) # biased estimate\n",
        "    s2 = np.var(y, ddof=1)\n",
        "    s = np.std(y, ddof=1) # unbiased estimate\n",
        "    # Robust estimates:\n",
        "    mu_R = np.median(y)\n",
        "    sigma_R = iqr(y)/1.349\n",
        "\n",
        "    # Assign values of mu and sigma for z-transform:\n",
        "    if est == 'ML':\n",
        "        mu, sigma = mu_ML, s\n",
        "    elif est == 'robust':\n",
        "        mu, sigma = mu_R, sigma_R\n",
        "    elif est == 'preset':\n",
        "        mu, sigma = mu_0, sigma_0\n",
        "    else:\n",
        "        print('Wrong estimation method chosen!')\n",
        "        return()\n",
        "        \n",
        "    print('Estimation method: ' + est)\n",
        "    print('n = {:d}, mu = {:.4g}, sigma = {:.4g}'.format(n, mu,sigma))\n",
        "    \n",
        "    # Expected number of deviations (95% confidence level):\n",
        "    n_dev = np.round(0.05*n)\n",
        "    \n",
        "    print('Expected number of data outside CI: {:.0f}'.format(n_dev))\n",
        "         \n",
        "    # Perform z-transform: sample quantiles z.i\n",
        "    z_i = (y_os - mu)/sigma\n",
        "\n",
        "    # Calculate cumulative probabilities p.i:\n",
        "    i = np.array(range(n)) + 1\n",
        "    p_i = (i - 0.5)/n\n",
        "\n",
        "    # Calculate theoretical quantiles z.(i):\n",
        "    from scipy.stats import norm\n",
        "    z_th = norm.ppf(p_i, 0, 1)\n",
        "\n",
        "    # Calculate SE or theoretical quantiles:\n",
        "    SE_z_th = (1/norm.pdf(z_th, 0, 1)) * np.sqrt((p_i * (1 - p_i)) / n)\n",
        "\n",
        "    # Calculate 95% CI of diagonal line:\n",
        "    CI_upper = z_th + 1.96 * SE_z_th\n",
        "    CI_lower = z_th - 1.96 * SE_z_th\n",
        "\n",
        "    # Make Q-Q plot:\n",
        "    plt.plot(z_th, z_i, 'o', color='k', label='experimental data')\n",
        "    plt.plot(z_th, z_th, '--', color='r', label='normal line')\n",
        "    plt.plot(z_th, CI_upper, '--', color='b', label='95% CI')\n",
        "    plt.plot(z_th, CI_lower, '--', color='b')\n",
        "    plt.xlabel('Theoretical quantiles, $z_{(i)}$')\n",
        "    plt.ylabel('Sample quantiles, $z_i$')\n",
        "    plt.title('Q-Q plot (' + est + ')')\n",
        "    plt.legend(loc='best')\n",
        "    plt.show()\n",
        "    pass;\n"
      ]
    },
    {
      "cell_type": "code",
      "execution_count": 61,
      "metadata": {},
      "outputs": [
        {
          "name": "stdout",
          "output_type": "stream",
          "text": [
            "Estimation method: ML\n",
            "n = 228, mu = 21.58, sigma = 23.13\n",
            "Expected number of data outside CI: 11\n"
          ]
        },
        {
          "data": {
            "image/png": "[encoded data removed]",
            "text/plain": [
              "<Figure size 640x480 with 1 Axes>"
            ]
          },
          "metadata": {},
          "output_type": "display_data"
        }
      ],
      "source": [
        "#considering distribution of death time over the whole data\n",
        "df_patients_q = df_patients[(df_patients[\"death\"]==1)].copy()\n",
        "y = df_patients_q[\"death_time\"].tolist()\n",
        "DS_Q_Q_Plot(y)"
      ]
    },
    {
      "cell_type": "code",
      "execution_count": 62,
      "metadata": {},
      "outputs": [
        {
          "name": "stdout",
          "output_type": "stream",
          "text": [
            "Estimation method: ML\n",
            "n = 106, mu = 23.49, sigma = 23.99\n",
            "Expected number of data outside CI: 5\n"
          ]
        },
        {
          "data": {
            "image/png": "[encoded data removed]",
            "text/plain": [
              "<Figure size 640x480 with 1 Axes>"
            ]
          },
          "metadata": {},
          "output_type": "display_data"
        }
      ],
      "source": [
        "#considering distribution of death time over diabetes\n",
        "df_patients_q = df_patients[(df_patients[\"death\"]==1) & (df_patients[\"diabetes\"] == 1)].copy()\n",
        "\n",
        "y = df_patients_q[\"death_time\"].tolist()\n",
        "DS_Q_Q_Plot(y)"
      ]
    },
    {
      "cell_type": "code",
      "execution_count": 63,
      "metadata": {},
      "outputs": [
        {
          "name": "stdout",
          "output_type": "stream",
          "text": [
            "Estimation method: ML\n",
            "n = 108, mu = 18.34, sigma = 21.2\n",
            "Expected number of data outside CI: 5\n"
          ]
        },
        {
          "data": {
            "image/png": "[encoded data removed]",
            "text/plain": [
              "<Figure size 640x480 with 1 Axes>"
            ]
          },
          "metadata": {},
          "output_type": "display_data"
        }
      ],
      "source": [
        "#considering distribution of death time over overweight\n",
        "df_patients_q = df_patients[(df_patients[\"death\"]==1) & (df_patients[\"overweight\"] == 1)].copy()\n",
        "\n",
        "y = df_patients_q[\"death_time\"].tolist()\n",
        "DS_Q_Q_Plot(y)"
      ]
    },
    {
      "cell_type": "code",
      "execution_count": 64,
      "metadata": {},
      "outputs": [
        {
          "name": "stdout",
          "output_type": "stream",
          "text": [
            "Estimation method: ML\n",
            "n = 79, mu = 20.81, sigma = 21.89\n",
            "Expected number of data outside CI: 4\n"
          ]
        },
        {
          "data": {
            "image/png": "[encoded data removed]",
            "text/plain": [
              "<Figure size 640x480 with 1 Axes>"
            ]
          },
          "metadata": {},
          "output_type": "display_data"
        }
      ],
      "source": [
        "#considering distribution of death time over smoking\n",
        "df_patients_q = df_patients[(df_patients[\"death\"]==1) & (df_patients[\"smoking\"] == 1)].copy()\n",
        "\n",
        "y = df_patients_q[\"death_time\"].tolist()\n",
        "DS_Q_Q_Plot(y)"
      ]
    },
    {
      "attachments": {},
      "cell_type": "markdown",
      "metadata": {},
      "source": [
        "<span style=\"color:pink\">Explanation: </span>The most of datapoits are all within the (blue) 95% CI of the Q-Q-plot, so data look normal."
      ]
    },
    {
      "attachments": {},
      "cell_type": "markdown",
      "metadata": {},
      "source": [
        "---"
      ]
    },
    {
      "attachments": {},
      "cell_type": "markdown",
      "metadata": {},
      "source": [
        "#### Based on this, the best statistical test that can be utilized in this experiment is 1-sample t-test since the data is almost normal and there is no information about mu and sigma. Based on the data distribution, statistical t-test is implemented to evaluate the hypothesis.For each column it has been considered.A 1- sample T-test can be implemented on the data sets. T-test is the best nominate when there is sparse information about the sample i.e., unknown µ and σ."
      ]
    },
    {
      "cell_type": "code",
      "execution_count": 65,
      "metadata": {},
      "outputs": [],
      "source": [
        "#Test the hypotheses \n",
        "def DS_1sample_ttest_means(y, popmean=0, alternative = 'two-sided', alpha=0.05):\n",
        "    \"\"\"\n",
        "    *\n",
        "    Function DS_1sample_ttest_means(y, popmean=0, alternative = 'two-sided', alpha=0.05)\n",
        "    \n",
        "       This function performs a 1-sample t-test (Null Hypothesis Significance Test) \n",
        "       in the spirit of R, testing 1 average with *unknown* standard deviation.\n",
        "       The function also evaluates the effect size (Cohen's d).\n",
        "       \n",
        "    Requires:          -\n",
        "     \n",
        "    Usage:             DS_1sample_ttest_means(y, popmean = mu*, \n",
        "                            alternative=['two-sided']/'less'/'greater', \n",
        "                            alpha = 0.05)\n",
        "     \n",
        "                         alternative = 'two-sided' [default]  H1: mu != mu*\n",
        "                                       'less'                 H1: mu < mu*\n",
        "                                       'greater'              H1: mu > mu*\n",
        "                         alpha:   significance level of test [default: 0.05]\n",
        "     \n",
        "    Return:            t, p-value, t.crit.L, t.crit.R  [ + print interpretable output to stdout ]\n",
        "                       where t.crit.L and t.crit.R are the lower and upper critical values, \n",
        "                       t is the test statistic and p-value is the p-value of the test.\n",
        "                       \n",
        "    Author:            M.E.F. Apol\n",
        "    Date:              2022-01-27, rev. 2022_08_26\n",
        "    Validation:\n",
        "    \"\"\"\n",
        "    \n",
        "    from scipy.stats import ttest_1samp\n",
        "    from scipy.stats import t as t_distr\n",
        "    import numpy as np\n",
        "\n",
        "    t, p_samp = ttest_1samp(y, popmean)\n",
        "    print(80*'-')\n",
        "    print('1-sample t-test for 1 mean:')\n",
        "    print('     assuming Normal(mu, sigma2) data for dataset')\n",
        "    y_av = np.mean(y)\n",
        "    n = len(y)\n",
        "    df = n - 1\n",
        "    s2 = np.var(y, ddof=1)\n",
        "    print('y.av = {:.3g}, mu* = {:.3g}, s2 = {:.3g}, n = {:d}, alpha = {:.3g}'.format(y_av, popmean, s2, n, alpha))\n",
        "    print('H0: mu  = mu*')\n",
        "    if alternative == 'two-sided':\n",
        "        print('H1: mu != mu*')\n",
        "        p_value = p_samp\n",
        "        t_crit_L = t_distr.ppf(alpha/2, df)\n",
        "        t_crit_R = t_distr.ppf(1-alpha/2, df)\n",
        "    elif alternative == 'less':\n",
        "        print('H1: mu  < mu*')\n",
        "        if t <= 0:\n",
        "            p_value = p_samp/2\n",
        "        else:\n",
        "            p_value = 1 - p_samp/2\n",
        "        t_crit_L = t_distr.ppf(alpha, df)\n",
        "        t_crit_R = float('inf')\n",
        "    elif alternative == 'greater':\n",
        "        print('H1: mu  > mu*')\n",
        "        if t >= 0:\n",
        "            p_value = p_samp/2\n",
        "        else:\n",
        "            p_value = 1 - p_samp/2\n",
        "        t_crit_L = float('-inf')\n",
        "        t_crit_R = t_distr.ppf(1-alpha, df)\n",
        "    else:\n",
        "        print('Wrong alternative hypothesis chosen!')\n",
        "        print(80*'-' + '\\n')\n",
        "        t, p_value, t_crit_L, t_crit_R = np.nan, np.nan, np.nan, np.nan\n",
        "        return(t, p_value, t_crit_L, t_crit_R)\n",
        "    # Effect size:\n",
        "    d_s = t * np.sqrt(1/n)\n",
        "    print('t = {:.4g}, p-value = {:.4g}, t.crit.L = {:.4g}, t.crit.R = {:.4g}, df = {:.4g}'.format(t, p_value, t_crit_L, t_crit_R, df))\n",
        "    print('Effect size: d.s = {:.3g}; benchmarks |d.s|: 0.2 = small, 0.5 = medium, 0.8 = large'.format(d_s))\n",
        "    print(80*'-' + '\\n')\n",
        "    return(t, p_value, t_crit_L, t_crit_R)\n",
        "\n"
      ]
    },
    {
      "attachments": {},
      "cell_type": "markdown",
      "metadata": {},
      "source": [
        "### H1: Among those who had done the kideny transplant, Is diabetic people life exptencency less than people who are non-diabetic?"
      ]
    },
    {
      "cell_type": "code",
      "execution_count": 66,
      "metadata": {},
      "outputs": [
        {
          "name": "stdout",
          "output_type": "stream",
          "text": [
            "--------------------------------------------------------------------------------\n",
            "1-sample t-test for 1 mean:\n",
            "     assuming Normal(mu, sigma2) data for dataset\n",
            "y.av = 23.5, mu* = 21.6, s2 = 575, n = 106, alpha = 0.05\n",
            "H0: mu  = mu*\n",
            "H1: mu  < mu*\n",
            "t = 0.8201, p-value = 0.793, t.crit.L = -1.659, t.crit.R = inf, df = 105\n",
            "Effect size: d.s = 0.0797; benchmarks |d.s|: 0.2 = small, 0.5 = medium, 0.8 = large\n",
            "--------------------------------------------------------------------------------\n",
            "\n"
          ]
        },
        {
          "data": {
            "text/plain": [
              "(0.820115504895369, 0.7929959390602865, -1.6594953833914656, inf)"
            ]
          },
          "execution_count": 66,
          "metadata": {},
          "output_type": "execute_result"
        }
      ],
      "source": [
        "y_diabetes = df_patients[(df_patients[\"death\"] == 1) & (df_patients[\"diabetes\"] == 1)][\"death_time\"].tolist()\n",
        "DS_1sample_ttest_means(y_diabetes, popmean=21.58, alternative = 'less', alpha=0.05)"
      ]
    },
    {
      "attachments": {},
      "cell_type": "markdown",
      "metadata": {},
      "source": [
        "<span style=\"color:pink\">Explanation: </span>Since the p-value = 0.793 > 0.05, the death time is not significantly less than non-diabetic people.\n",
        "Consequently, we cannot accept hypothesis H1. "
      ]
    },
    {
      "attachments": {},
      "cell_type": "markdown",
      "metadata": {},
      "source": [
        "---"
      ]
    },
    {
      "attachments": {},
      "cell_type": "markdown",
      "metadata": {},
      "source": [
        "### H1: Among those who had done the kideny transplant, Is overweight(high BMI) people life exptencency less than people who are not obese?"
      ]
    },
    {
      "cell_type": "code",
      "execution_count": 67,
      "metadata": {},
      "outputs": [
        {
          "name": "stdout",
          "output_type": "stream",
          "text": [
            "--------------------------------------------------------------------------------\n",
            "1-sample t-test for 1 mean:\n",
            "     assuming Normal(mu, sigma2) data for dataset\n",
            "y.av = 18.3, mu* = 21.6, s2 = 450, n = 108, alpha = 0.05\n",
            "H0: mu  = mu*\n",
            "H1: mu  < mu*\n",
            "t = -1.587, p-value = 0.05777, t.crit.L = -1.659, t.crit.R = inf, df = 107\n",
            "Effect size: d.s = -0.153; benchmarks |d.s|: 0.2 = small, 0.5 = medium, 0.8 = large\n",
            "--------------------------------------------------------------------------------\n",
            "\n"
          ]
        },
        {
          "data": {
            "text/plain": [
              "(-1.5866201102497826, 0.05777480701316954, -1.6592193118671423, inf)"
            ]
          },
          "execution_count": 67,
          "metadata": {},
          "output_type": "execute_result"
        }
      ],
      "source": [
        "\n",
        "y_overweight = df_patients[(df_patients[\"death\"] == 1) & (df_patients[\"overweight\"] == 1)][\"death_time\"].tolist()\n",
        "DS_1sample_ttest_means(y_overweight, popmean=21.58, alternative = 'less', alpha=0.05)"
      ]
    },
    {
      "attachments": {},
      "cell_type": "markdown",
      "metadata": {},
      "source": [
        "<span style=\"color:pink\">Explanation: </span>Since the p-value = 0.05777 > 0.05, According to the previous consideration in this research, the p-value is almost 0.05 and we cannot reject H1 so easily, so we can mention that overweight has influenced the death time after kidney transplantation."
      ]
    },
    {
      "attachments": {},
      "cell_type": "markdown",
      "metadata": {},
      "source": [
        "---"
      ]
    },
    {
      "attachments": {},
      "cell_type": "markdown",
      "metadata": {},
      "source": [
        "### H1: Among those who had done the kideny transplant, is smokers life exptencency less than people who are not smoking?"
      ]
    },
    {
      "cell_type": "code",
      "execution_count": 68,
      "metadata": {},
      "outputs": [
        {
          "name": "stdout",
          "output_type": "stream",
          "text": [
            "--------------------------------------------------------------------------------\n",
            "1-sample t-test for 1 mean:\n",
            "     assuming Normal(mu, sigma2) data for dataset\n",
            "y.av = 20.8, mu* = 21.6, s2 = 479, n = 79, alpha = 0.05\n",
            "H0: mu  = mu*\n",
            "H1: mu  < mu*\n",
            "t = -0.3126, p-value = 0.3777, t.crit.L = -1.665, t.crit.R = inf, df = 78\n",
            "Effect size: d.s = -0.0352; benchmarks |d.s|: 0.2 = small, 0.5 = medium, 0.8 = large\n",
            "--------------------------------------------------------------------------------\n",
            "\n"
          ]
        },
        {
          "data": {
            "text/plain": [
              "(-0.3125872495927805, 0.37771422847168223, -1.6646246444385244, inf)"
            ]
          },
          "execution_count": 68,
          "metadata": {},
          "output_type": "execute_result"
        }
      ],
      "source": [
        "\n",
        "y_smoking = df_patients[(df_patients[\"death\"] == 1) & (df_patients[\"smoking\"] == 1)][\"death_time\"].tolist()\n",
        "DS_1sample_ttest_means(y_smoking, popmean=21.58, alternative = 'less', alpha=0.05)"
      ]
    },
    {
      "attachments": {},
      "cell_type": "markdown",
      "metadata": {},
      "source": [
        "<span style=\"color:pink\">Explanation: </span>Since p-value = 0.3777 > 0.05 we reject H1: The death time is not significantly dependent to smoking parameter."
      ]
    },
    {
      "attachments": {},
      "cell_type": "markdown",
      "metadata": {},
      "source": [
        "---"
      ]
    },
    {
      "attachments": {},
      "cell_type": "markdown",
      "metadata": {},
      "source": [
        "### H1: Among those who had done the kideny transplant, does the type of dialysis that paitients used affect the death time or not ?"
      ]
    },
    {
      "cell_type": "code",
      "execution_count": 69,
      "metadata": {},
      "outputs": [
        {
          "name": "stdout",
          "output_type": "stream",
          "text": [
            "--------------------------------------------------------------------------------\n",
            "1-sample t-test for 1 mean:\n",
            "     assuming Normal(mu, sigma2) data for dataset\n",
            "y.av = 21.7, mu* = 21.6, s2 = 531, n = 219, alpha = 0.05\n",
            "H0: mu  = mu*\n",
            "H1: mu  < mu*\n",
            "t = 0.08202, p-value = 0.5326, t.crit.L = -1.652, t.crit.R = inf, df = 218\n",
            "Effect size: d.s = 0.00554; benchmarks |d.s|: 0.2 = small, 0.5 = medium, 0.8 = large\n",
            "--------------------------------------------------------------------------------\n",
            "\n"
          ]
        },
        {
          "data": {
            "text/plain": [
              "(0.08201904273949935, 0.5326465870257808, -1.651873372668681, inf)"
            ]
          },
          "execution_count": 69,
          "metadata": {},
          "output_type": "execute_result"
        }
      ],
      "source": [
        "y_dialysis_type = df_patients[(df_patients[\"death\"] == 1) & (df_patients[\"dialysis_type\"] == 1)][\"death_time\"].tolist()\n",
        "DS_1sample_ttest_means(y_dialysis_type, popmean=21.58, alternative = 'less', alpha=0.05)"
      ]
    },
    {
      "attachments": {},
      "cell_type": "markdown",
      "metadata": {},
      "source": [
        "<span style=\"color:pink\">Explanation: </span>Since p-value = 0.5326 > 0.05 we reject H1: The death time is not significantly dependent to dialysis type of paitients as an important parameter."
      ]
    },
    {
      "attachments": {},
      "cell_type": "markdown",
      "metadata": {},
      "source": [
        "## Part 5: Conclusion"
      ]
    },
    {
      "attachments": {},
      "cell_type": "markdown",
      "metadata": {},
      "source": [
        "To conclude, the parameters of diebtes, smoking and dialysis types are not considered as a cause of death after people has done the kidney transplantation, on the other hand, high BMI might influence the life expectancy and it's recommended to control it after the surgury."
      ]
    }
  ],
  "metadata": {
    "kernelspec": {
      "display_name": "Python 3",
      "language": "python",
      "name": "python3"
    },
    "language_info": {
      "codemirror_mode": {
        "name": "ipython",
        "version": 3
      },
      "file_extension": ".py",
      "mimetype": "text/x-python",
      "name": "python",
      "nbconvert_exporter": "python",
      "pygments_lexer": "ipython3",
      "version": "3.12.1"
    },
    "vscode": {
      "interpreter": {
        "hash": "aee8b7b246df8f9039afb4144a1f6fd8d2ca17a180786b69acc140d282b71a49"
      }
    }
  },
  "nbformat": 4,
  "nbformat_minor": 2
}
